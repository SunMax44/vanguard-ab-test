{
 "cells": [
  {
   "cell_type": "code",
   "execution_count": 1,
   "id": "40f9b09f-0092-475b-b1ed-996e34f5ff32",
   "metadata": {},
   "outputs": [],
   "source": [
    "import pandas as pd\n",
    "import matplotlib.pyplot as plt\n",
    "import seaborn as sns\n",
    "import numpy as np\n",
    "%matplotlib inline"
   ]
  },
  {
   "cell_type": "code",
   "execution_count": 2,
   "id": "03c34bf8-357c-4c39-9c58-0103847f0c6e",
   "metadata": {},
   "outputs": [],
   "source": [
    "path_client_info = \"https://raw.githubusercontent.com/data-bootcamp-v4/lessons/refs/heads/main/5_6_eda_inf_stats_tableau/project/files_for_project/df_final_demo.txt\"\n",
    "path_exp_web_data1 = \"https://raw.githubusercontent.com/data-bootcamp-v4/lessons/refs/heads/main/5_6_eda_inf_stats_tableau/project/files_for_project/df_final_web_data_pt_1.txt\"\n",
    "path_exp_web_data2 = \"https://raw.githubusercontent.com/data-bootcamp-v4/lessons/refs/heads/main/5_6_eda_inf_stats_tableau/project/files_for_project/df_final_web_data_pt_2.txt\"\n",
    "path_test_grouping = \"https://raw.githubusercontent.com/data-bootcamp-v4/lessons/refs/heads/main/5_6_eda_inf_stats_tableau/project/files_for_project/df_final_experiment_clients.txt\""
   ]
  },
  {
   "cell_type": "code",
   "execution_count": 3,
   "id": "a1d94d44-5b7f-4737-b292-19e4d2efde62",
   "metadata": {},
   "outputs": [],
   "source": [
    "df_client_info = pd.read_csv(path_client_info)"
   ]
  },
  {
   "cell_type": "code",
   "execution_count": 4,
   "id": "b627f617-b3a2-41a2-8104-5ac5ef92808c",
   "metadata": {},
   "outputs": [
    {
     "name": "stdout",
     "output_type": "stream",
     "text": [
      "<class 'pandas.core.frame.DataFrame'>\n",
      "RangeIndex: 70609 entries, 0 to 70608\n",
      "Data columns (total 9 columns):\n",
      " #   Column            Non-Null Count  Dtype  \n",
      "---  ------            --------------  -----  \n",
      " 0   client_id         70609 non-null  int64  \n",
      " 1   clnt_tenure_yr    70595 non-null  float64\n",
      " 2   clnt_tenure_mnth  70595 non-null  float64\n",
      " 3   clnt_age          70594 non-null  float64\n",
      " 4   gendr             70595 non-null  object \n",
      " 5   num_accts         70595 non-null  float64\n",
      " 6   bal               70595 non-null  float64\n",
      " 7   calls_6_mnth      70595 non-null  float64\n",
      " 8   logons_6_mnth     70595 non-null  float64\n",
      "dtypes: float64(7), int64(1), object(1)\n",
      "memory usage: 4.8+ MB\n"
     ]
    }
   ],
   "source": [
    "#check for null values\n",
    "df_client_info.info()"
   ]
  },
  {
   "cell_type": "code",
   "execution_count": 5,
   "id": "a861095f-dabe-4501-ae07-3d62caa267ec",
   "metadata": {},
   "outputs": [
    {
     "name": "stdout",
     "output_type": "stream",
     "text": [
      "<class 'pandas.core.frame.DataFrame'>\n",
      "Index: 70595 entries, 0 to 70608\n",
      "Data columns (total 9 columns):\n",
      " #   Column            Non-Null Count  Dtype  \n",
      "---  ------            --------------  -----  \n",
      " 0   client_id         70595 non-null  int64  \n",
      " 1   clnt_tenure_yr    70595 non-null  float64\n",
      " 2   clnt_tenure_mnth  70595 non-null  float64\n",
      " 3   clnt_age          70594 non-null  float64\n",
      " 4   gendr             70595 non-null  object \n",
      " 5   num_accts         70595 non-null  float64\n",
      " 6   bal               70595 non-null  float64\n",
      " 7   calls_6_mnth      70595 non-null  float64\n",
      " 8   logons_6_mnth     70595 non-null  float64\n",
      "dtypes: float64(7), int64(1), object(1)\n",
      "memory usage: 5.4+ MB\n"
     ]
    }
   ],
   "source": [
    "#dropping nan dominated rows\n",
    "df_client_info.dropna(thresh=len(df_client_info.columns) - 3,inplace=True)\n",
    "df_client_info.info()\n",
    "#14 rows / clients dropped"
   ]
  },
  {
   "cell_type": "code",
   "execution_count": 6,
   "id": "8ef8bd90-521a-4790-8ae1-c41eefb8afcd",
   "metadata": {},
   "outputs": [
    {
     "data": {
      "text/html": [
       "<div>\n",
       "<style scoped>\n",
       "    .dataframe tbody tr th:only-of-type {\n",
       "        vertical-align: middle;\n",
       "    }\n",
       "\n",
       "    .dataframe tbody tr th {\n",
       "        vertical-align: top;\n",
       "    }\n",
       "\n",
       "    .dataframe thead th {\n",
       "        text-align: right;\n",
       "    }\n",
       "</style>\n",
       "<table border=\"1\" class=\"dataframe\">\n",
       "  <thead>\n",
       "    <tr style=\"text-align: right;\">\n",
       "      <th></th>\n",
       "      <th>client_id</th>\n",
       "      <th>visitor_id</th>\n",
       "      <th>visit_id</th>\n",
       "      <th>process_step</th>\n",
       "      <th>date_time</th>\n",
       "    </tr>\n",
       "  </thead>\n",
       "  <tbody>\n",
       "    <tr>\n",
       "      <th>0</th>\n",
       "      <td>9988021</td>\n",
       "      <td>580560515_7732621733</td>\n",
       "      <td>781255054_21935453173_531117</td>\n",
       "      <td>step_3</td>\n",
       "      <td>2017-04-17 15:27:07</td>\n",
       "    </tr>\n",
       "    <tr>\n",
       "      <th>1</th>\n",
       "      <td>9988021</td>\n",
       "      <td>580560515_7732621733</td>\n",
       "      <td>781255054_21935453173_531117</td>\n",
       "      <td>step_2</td>\n",
       "      <td>2017-04-17 15:26:51</td>\n",
       "    </tr>\n",
       "    <tr>\n",
       "      <th>2</th>\n",
       "      <td>9988021</td>\n",
       "      <td>580560515_7732621733</td>\n",
       "      <td>781255054_21935453173_531117</td>\n",
       "      <td>step_3</td>\n",
       "      <td>2017-04-17 15:19:22</td>\n",
       "    </tr>\n",
       "    <tr>\n",
       "      <th>3</th>\n",
       "      <td>9988021</td>\n",
       "      <td>580560515_7732621733</td>\n",
       "      <td>781255054_21935453173_531117</td>\n",
       "      <td>step_2</td>\n",
       "      <td>2017-04-17 15:19:13</td>\n",
       "    </tr>\n",
       "    <tr>\n",
       "      <th>4</th>\n",
       "      <td>9988021</td>\n",
       "      <td>580560515_7732621733</td>\n",
       "      <td>781255054_21935453173_531117</td>\n",
       "      <td>step_3</td>\n",
       "      <td>2017-04-17 15:18:04</td>\n",
       "    </tr>\n",
       "    <tr>\n",
       "      <th>...</th>\n",
       "      <td>...</td>\n",
       "      <td>...</td>\n",
       "      <td>...</td>\n",
       "      <td>...</td>\n",
       "      <td>...</td>\n",
       "    </tr>\n",
       "    <tr>\n",
       "      <th>343136</th>\n",
       "      <td>2443347</td>\n",
       "      <td>465784886_73090545671</td>\n",
       "      <td>136329900_10529659391_316129</td>\n",
       "      <td>confirm</td>\n",
       "      <td>2017-03-31 15:15:46</td>\n",
       "    </tr>\n",
       "    <tr>\n",
       "      <th>343137</th>\n",
       "      <td>2443347</td>\n",
       "      <td>465784886_73090545671</td>\n",
       "      <td>136329900_10529659391_316129</td>\n",
       "      <td>step_3</td>\n",
       "      <td>2017-03-31 15:14:53</td>\n",
       "    </tr>\n",
       "    <tr>\n",
       "      <th>343138</th>\n",
       "      <td>2443347</td>\n",
       "      <td>465784886_73090545671</td>\n",
       "      <td>136329900_10529659391_316129</td>\n",
       "      <td>step_2</td>\n",
       "      <td>2017-03-31 15:12:08</td>\n",
       "    </tr>\n",
       "    <tr>\n",
       "      <th>343139</th>\n",
       "      <td>2443347</td>\n",
       "      <td>465784886_73090545671</td>\n",
       "      <td>136329900_10529659391_316129</td>\n",
       "      <td>step_1</td>\n",
       "      <td>2017-03-31 15:11:37</td>\n",
       "    </tr>\n",
       "    <tr>\n",
       "      <th>343140</th>\n",
       "      <td>2443347</td>\n",
       "      <td>465784886_73090545671</td>\n",
       "      <td>136329900_10529659391_316129</td>\n",
       "      <td>start</td>\n",
       "      <td>2017-03-31 15:10:47</td>\n",
       "    </tr>\n",
       "  </tbody>\n",
       "</table>\n",
       "<p>343141 rows × 5 columns</p>\n",
       "</div>"
      ],
      "text/plain": [
       "        client_id             visitor_id                      visit_id  \\\n",
       "0         9988021   580560515_7732621733  781255054_21935453173_531117   \n",
       "1         9988021   580560515_7732621733  781255054_21935453173_531117   \n",
       "2         9988021   580560515_7732621733  781255054_21935453173_531117   \n",
       "3         9988021   580560515_7732621733  781255054_21935453173_531117   \n",
       "4         9988021   580560515_7732621733  781255054_21935453173_531117   \n",
       "...           ...                    ...                           ...   \n",
       "343136    2443347  465784886_73090545671  136329900_10529659391_316129   \n",
       "343137    2443347  465784886_73090545671  136329900_10529659391_316129   \n",
       "343138    2443347  465784886_73090545671  136329900_10529659391_316129   \n",
       "343139    2443347  465784886_73090545671  136329900_10529659391_316129   \n",
       "343140    2443347  465784886_73090545671  136329900_10529659391_316129   \n",
       "\n",
       "       process_step            date_time  \n",
       "0            step_3  2017-04-17 15:27:07  \n",
       "1            step_2  2017-04-17 15:26:51  \n",
       "2            step_3  2017-04-17 15:19:22  \n",
       "3            step_2  2017-04-17 15:19:13  \n",
       "4            step_3  2017-04-17 15:18:04  \n",
       "...             ...                  ...  \n",
       "343136      confirm  2017-03-31 15:15:46  \n",
       "343137       step_3  2017-03-31 15:14:53  \n",
       "343138       step_2  2017-03-31 15:12:08  \n",
       "343139       step_1  2017-03-31 15:11:37  \n",
       "343140        start  2017-03-31 15:10:47  \n",
       "\n",
       "[343141 rows x 5 columns]"
      ]
     },
     "execution_count": 6,
     "metadata": {},
     "output_type": "execute_result"
    }
   ],
   "source": [
    "#load second table, the experiment's web data table 1\n",
    "df_exp_web_data1 = pd.read_csv(path_exp_web_data1)\n",
    "df_exp_web_data1\n",
    "#343141 rows"
   ]
  },
  {
   "cell_type": "code",
   "execution_count": null,
   "id": "62f1a2d1-1492-42c1-b8af-e19c637f5422",
   "metadata": {},
   "outputs": [],
   "source": [
    "#load third table, the experiment's web data table 2\n",
    "df_exp_web_data2 = pd.read_csv(path_exp_web_data2)\n",
    "df_exp_web_data2\n",
    "#412264 rows"
   ]
  },
  {
   "cell_type": "code",
   "execution_count": null,
   "id": "6689181c-f504-47ae-9f2a-82a744608f55",
   "metadata": {},
   "outputs": [],
   "source": [
    "#merge the two experiment tables via concat:\n",
    "df_exp_web_data = pd.concat([df_exp_web_data1, df_exp_web_data2], axis=0)\n",
    "df_exp_web_data\n",
    "#755405 rows"
   ]
  },
  {
   "cell_type": "code",
   "execution_count": null,
   "id": "970388f6-674d-437b-9ce5-78d23926ef34",
   "metadata": {},
   "outputs": [],
   "source": [
    "df_exp_web_data['client_id'].nunique()\n",
    "#120k clients, why?"
   ]
  },
  {
   "cell_type": "code",
   "execution_count": null,
   "id": "cc15fcea-5bb0-4de1-b268-f8aadc38aaeb",
   "metadata": {},
   "outputs": [],
   "source": [
    "#check fourth table of test grouping info per client\n",
    "df_ab_test_grouping = pd.read_csv(path_test_grouping)\n",
    "df_ab_test_grouping\n",
    "#70609 rows -> matches with number of client_ids in df_client_info"
   ]
  },
  {
   "cell_type": "code",
   "execution_count": null,
   "id": "700fe544-5c26-4c95-bfda-7f28f4de1207",
   "metadata": {},
   "outputs": [],
   "source": [
    "#check for NaN values:\n",
    "df_ab_test_grouping.isna().sum()\n",
    "# 0 NaNs for client_id but 20109 for Variation -> 20k of 70k clients did not\n",
    "#participate in the test?"
   ]
  },
  {
   "cell_type": "code",
   "execution_count": null,
   "id": "dd1140fd-edf2-449b-9675-2fcd479dd370",
   "metadata": {},
   "outputs": [],
   "source": [
    "#Finally cut out the customers that are not participating in the A/B trials\n",
    "participation_df = df_ab_test_grouping[~df_ab_test_grouping['Variation'].isnull()]\n",
    "participation_df\n",
    "#50500 clients left"
   ]
  },
  {
   "cell_type": "code",
   "execution_count": null,
   "id": "43ce15bd-56a9-44e4-b2a2-d51a6c28d81c",
   "metadata": {},
   "outputs": [],
   "source": [
    "#retrieve client_ids of the 50.500 participating clients and check if apparent in merged web experiment table, if yes\n",
    "#filter to only keep these for our experiment analysis\n",
    "participation_filter = participation_df[\"client_id\"].values\n",
    "df_exp_web_data_filtered = df_exp_web_data[df_exp_web_data['client_id'].isin(participation_filter)]\n",
    "df_exp_web_data_filtered\n",
    "#321309 rows left"
   ]
  },
  {
   "cell_type": "code",
   "execution_count": null,
   "id": "8693be61-7803-4eb3-98a3-25b1bb7fe2f6",
   "metadata": {},
   "outputs": [],
   "source": [
    "#check number of remaining clients\n",
    "df_exp_web_data_filtered[\"client_id\"].nunique()\n",
    "#50.500; initially 120157 clients in web_exp data -> 69657 completely new clients within\n",
    "#the web_exp data but why? are there client_ids in the web_exp that are not in the two other tables?\n",
    "# the additional 49548 clients will be kicked out by the analysis of the test result anyways, \n",
    "#as they dont have a test grouping"
   ]
  },
  {
   "cell_type": "code",
   "execution_count": null,
   "id": "ab8fe8ff-47a8-4b91-b63f-91f5b524aa6f",
   "metadata": {},
   "outputs": [],
   "source": [
    "#Further EDA & Cleaning: check relationship between client_id, visitor_id and visit_id in web_exp_ table:\n",
    "df_exp_web_data_filtered"
   ]
  },
  {
   "cell_type": "code",
   "execution_count": null,
   "id": "f87461e2-548f-48a1-b933-33de40543f97",
   "metadata": {},
   "outputs": [],
   "source": [
    "#merge info about grouping (test vs. control) of clients into web experiment data\n",
    "df_web_exp = df_exp_web_data_filtered.merge(participation_df, on='client_id', how='left')\n",
    "df_web_exp['Variation'].value_counts()\n",
    "#Test       177847\n",
    "#Control    143462"
   ]
  },
  {
   "cell_type": "code",
   "execution_count": null,
   "id": "160a852e-ca0a-4fcd-afee-f4f303851307",
   "metadata": {},
   "outputs": [],
   "source": [
    "df_web_exp.info() #321309 entries\n",
    "df_web_exp['visitor_id'].nunique() #56011 -> ~500 more than client_id"
   ]
  },
  {
   "cell_type": "code",
   "execution_count": null,
   "id": "449950fc-dfed-4892-86c5-21dc7f60dde8",
   "metadata": {},
   "outputs": [],
   "source": [
    "#check for visitor_ids with multiple client ids:\n",
    "#group by 'visitor_id'\n",
    "grouped = df_web_exp.groupby('visitor_id')\n",
    "\n",
    "#find groups where 'Variation' has more than one unique value\n",
    "ambiguous_visitors = grouped.filter(lambda x: x['Variation'].nunique() > 1)\n",
    "\n",
    "#get unique visitor IDs from confusing groups\n",
    "ambiguous_visitor_ids = ambiguous_visitors['visitor_id'].unique()\n",
    "\n",
    "#output the result\n",
    "print(f\"Visitor_id groups with more than one unique 'Variation' value: {len(ambiguous_visitor_ids)}\")\n",
    "#print(f\"List of ambiguous visitor group IDs: {ambiguous_visitor_ids}\")\n",
    "#185 ambiguous visitor_ids"
   ]
  },
  {
   "cell_type": "code",
   "execution_count": null,
   "id": "a5a55609-de6b-4fa2-9648-faf3efdb14a8",
   "metadata": {},
   "outputs": [],
   "source": [
    "#example check\n",
    "df_web_exp[df_web_exp['visitor_id'] == '454881699_42713236223']"
   ]
  },
  {
   "cell_type": "code",
   "execution_count": null,
   "id": "5a2b7929-466a-433d-8e9b-16d7b6c21594",
   "metadata": {},
   "outputs": [],
   "source": [
    "#as they have different variations but the same visitor_id (same device?) and even the same\n",
    "#visit_id (sessions?) in some cases we have to get rid of these 185 visitor_ids\n",
    "#from 185 visitor_ids that have more than one variation take the client ids into a drop list\n",
    "client_ids_to_drop = []\n",
    "for visitor_id in ambiguous_visitor_ids:\n",
    "    for i in range(len(df_web_exp[df_web_exp['visitor_id'] == f'{visitor_id}']['client_id'].unique())):\n",
    "        client_ids_to_drop.append(df_web_exp[df_web_exp['visitor_id'] == f'{visitor_id}']['client_id'].unique()[i])"
   ]
  },
  {
   "cell_type": "code",
   "execution_count": null,
   "id": "5c69665d-6209-4866-b50a-f96eee8d8eb7",
   "metadata": {},
   "outputs": [],
   "source": [
    "# Drop rows where client_id is in client_ids_to_drop\n",
    "df_web_exp = df_web_exp[~df_web_exp['client_id'].isin(client_ids_to_drop)]\n",
    "#df_web_exp.info() #318872 entries, before 321309 ->3k process steps / timestamps dropped\n",
    "df_web_exp['visitor_id'].nunique() #55788, before 56011 -> 230 clients dropped"
   ]
  },
  {
   "cell_type": "code",
   "execution_count": null,
   "id": "826b82ab-ad47-41b3-b404-2efb1c53487e",
   "metadata": {},
   "outputs": [],
   "source": [
    "## CSV Creation\n",
    "\n",
    "df_web_exp.to_csv('data_web_exp.csv',index=False)\n",
    "df_client_info.to_csv('data_client_info.csv',index=False)\n",
    "df_ab_test_grouping.to_csv('data_ab_test_grouping.csv',index=False)"
   ]
  }
 ],
 "metadata": {
  "kernelspec": {
   "display_name": "Python 3 (ipykernel)",
   "language": "python",
   "name": "python3"
  },
  "language_info": {
   "codemirror_mode": {
    "name": "ipython",
    "version": 3
   },
   "file_extension": ".py",
   "mimetype": "text/x-python",
   "name": "python",
   "nbconvert_exporter": "python",
   "pygments_lexer": "ipython3",
   "version": "3.12.4"
  }
 },
 "nbformat": 4,
 "nbformat_minor": 5
}
