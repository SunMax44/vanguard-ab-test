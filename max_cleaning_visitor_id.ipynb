{
 "cells": [
  {
   "cell_type": "code",
   "execution_count": 99,
   "id": "9c5c41c8-d42a-419b-b76b-9446d700adf0",
   "metadata": {},
   "outputs": [],
   "source": [
    "import pandas as pd\n",
    "import matplotlib.pyplot as plt\n",
    "import seaborn as sns\n",
    "import numpy as np\n",
    "%matplotlib inline"
   ]
  },
  {
   "cell_type": "code",
   "execution_count": 9,
   "id": "22be8e97-fe87-40e5-9e08-0dfbfc0c1d8a",
   "metadata": {},
   "outputs": [
    {
     "data": {
      "text/plain": [
       "process_step\n",
       "start      202439\n",
       "step_1     135733\n",
       "step_2     110366\n",
       "step_3      92714\n",
       "confirm     85631\n",
       "Name: count, dtype: int64"
      ]
     },
     "execution_count": 9,
     "metadata": {},
     "output_type": "execute_result"
    }
   ],
   "source": [
    "df_final_web_data_cc = pd.read_csv('cleaned_data/df_final_web_data_cc_clean.csv')\n",
    "df_final_web_data_cc['process_step'].value_counts()"
   ]
  },
  {
   "cell_type": "code",
   "execution_count": 8,
   "id": "05f9026c-6d25-4bb0-9642-1886fe913a8f",
   "metadata": {},
   "outputs": [
    {
     "name": "stdout",
     "output_type": "stream",
     "text": [
      "The following client_ids map to multiple visitor_ids:\n",
      "client_id\n",
      "1643       2\n",
      "1680       2\n",
      "4653       2\n",
      "6130       3\n",
      "7367       2\n",
      "          ..\n",
      "9996088    2\n",
      "9996404    2\n",
      "9997470    2\n",
      "9998342    2\n",
      "9999729    3\n",
      "Name: visitor_id, Length: 7841, dtype: int64\n"
     ]
    }
   ],
   "source": [
    "#check if client_id always has the same visitor_id:\n",
    "\n",
    "# Group by 'client_id' and calculate the number of unique 'visitor_id' values\n",
    "unique_visitor_counts = df_final_web_data_cc.groupby('client_id')['visitor_id'].nunique()\n",
    "\n",
    "# Check if every 'client_id' has only 1 unique 'visitor_id'\n",
    "consistent_mapping = unique_visitor_counts == 1\n",
    "\n",
    "# Print any inconsistencies\n",
    "if consistent_mapping.all():\n",
    "    print(\"All client_ids always map to the same visitor_id.\")\n",
    "else:\n",
    "    inconsistent_clients = unique_visitor_counts[unique_visitor_counts > 1]\n",
    "    print(\"The following client_ids map to multiple visitor_ids:\")\n",
    "    print(inconsistent_clients)\n",
    "\n",
    "\n",
    "#actually not important as later on we found to assume that visitor_id should represent the device and cleint_ids are indeed unique"
   ]
  },
  {
   "cell_type": "code",
   "execution_count": 101,
   "id": "d8565a8d-7f6c-4077-baf9-8a534ddea189",
   "metadata": {},
   "outputs": [
    {
     "data": {
      "text/plain": [
       "Variation\n",
       "Test       177847\n",
       "Control    143462\n",
       "Name: count, dtype: int64"
      ]
     },
     "execution_count": 101,
     "metadata": {},
     "output_type": "execute_result"
    }
   ],
   "source": [
    "df_experiment_clients = pd.read_csv('cleaned_data/df_final_experiment_clients_clean.csv')\n",
    "df_experiment_clients\n",
    "\n",
    "df_web_ex = df_final_web_data_cc.merge(df_experiment_clients, on='client_id', how='left')\n",
    "df_web_ex['Variation'].value_counts()"
   ]
  },
  {
   "cell_type": "code",
   "execution_count": 107,
   "id": "07bad9ef-0634-418d-b7c5-54e1d0c2bc1b",
   "metadata": {
    "scrolled": true
   },
   "outputs": [
    {
     "name": "stdout",
     "output_type": "stream",
     "text": [
      "<class 'pandas.core.frame.DataFrame'>\n",
      "RangeIndex: 626883 entries, 0 to 626882\n",
      "Data columns (total 6 columns):\n",
      " #   Column        Non-Null Count   Dtype \n",
      "---  ------        --------------   ----- \n",
      " 0   client_id     626883 non-null  int64 \n",
      " 1   visitor_id    626883 non-null  object\n",
      " 2   visit_id      626883 non-null  object\n",
      " 3   process_step  626883 non-null  object\n",
      " 4   date_time     626883 non-null  object\n",
      " 5   Variation     321309 non-null  object\n",
      "dtypes: int64(1), object(5)\n",
      "memory usage: 28.7+ MB\n"
     ]
    }
   ],
   "source": [
    "df_web_ex.info() #626.883 entries\n",
    "df_web_ex['visitor_id'].nunique() 108.216"
   ]
  },
  {
   "cell_type": "code",
   "execution_count": 86,
   "id": "cacbb162-7638-49e7-96f0-bdfc88bacfcd",
   "metadata": {},
   "outputs": [
    {
     "name": "stdout",
     "output_type": "stream",
     "text": [
      "Confusing visitor_id groups with more than one unique 'Variation' value: 185\n",
      "List of ambiguous visitor group IDs: ['2304489_84317775004' '604581053_81626830443' '173063648_31762200101'\n",
      " '268059948_82733858999' '123678861_93517709373' '454881699_42713236223'\n",
      " '580100142_70760670940' '579276105_69624603060' '571763490_44880124691'\n",
      " '367561835_85025056674' '666714263_61824030337' '214050749_58021197086'\n",
      " '253357465_8352028794' '486653995_31818439461' '96089498_16066779499'\n",
      " '199312490_38692028695' '686457792_50130641082' '60396051_9457024068'\n",
      " '738569748_4014232718' '423015939_19738622602' '571853589_19816269571'\n",
      " '652206951_94195881749' '952443163_11112691478' '26252461_90603995066'\n",
      " '198039515_32206414676' '280197097_2758137299' '824327020_10372883807'\n",
      " '435478449_41974372268' '105986634_15115236135' '266717833_98903612091'\n",
      " '869851118_61172024661' '531755_55417899190' '358981391_35001155514'\n",
      " '876787826_20478980103' '989197874_24115340213' '667315159_68457727652'\n",
      " '67620593_47154145788' '453734227_6478687119' '828261927_29115272840'\n",
      " '349911763_2743984623' '710765917_90350210282' '369746880_4081376173'\n",
      " '742732319_30179284921' '879656945_472859462' '865240682_80882863295'\n",
      " '731074017_39926173574' '522165507_38250457327' '641780648_33957975522'\n",
      " '125249697_1426097618' '483394654_10382243831' '150113863_95115330977'\n",
      " '579588113_28837973292' '898345416_58800215574' '554557284_71171052205'\n",
      " '831907020_87640192013' '100636834_70620124872' '64192008_9208684632'\n",
      " '266011884_84652463200' '728221144_94480286254' '136361015_51931191096'\n",
      " '201070743_75287297947' '814878585_87733461603' '230917770_27549530931'\n",
      " '359123374_20630500168' '56272988_75581321852' '994556188_95260212644'\n",
      " '866312388_73494860691' '727325631_36890797487' '564089844_86272916049'\n",
      " '246494405_59313361171' '555107613_4315691224' '702205992_96613546585'\n",
      " '443968866_7180828659' '447381795_2977752189' '670445700_89189940902'\n",
      " '319422670_89780464038' '620995333_87282116310' '339507880_58752688605'\n",
      " '316342363_76799839413' '872104674_15165385285' '374419535_18748432073'\n",
      " '721521850_92225199965' '124364695_72848638784' '13858321_69002501216'\n",
      " '624059242_35711297508' '801892005_64520303565' '143038172_18564060779'\n",
      " '208048562_5591648325' '173834802_47633932352' '489537091_37607083854'\n",
      " '364532756_23035453354' '715134556_3689324169' '419445242_20282067887'\n",
      " '515293465_79062923389' '252133277_24978497089' '851864656_64225757002'\n",
      " '791666474_2976739026' '33210666_23000744533' '685653394_18664342532'\n",
      " '202558708_31306231455' '275094252_28070777384' '597725035_76241412375'\n",
      " '715708644_45733496608' '574575487_83860481655' '750679946_76269049083'\n",
      " '443645082_45004362608' '495370566_92227402790' '171258082_39293731405'\n",
      " '431137771_30820552080' '46057190_73156858230' '129784163_53998921269'\n",
      " '364224873_85854438978' '485248849_1456705396' '995658764_57249134716'\n",
      " '229961975_94441052546' '606840453_42896616341' '488561860_71157152182'\n",
      " '405860854_50357449812' '498582584_15371353016' '993860627_38915998531'\n",
      " '146829942_93862649145' '770471846_77622401441' '982616761_11732633016'\n",
      " '932762317_34159534713' '417276895_69369014179' '617092724_97774211250'\n",
      " '903307072_18441566115' '294105339_7410508106' '525656394_43763375348'\n",
      " '322042761_23435445054' '254175251_5339168232' '752897007_42234991237'\n",
      " '952016734_77137532935' '249534686_24890657021' '533487441_49881025237'\n",
      " '750899226_48469477780' '541000283_89047083445' '381789213_30254245920'\n",
      " '947497725_77096950125' '737706569_89534042583' '632056465_76580399949'\n",
      " '370355571_45480330346' '298088877_58723391200' '765403089_80118370684'\n",
      " '880619007_85129147759' '298337353_71717595917' '856935182_79424736651'\n",
      " '376531209_83463282404' '476723878_70182400167' '174108540_192155950'\n",
      " '873345447_13166065086' '529942715_14364280313' '456466578_18564150655'\n",
      " '267061486_54270904504' '394247857_56670565004' '218226723_99637625742'\n",
      " '295350877_84669787354' '737710614_45595106000' '101002710_46550496480'\n",
      " '941956515_47380266549' '494497404_19580991399' '341266459_82107407773'\n",
      " '959657282_41264437824' '958989901_59795798277' '450757286_43171167841'\n",
      " '859172692_10047439610' '739324800_32877575794' '202767349_28104895584'\n",
      " '605916977_57543976623' '935631547_5523892762' '972190267_89053808634'\n",
      " '949412682_71166792883' '946722350_66149339902' '916735778_65669058968'\n",
      " '615551339_87154719076' '747615758_96811508581' '998389409_35306819556'\n",
      " '386546813_81776454991' '260077691_71977603647' '939629798_29489970890'\n",
      " '763556762_2909608449' '206581063_60792309171' '1738850_35364551433'\n",
      " '74117540_85871955464' '196946330_75352149649']\n"
     ]
    }
   ],
   "source": [
    "# Step 1: Group by 'visitor_id'\n",
    "grouped = df_web_ex.groupby('visitor_id')\n",
    "\n",
    "# Step 2: Find groups where 'Variation' has more than one unique value\n",
    "ambiguous_visitors = grouped.filter(lambda x: x['Variation'].nunique() > 1)\n",
    "\n",
    "# Step 3: Get unique visitor IDs from confusing groups\n",
    "ambiguous_visitor_ids = ambiguous_visitors['visitor_id'].unique()\n",
    "\n",
    "# Output the result\n",
    "print(f\"Confusing visitor_id groups with more than one unique 'Variation' value: {len(ambiguous_visitor_ids)}\")\n",
    "print(f\"List of ambiguous visitor group IDs: {ambiguous_visitor_ids}\")"
   ]
  },
  {
   "cell_type": "code",
   "execution_count": 91,
   "id": "aa9e24bc-2ed5-481c-a06d-a93f38066b6c",
   "metadata": {},
   "outputs": [
    {
     "data": {
      "text/html": [
       "<div>\n",
       "<style scoped>\n",
       "    .dataframe tbody tr th:only-of-type {\n",
       "        vertical-align: middle;\n",
       "    }\n",
       "\n",
       "    .dataframe tbody tr th {\n",
       "        vertical-align: top;\n",
       "    }\n",
       "\n",
       "    .dataframe thead th {\n",
       "        text-align: right;\n",
       "    }\n",
       "</style>\n",
       "<table border=\"1\" class=\"dataframe\">\n",
       "  <thead>\n",
       "    <tr style=\"text-align: right;\">\n",
       "      <th></th>\n",
       "      <th>client_id</th>\n",
       "      <th>visitor_id</th>\n",
       "      <th>visit_id</th>\n",
       "      <th>process_step</th>\n",
       "      <th>date_time</th>\n",
       "      <th>Variation</th>\n",
       "    </tr>\n",
       "  </thead>\n",
       "  <tbody>\n",
       "    <tr>\n",
       "      <th>3667</th>\n",
       "      <td>7460349</td>\n",
       "      <td>454881699_42713236223</td>\n",
       "      <td>399371316_39189899496_559976</td>\n",
       "      <td>step_1</td>\n",
       "      <td>2017-04-05 16:14:01</td>\n",
       "      <td>Control</td>\n",
       "    </tr>\n",
       "    <tr>\n",
       "      <th>3668</th>\n",
       "      <td>7460349</td>\n",
       "      <td>454881699_42713236223</td>\n",
       "      <td>399371316_39189899496_559976</td>\n",
       "      <td>step_1</td>\n",
       "      <td>2017-04-05 16:13:30</td>\n",
       "      <td>Control</td>\n",
       "    </tr>\n",
       "    <tr>\n",
       "      <th>3669</th>\n",
       "      <td>7460349</td>\n",
       "      <td>454881699_42713236223</td>\n",
       "      <td>399371316_39189899496_559976</td>\n",
       "      <td>step_1</td>\n",
       "      <td>2017-04-05 16:12:55</td>\n",
       "      <td>Control</td>\n",
       "    </tr>\n",
       "    <tr>\n",
       "      <th>3670</th>\n",
       "      <td>7460349</td>\n",
       "      <td>454881699_42713236223</td>\n",
       "      <td>399371316_39189899496_559976</td>\n",
       "      <td>start</td>\n",
       "      <td>2017-04-05 16:12:36</td>\n",
       "      <td>Control</td>\n",
       "    </tr>\n",
       "    <tr>\n",
       "      <th>195402</th>\n",
       "      <td>7208557</td>\n",
       "      <td>454881699_42713236223</td>\n",
       "      <td>399371316_39189899496_559976</td>\n",
       "      <td>start</td>\n",
       "      <td>2017-04-05 16:19:36</td>\n",
       "      <td>Test</td>\n",
       "    </tr>\n",
       "    <tr>\n",
       "      <th>195403</th>\n",
       "      <td>7208557</td>\n",
       "      <td>454881699_42713236223</td>\n",
       "      <td>399371316_39189899496_559976</td>\n",
       "      <td>step_2</td>\n",
       "      <td>2017-04-05 16:15:33</td>\n",
       "      <td>Test</td>\n",
       "    </tr>\n",
       "    <tr>\n",
       "      <th>195404</th>\n",
       "      <td>7208557</td>\n",
       "      <td>454881699_42713236223</td>\n",
       "      <td>399371316_39189899496_559976</td>\n",
       "      <td>step_1</td>\n",
       "      <td>2017-04-05 16:15:03</td>\n",
       "      <td>Test</td>\n",
       "    </tr>\n",
       "    <tr>\n",
       "      <th>195405</th>\n",
       "      <td>7208557</td>\n",
       "      <td>454881699_42713236223</td>\n",
       "      <td>399371316_39189899496_559976</td>\n",
       "      <td>start</td>\n",
       "      <td>2017-04-05 16:14:55</td>\n",
       "      <td>Test</td>\n",
       "    </tr>\n",
       "    <tr>\n",
       "      <th>480674</th>\n",
       "      <td>7208557</td>\n",
       "      <td>454881699_42713236223</td>\n",
       "      <td>430342294_16750074009_383709</td>\n",
       "      <td>start</td>\n",
       "      <td>2017-05-01 18:24:00</td>\n",
       "      <td>Test</td>\n",
       "    </tr>\n",
       "    <tr>\n",
       "      <th>480675</th>\n",
       "      <td>7208557</td>\n",
       "      <td>454881699_42713236223</td>\n",
       "      <td>430342294_16750074009_383709</td>\n",
       "      <td>step_2</td>\n",
       "      <td>2017-05-01 18:20:31</td>\n",
       "      <td>Test</td>\n",
       "    </tr>\n",
       "    <tr>\n",
       "      <th>480676</th>\n",
       "      <td>7208557</td>\n",
       "      <td>454881699_42713236223</td>\n",
       "      <td>430342294_16750074009_383709</td>\n",
       "      <td>step_1</td>\n",
       "      <td>2017-05-01 18:19:48</td>\n",
       "      <td>Test</td>\n",
       "    </tr>\n",
       "    <tr>\n",
       "      <th>480677</th>\n",
       "      <td>7208557</td>\n",
       "      <td>454881699_42713236223</td>\n",
       "      <td>430342294_16750074009_383709</td>\n",
       "      <td>start</td>\n",
       "      <td>2017-05-01 18:19:44</td>\n",
       "      <td>Test</td>\n",
       "    </tr>\n",
       "  </tbody>\n",
       "</table>\n",
       "</div>"
      ],
      "text/plain": [
       "        client_id             visitor_id                      visit_id  \\\n",
       "3667      7460349  454881699_42713236223  399371316_39189899496_559976   \n",
       "3668      7460349  454881699_42713236223  399371316_39189899496_559976   \n",
       "3669      7460349  454881699_42713236223  399371316_39189899496_559976   \n",
       "3670      7460349  454881699_42713236223  399371316_39189899496_559976   \n",
       "195402    7208557  454881699_42713236223  399371316_39189899496_559976   \n",
       "195403    7208557  454881699_42713236223  399371316_39189899496_559976   \n",
       "195404    7208557  454881699_42713236223  399371316_39189899496_559976   \n",
       "195405    7208557  454881699_42713236223  399371316_39189899496_559976   \n",
       "480674    7208557  454881699_42713236223  430342294_16750074009_383709   \n",
       "480675    7208557  454881699_42713236223  430342294_16750074009_383709   \n",
       "480676    7208557  454881699_42713236223  430342294_16750074009_383709   \n",
       "480677    7208557  454881699_42713236223  430342294_16750074009_383709   \n",
       "\n",
       "       process_step            date_time Variation  \n",
       "3667         step_1  2017-04-05 16:14:01   Control  \n",
       "3668         step_1  2017-04-05 16:13:30   Control  \n",
       "3669         step_1  2017-04-05 16:12:55   Control  \n",
       "3670          start  2017-04-05 16:12:36   Control  \n",
       "195402        start  2017-04-05 16:19:36      Test  \n",
       "195403       step_2  2017-04-05 16:15:33      Test  \n",
       "195404       step_1  2017-04-05 16:15:03      Test  \n",
       "195405        start  2017-04-05 16:14:55      Test  \n",
       "480674        start  2017-05-01 18:24:00      Test  \n",
       "480675       step_2  2017-05-01 18:20:31      Test  \n",
       "480676       step_1  2017-05-01 18:19:48      Test  \n",
       "480677        start  2017-05-01 18:19:44      Test  "
      ]
     },
     "execution_count": 91,
     "metadata": {},
     "output_type": "execute_result"
    }
   ],
   "source": [
    "df_web_ex[df_web_ex['visitor_id'] == '454881699_42713236223']"
   ]
  },
  {
   "cell_type": "code",
   "execution_count": 91,
   "id": "c696f980-f541-4f47-b356-c4b7be47b1d0",
   "metadata": {},
   "outputs": [
    {
     "data": {
      "text/plain": [
       "372"
      ]
     },
     "execution_count": 91,
     "metadata": {},
     "output_type": "execute_result"
    }
   ],
   "source": [
    "#getting rid of the clients with the ambiguous visitor_ids\n",
    "#from 185 visitor_ids that have more than one variation take the client ids into a drop list\n",
    "client_ids_to_drop = []\n",
    "for visitor_id in ambiguous_visitor_ids:\n",
    "    for i in range(len(df_web_ex[df_web_ex['visitor_id'] == f'{visitor_id}']['client_id'].unique())):\n",
    "        client_ids_to_drop.append(df_web_ex[df_web_ex['visitor_id'] == f'{visitor_id}']['client_id'].unique()[i])\n",
    "len(client_ids_to_drop)\n",
    "#372 client_ids to drop           "
   ]
  },
  {
   "cell_type": "code",
   "execution_count": 97,
   "id": "11221c93-0ad7-4e36-80ea-6c083d1a0f41",
   "metadata": {},
   "outputs": [
    {
     "name": "stdout",
     "output_type": "stream",
     "text": [
      "<class 'pandas.core.frame.DataFrame'>\n",
      "Index: 624446 entries, 0 to 626882\n",
      "Data columns (total 6 columns):\n",
      " #   Column        Non-Null Count   Dtype \n",
      "---  ------        --------------   ----- \n",
      " 0   client_id     624446 non-null  int64 \n",
      " 1   visitor_id    624446 non-null  object\n",
      " 2   visit_id      624446 non-null  object\n",
      " 3   process_step  624446 non-null  object\n",
      " 4   date_time     624446 non-null  object\n",
      " 5   Variation     318872 non-null  object\n",
      "dtypes: int64(1), object(5)\n",
      "memory usage: 33.3+ MB\n"
     ]
    },
    {
     "data": {
      "text/plain": [
       "107993"
      ]
     },
     "execution_count": 97,
     "metadata": {},
     "output_type": "execute_result"
    }
   ],
   "source": [
    "# Drop rows where client_id is in client_ids_to_drop\n",
    "df_web_ex = df_web_ex[~df_web_ex['client_id'].isin(client_ids_to_drop)]\n",
    "df_web_ex.info() #624.446 entries, before 626.883\n",
    "df_web_ex['visitor_id'].nunique() #107.993 before 108216"
   ]
  },
  {
   "cell_type": "code",
   "execution_count": 109,
   "id": "03b03533-edf3-4d0f-af48-31c9632d9eb6",
   "metadata": {},
   "outputs": [],
   "source": [
    "df_web_ex.to_csv('df_web_ex_cleaned_part2_visitor_ids.csv', index=False)"
   ]
  },
  {
   "cell_type": "code",
   "execution_count": null,
   "id": "72ccd2bb-b970-459d-8950-7def211d8314",
   "metadata": {},
   "outputs": [],
   "source": []
  }
 ],
 "metadata": {
  "kernelspec": {
   "display_name": "Python 3 (ipykernel)",
   "language": "python",
   "name": "python3"
  },
  "language_info": {
   "codemirror_mode": {
    "name": "ipython",
    "version": 3
   },
   "file_extension": ".py",
   "mimetype": "text/x-python",
   "name": "python",
   "nbconvert_exporter": "python",
   "pygments_lexer": "ipython3",
   "version": "3.12.4"
  }
 },
 "nbformat": 4,
 "nbformat_minor": 5
}
