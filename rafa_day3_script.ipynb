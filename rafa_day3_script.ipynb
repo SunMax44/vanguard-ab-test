{
 "cells": [
  {
   "cell_type": "code",
   "execution_count": 2,
   "id": "15c38afc-9c24-4679-a17b-9f60d2a26535",
   "metadata": {},
   "outputs": [],
   "source": [
    "import pandas as pd\n",
    "import matplotlib.pyplot as plt\n",
    "import seaborn as sns\n",
    "import numpy as np"
   ]
  },
  {
   "cell_type": "code",
   "execution_count": 3,
   "id": "4e6bbe1a-b5d4-4be5-8ba3-5a963e53c67d",
   "metadata": {},
   "outputs": [
    {
     "data": {
      "text/html": [
       "<div>\n",
       "<style scoped>\n",
       "    .dataframe tbody tr th:only-of-type {\n",
       "        vertical-align: middle;\n",
       "    }\n",
       "\n",
       "    .dataframe tbody tr th {\n",
       "        vertical-align: top;\n",
       "    }\n",
       "\n",
       "    .dataframe thead th {\n",
       "        text-align: right;\n",
       "    }\n",
       "</style>\n",
       "<table border=\"1\" class=\"dataframe\">\n",
       "  <thead>\n",
       "    <tr style=\"text-align: right;\">\n",
       "      <th></th>\n",
       "      <th>client_id</th>\n",
       "      <th>visitor_id</th>\n",
       "      <th>visit_id</th>\n",
       "      <th>process_step</th>\n",
       "      <th>date_time</th>\n",
       "    </tr>\n",
       "  </thead>\n",
       "  <tbody>\n",
       "    <tr>\n",
       "      <th>0</th>\n",
       "      <td>9988021</td>\n",
       "      <td>580560515_7732621733</td>\n",
       "      <td>781255054_21935453173_531117</td>\n",
       "      <td>step_3</td>\n",
       "      <td>2017-04-17 15:27:07</td>\n",
       "    </tr>\n",
       "    <tr>\n",
       "      <th>1</th>\n",
       "      <td>9988021</td>\n",
       "      <td>580560515_7732621733</td>\n",
       "      <td>781255054_21935453173_531117</td>\n",
       "      <td>step_2</td>\n",
       "      <td>2017-04-17 15:26:51</td>\n",
       "    </tr>\n",
       "    <tr>\n",
       "      <th>2</th>\n",
       "      <td>9988021</td>\n",
       "      <td>580560515_7732621733</td>\n",
       "      <td>781255054_21935453173_531117</td>\n",
       "      <td>step_3</td>\n",
       "      <td>2017-04-17 15:19:22</td>\n",
       "    </tr>\n",
       "  </tbody>\n",
       "</table>\n",
       "</div>"
      ],
      "text/plain": [
       "   client_id            visitor_id                      visit_id process_step  \\\n",
       "0    9988021  580560515_7732621733  781255054_21935453173_531117       step_3   \n",
       "1    9988021  580560515_7732621733  781255054_21935453173_531117       step_2   \n",
       "2    9988021  580560515_7732621733  781255054_21935453173_531117       step_3   \n",
       "\n",
       "             date_time  \n",
       "0  2017-04-17 15:27:07  \n",
       "1  2017-04-17 15:26:51  \n",
       "2  2017-04-17 15:19:22  "
      ]
     },
     "execution_count": 3,
     "metadata": {},
     "output_type": "execute_result"
    }
   ],
   "source": [
    "### OLD VERSION\n",
    "# Load the CSV file from the data folder in the repo\n",
    "df_timestamps = pd.read_csv('cleaned_data/df_final_web_data_cc_clean.csv')\n",
    "\n",
    "# Display the DataFrame\n",
    "df_timestamps.head(3)"
   ]
  },
  {
   "cell_type": "code",
   "execution_count": 4,
   "id": "1f37d482-9990-416a-bf08-7c93094b56b8",
   "metadata": {},
   "outputs": [
    {
     "data": {
      "text/plain": [
       "(624446, 6)"
      ]
     },
     "execution_count": 4,
     "metadata": {},
     "output_type": "execute_result"
    }
   ],
   "source": [
    "### CURRENT VERSION\n",
    "\n",
    "# Load the CSV file from the data folder in the repo\n",
    "df_timestamps_clean = pd.read_csv('cleaned_data/df_web_ex_cleaned_part2_visitor_ids.csv')\n",
    "\n",
    "# Display the DataFrame\n",
    "df_timestamps_clean.shape"
   ]
  },
  {
   "cell_type": "code",
   "execution_count": 5,
   "id": "7e54ef79-b5ce-43e6-8d88-8a8bcdbb5cf4",
   "metadata": {},
   "outputs": [],
   "source": [
    "df_timestamps_clean['date_time'] = pd.to_datetime(df_timestamps_clean['date_time'])"
   ]
  },
  {
   "cell_type": "code",
   "execution_count": 6,
   "id": "8f149389-4078-4f63-9394-e9ae22317319",
   "metadata": {},
   "outputs": [
    {
     "data": {
      "text/html": [
       "<div>\n",
       "<style scoped>\n",
       "    .dataframe tbody tr th:only-of-type {\n",
       "        vertical-align: middle;\n",
       "    }\n",
       "\n",
       "    .dataframe tbody tr th {\n",
       "        vertical-align: top;\n",
       "    }\n",
       "\n",
       "    .dataframe thead th {\n",
       "        text-align: right;\n",
       "    }\n",
       "</style>\n",
       "<table border=\"1\" class=\"dataframe\">\n",
       "  <thead>\n",
       "    <tr style=\"text-align: right;\">\n",
       "      <th></th>\n",
       "      <th>client_id</th>\n",
       "      <th>visitor_id</th>\n",
       "      <th>visit_id</th>\n",
       "      <th>process_step</th>\n",
       "      <th>date_time</th>\n",
       "      <th>Variation</th>\n",
       "    </tr>\n",
       "  </thead>\n",
       "  <tbody>\n",
       "    <tr>\n",
       "      <th>0</th>\n",
       "      <td>9988021</td>\n",
       "      <td>580560515_7732621733</td>\n",
       "      <td>781255054_21935453173_531117</td>\n",
       "      <td>step_3</td>\n",
       "      <td>2017-04-17 15:27:07</td>\n",
       "      <td>Test</td>\n",
       "    </tr>\n",
       "    <tr>\n",
       "      <th>1</th>\n",
       "      <td>9988021</td>\n",
       "      <td>580560515_7732621733</td>\n",
       "      <td>781255054_21935453173_531117</td>\n",
       "      <td>step_2</td>\n",
       "      <td>2017-04-17 15:26:51</td>\n",
       "      <td>Test</td>\n",
       "    </tr>\n",
       "  </tbody>\n",
       "</table>\n",
       "</div>"
      ],
      "text/plain": [
       "   client_id            visitor_id                      visit_id process_step  \\\n",
       "0    9988021  580560515_7732621733  781255054_21935453173_531117       step_3   \n",
       "1    9988021  580560515_7732621733  781255054_21935453173_531117       step_2   \n",
       "\n",
       "            date_time Variation  \n",
       "0 2017-04-17 15:27:07      Test  \n",
       "1 2017-04-17 15:26:51      Test  "
      ]
     },
     "execution_count": 6,
     "metadata": {},
     "output_type": "execute_result"
    }
   ],
   "source": [
    "df_timestamps_clean.head(2)"
   ]
  },
  {
   "cell_type": "code",
   "execution_count": 7,
   "id": "44cf33e3-8b15-4ade-b8e9-5b2c9d94aa05",
   "metadata": {},
   "outputs": [],
   "source": [
    "df_timestamps_clean = df_timestamps_clean.sort_values(by=['visit_id', 'date_time'])"
   ]
  },
  {
   "cell_type": "code",
   "execution_count": 8,
   "id": "ce59e7c1-48a8-4175-92d1-6f103164d60a",
   "metadata": {},
   "outputs": [
    {
     "data": {
      "text/html": [
       "<div>\n",
       "<style scoped>\n",
       "    .dataframe tbody tr th:only-of-type {\n",
       "        vertical-align: middle;\n",
       "    }\n",
       "\n",
       "    .dataframe tbody tr th {\n",
       "        vertical-align: top;\n",
       "    }\n",
       "\n",
       "    .dataframe thead th {\n",
       "        text-align: right;\n",
       "    }\n",
       "</style>\n",
       "<table border=\"1\" class=\"dataframe\">\n",
       "  <thead>\n",
       "    <tr style=\"text-align: right;\">\n",
       "      <th></th>\n",
       "      <th>client_id</th>\n",
       "      <th>visitor_id</th>\n",
       "      <th>visit_id</th>\n",
       "      <th>process_step</th>\n",
       "      <th>date_time</th>\n",
       "      <th>Variation</th>\n",
       "    </tr>\n",
       "  </thead>\n",
       "  <tbody>\n",
       "    <tr>\n",
       "      <th>107773</th>\n",
       "      <td>3561384</td>\n",
       "      <td>451664975_1722933822</td>\n",
       "      <td>100012776_37918976071_457913</td>\n",
       "      <td>confirm</td>\n",
       "      <td>2017-04-26 13:22:17</td>\n",
       "      <td>Test</td>\n",
       "    </tr>\n",
       "    <tr>\n",
       "      <th>107772</th>\n",
       "      <td>3561384</td>\n",
       "      <td>451664975_1722933822</td>\n",
       "      <td>100012776_37918976071_457913</td>\n",
       "      <td>confirm</td>\n",
       "      <td>2017-04-26 13:23:09</td>\n",
       "      <td>Test</td>\n",
       "    </tr>\n",
       "  </tbody>\n",
       "</table>\n",
       "</div>"
      ],
      "text/plain": [
       "        client_id            visitor_id                      visit_id  \\\n",
       "107773    3561384  451664975_1722933822  100012776_37918976071_457913   \n",
       "107772    3561384  451664975_1722933822  100012776_37918976071_457913   \n",
       "\n",
       "       process_step           date_time Variation  \n",
       "107773      confirm 2017-04-26 13:22:17      Test  \n",
       "107772      confirm 2017-04-26 13:23:09      Test  "
      ]
     },
     "execution_count": 8,
     "metadata": {},
     "output_type": "execute_result"
    }
   ],
   "source": [
    "df_timestamps_clean.head(2)"
   ]
  },
  {
   "cell_type": "code",
   "execution_count": 9,
   "id": "1ed22ffa-3cbf-4afd-9e07-eb56cf3351c1",
   "metadata": {},
   "outputs": [],
   "source": [
    "df_timestamps_clean = df_timestamps_clean.dropna(subset=['Variation'])"
   ]
  },
  {
   "cell_type": "code",
   "execution_count": 10,
   "id": "bc0227b6-3ad2-4abe-8852-0bc7bc9e7aee",
   "metadata": {},
   "outputs": [
    {
     "data": {
      "text/html": [
       "<div>\n",
       "<style scoped>\n",
       "    .dataframe tbody tr th:only-of-type {\n",
       "        vertical-align: middle;\n",
       "    }\n",
       "\n",
       "    .dataframe tbody tr th {\n",
       "        vertical-align: top;\n",
       "    }\n",
       "\n",
       "    .dataframe thead th {\n",
       "        text-align: right;\n",
       "    }\n",
       "</style>\n",
       "<table border=\"1\" class=\"dataframe\">\n",
       "  <thead>\n",
       "    <tr style=\"text-align: right;\">\n",
       "      <th></th>\n",
       "      <th>client_id</th>\n",
       "      <th>visitor_id</th>\n",
       "      <th>visit_id</th>\n",
       "      <th>process_step</th>\n",
       "      <th>date_time</th>\n",
       "      <th>Variation</th>\n",
       "    </tr>\n",
       "  </thead>\n",
       "  <tbody>\n",
       "    <tr>\n",
       "      <th>107773</th>\n",
       "      <td>3561384</td>\n",
       "      <td>451664975_1722933822</td>\n",
       "      <td>100012776_37918976071_457913</td>\n",
       "      <td>confirm</td>\n",
       "      <td>2017-04-26 13:22:17</td>\n",
       "      <td>Test</td>\n",
       "    </tr>\n",
       "    <tr>\n",
       "      <th>107772</th>\n",
       "      <td>3561384</td>\n",
       "      <td>451664975_1722933822</td>\n",
       "      <td>100012776_37918976071_457913</td>\n",
       "      <td>confirm</td>\n",
       "      <td>2017-04-26 13:23:09</td>\n",
       "      <td>Test</td>\n",
       "    </tr>\n",
       "  </tbody>\n",
       "</table>\n",
       "</div>"
      ],
      "text/plain": [
       "        client_id            visitor_id                      visit_id  \\\n",
       "107773    3561384  451664975_1722933822  100012776_37918976071_457913   \n",
       "107772    3561384  451664975_1722933822  100012776_37918976071_457913   \n",
       "\n",
       "       process_step           date_time Variation  \n",
       "107773      confirm 2017-04-26 13:22:17      Test  \n",
       "107772      confirm 2017-04-26 13:23:09      Test  "
      ]
     },
     "execution_count": 10,
     "metadata": {},
     "output_type": "execute_result"
    }
   ],
   "source": [
    "df_timestamps_clean.head(2)"
   ]
  },
  {
   "cell_type": "code",
   "execution_count": 11,
   "id": "2f88d589-56f2-4add-b5b4-54acaf1164f3",
   "metadata": {},
   "outputs": [],
   "source": [
    "### Filtering DF for only Test group customers\n",
    "\n",
    "df_timestamps_clean_v_test = df_timestamps_clean[(df_timestamps_clean['Variation'] == \"Test\")]"
   ]
  },
  {
   "cell_type": "code",
   "execution_count": 12,
   "id": "19be2294-5e77-4ed8-9a56-6fcc431bf1d1",
   "metadata": {},
   "outputs": [],
   "source": [
    "## Filtering DF for only Test group customers\n",
    "\n",
    "df_timestamps_clean_v_control = df_timestamps_clean[(df_timestamps_clean['Variation'] == \"Control\")]"
   ]
  },
  {
   "cell_type": "code",
   "execution_count": 13,
   "id": "b22e4ec8-c51f-4fdc-8825-bbe6199721f2",
   "metadata": {},
   "outputs": [
    {
     "data": {
      "text/html": [
       "<div>\n",
       "<style scoped>\n",
       "    .dataframe tbody tr th:only-of-type {\n",
       "        vertical-align: middle;\n",
       "    }\n",
       "\n",
       "    .dataframe tbody tr th {\n",
       "        vertical-align: top;\n",
       "    }\n",
       "\n",
       "    .dataframe thead th {\n",
       "        text-align: right;\n",
       "    }\n",
       "</style>\n",
       "<table border=\"1\" class=\"dataframe\">\n",
       "  <thead>\n",
       "    <tr style=\"text-align: right;\">\n",
       "      <th></th>\n",
       "      <th>client_id</th>\n",
       "      <th>visitor_id</th>\n",
       "      <th>visit_id</th>\n",
       "      <th>process_step</th>\n",
       "      <th>date_time</th>\n",
       "      <th>Variation</th>\n",
       "    </tr>\n",
       "  </thead>\n",
       "  <tbody>\n",
       "    <tr>\n",
       "      <th>107773</th>\n",
       "      <td>3561384</td>\n",
       "      <td>451664975_1722933822</td>\n",
       "      <td>100012776_37918976071_457913</td>\n",
       "      <td>confirm</td>\n",
       "      <td>2017-04-26 13:22:17</td>\n",
       "      <td>Test</td>\n",
       "    </tr>\n",
       "    <tr>\n",
       "      <th>107772</th>\n",
       "      <td>3561384</td>\n",
       "      <td>451664975_1722933822</td>\n",
       "      <td>100012776_37918976071_457913</td>\n",
       "      <td>confirm</td>\n",
       "      <td>2017-04-26 13:23:09</td>\n",
       "      <td>Test</td>\n",
       "    </tr>\n",
       "  </tbody>\n",
       "</table>\n",
       "</div>"
      ],
      "text/plain": [
       "        client_id            visitor_id                      visit_id  \\\n",
       "107773    3561384  451664975_1722933822  100012776_37918976071_457913   \n",
       "107772    3561384  451664975_1722933822  100012776_37918976071_457913   \n",
       "\n",
       "       process_step           date_time Variation  \n",
       "107773      confirm 2017-04-26 13:22:17      Test  \n",
       "107772      confirm 2017-04-26 13:23:09      Test  "
      ]
     },
     "execution_count": 13,
     "metadata": {},
     "output_type": "execute_result"
    }
   ],
   "source": [
    "df_timestamps_clean_v_test.head(2)"
   ]
  },
  {
   "cell_type": "code",
   "execution_count": 14,
   "id": "215e45bb-657e-4d23-9af9-7e7eaf62d65b",
   "metadata": {},
   "outputs": [],
   "source": [
    "step_list = [\"start\", \"step_1\", \"step_2\", \"step_3\", \"confirm\"]"
   ]
  },
  {
   "cell_type": "code",
   "execution_count": 15,
   "id": "cfb08f76-4e4a-494b-9d63-6385434494ab",
   "metadata": {},
   "outputs": [],
   "source": [
    "### Create a helper column, in order to access the previous step of the same visitor id\n",
    "\n",
    "df_timestamps_clean['previous_step'] = df_timestamps_clean.groupby('visit_id')['process_step'].shift(1)\n",
    "df_timestamps_clean['previous_date_time'] = df_timestamps_clean.groupby('visit_id')['date_time'].shift(1)"
   ]
  },
  {
   "cell_type": "code",
   "execution_count": 16,
   "id": "46fc0afd-6174-4fa6-b50d-3fed610d11c6",
   "metadata": {},
   "outputs": [
    {
     "name": "stderr",
     "output_type": "stream",
     "text": [
      "C:\\Users\\rafae\\AppData\\Local\\Temp\\ipykernel_29284\\1026909670.py:1: SettingWithCopyWarning: \n",
      "A value is trying to be set on a copy of a slice from a DataFrame.\n",
      "Try using .loc[row_indexer,col_indexer] = value instead\n",
      "\n",
      "See the caveats in the documentation: https://pandas.pydata.org/pandas-docs/stable/user_guide/indexing.html#returning-a-view-versus-a-copy\n",
      "  df_timestamps_clean_v_test['previous_step'] = df_timestamps_clean_v_test.groupby('visit_id')['process_step'].shift(1)\n",
      "C:\\Users\\rafae\\AppData\\Local\\Temp\\ipykernel_29284\\1026909670.py:2: SettingWithCopyWarning: \n",
      "A value is trying to be set on a copy of a slice from a DataFrame.\n",
      "Try using .loc[row_indexer,col_indexer] = value instead\n",
      "\n",
      "See the caveats in the documentation: https://pandas.pydata.org/pandas-docs/stable/user_guide/indexing.html#returning-a-view-versus-a-copy\n",
      "  df_timestamps_clean_v_test['previous_date_time'] = df_timestamps_clean_v_test.groupby('visit_id')['date_time'].shift(1)\n"
     ]
    }
   ],
   "source": [
    "df_timestamps_clean_v_test['previous_step'] = df_timestamps_clean_v_test.groupby('visit_id')['process_step'].shift(1)\n",
    "df_timestamps_clean_v_test['previous_date_time'] = df_timestamps_clean_v_test.groupby('visit_id')['date_time'].shift(1)"
   ]
  },
  {
   "cell_type": "code",
   "execution_count": 17,
   "id": "2baba169-f26c-476d-9ae7-15f927c92851",
   "metadata": {},
   "outputs": [
    {
     "name": "stderr",
     "output_type": "stream",
     "text": [
      "C:\\Users\\rafae\\AppData\\Local\\Temp\\ipykernel_29284\\3805293047.py:1: SettingWithCopyWarning: \n",
      "A value is trying to be set on a copy of a slice from a DataFrame.\n",
      "Try using .loc[row_indexer,col_indexer] = value instead\n",
      "\n",
      "See the caveats in the documentation: https://pandas.pydata.org/pandas-docs/stable/user_guide/indexing.html#returning-a-view-versus-a-copy\n",
      "  df_timestamps_clean_v_control['previous_step'] = df_timestamps_clean_v_control.groupby('visit_id')['process_step'].shift(1)\n",
      "C:\\Users\\rafae\\AppData\\Local\\Temp\\ipykernel_29284\\3805293047.py:2: SettingWithCopyWarning: \n",
      "A value is trying to be set on a copy of a slice from a DataFrame.\n",
      "Try using .loc[row_indexer,col_indexer] = value instead\n",
      "\n",
      "See the caveats in the documentation: https://pandas.pydata.org/pandas-docs/stable/user_guide/indexing.html#returning-a-view-versus-a-copy\n",
      "  df_timestamps_clean_v_control['previous_date_time'] = df_timestamps_clean_v_control.groupby('visit_id')['date_time'].shift(1)\n"
     ]
    }
   ],
   "source": [
    "df_timestamps_clean_v_control['previous_step'] = df_timestamps_clean_v_control.groupby('visit_id')['process_step'].shift(1)\n",
    "df_timestamps_clean_v_control['previous_date_time'] = df_timestamps_clean_v_control.groupby('visit_id')['date_time'].shift(1)"
   ]
  },
  {
   "cell_type": "code",
   "execution_count": 18,
   "id": "9a849317-447b-4063-97ac-50a2e44fc5c3",
   "metadata": {},
   "outputs": [
    {
     "data": {
      "text/html": [
       "<div>\n",
       "<style scoped>\n",
       "    .dataframe tbody tr th:only-of-type {\n",
       "        vertical-align: middle;\n",
       "    }\n",
       "\n",
       "    .dataframe tbody tr th {\n",
       "        vertical-align: top;\n",
       "    }\n",
       "\n",
       "    .dataframe thead th {\n",
       "        text-align: right;\n",
       "    }\n",
       "</style>\n",
       "<table border=\"1\" class=\"dataframe\">\n",
       "  <thead>\n",
       "    <tr style=\"text-align: right;\">\n",
       "      <th></th>\n",
       "      <th>client_id</th>\n",
       "      <th>visitor_id</th>\n",
       "      <th>visit_id</th>\n",
       "      <th>process_step</th>\n",
       "      <th>date_time</th>\n",
       "      <th>Variation</th>\n",
       "      <th>previous_step</th>\n",
       "      <th>previous_date_time</th>\n",
       "    </tr>\n",
       "  </thead>\n",
       "  <tbody>\n",
       "    <tr>\n",
       "      <th>237496</th>\n",
       "      <td>105007</td>\n",
       "      <td>676020267_36602664238</td>\n",
       "      <td>100030127_47967100085_936361</td>\n",
       "      <td>start</td>\n",
       "      <td>2017-03-22 11:07:49</td>\n",
       "      <td>Control</td>\n",
       "      <td>NaN</td>\n",
       "      <td>NaT</td>\n",
       "    </tr>\n",
       "    <tr>\n",
       "      <th>27304</th>\n",
       "      <td>5623007</td>\n",
       "      <td>700426174_33289797318</td>\n",
       "      <td>100037962_47432393712_705583</td>\n",
       "      <td>start</td>\n",
       "      <td>2017-04-14 16:41:51</td>\n",
       "      <td>Control</td>\n",
       "      <td>NaN</td>\n",
       "      <td>NaT</td>\n",
       "    </tr>\n",
       "    <tr>\n",
       "      <th>27303</th>\n",
       "      <td>5623007</td>\n",
       "      <td>700426174_33289797318</td>\n",
       "      <td>100037962_47432393712_705583</td>\n",
       "      <td>start</td>\n",
       "      <td>2017-04-14 16:43:16</td>\n",
       "      <td>Control</td>\n",
       "      <td>start</td>\n",
       "      <td>2017-04-14 16:41:51</td>\n",
       "    </tr>\n",
       "    <tr>\n",
       "      <th>27302</th>\n",
       "      <td>5623007</td>\n",
       "      <td>700426174_33289797318</td>\n",
       "      <td>100037962_47432393712_705583</td>\n",
       "      <td>step_1</td>\n",
       "      <td>2017-04-14 16:43:55</td>\n",
       "      <td>Control</td>\n",
       "      <td>start</td>\n",
       "      <td>2017-04-14 16:43:16</td>\n",
       "    </tr>\n",
       "    <tr>\n",
       "      <th>27301</th>\n",
       "      <td>5623007</td>\n",
       "      <td>700426174_33289797318</td>\n",
       "      <td>100037962_47432393712_705583</td>\n",
       "      <td>start</td>\n",
       "      <td>2017-04-14 16:44:03</td>\n",
       "      <td>Control</td>\n",
       "      <td>step_1</td>\n",
       "      <td>2017-04-14 16:43:55</td>\n",
       "    </tr>\n",
       "  </tbody>\n",
       "</table>\n",
       "</div>"
      ],
      "text/plain": [
       "        client_id             visitor_id                      visit_id  \\\n",
       "237496     105007  676020267_36602664238  100030127_47967100085_936361   \n",
       "27304     5623007  700426174_33289797318  100037962_47432393712_705583   \n",
       "27303     5623007  700426174_33289797318  100037962_47432393712_705583   \n",
       "27302     5623007  700426174_33289797318  100037962_47432393712_705583   \n",
       "27301     5623007  700426174_33289797318  100037962_47432393712_705583   \n",
       "\n",
       "       process_step           date_time Variation previous_step  \\\n",
       "237496        start 2017-03-22 11:07:49   Control           NaN   \n",
       "27304         start 2017-04-14 16:41:51   Control           NaN   \n",
       "27303         start 2017-04-14 16:43:16   Control         start   \n",
       "27302        step_1 2017-04-14 16:43:55   Control         start   \n",
       "27301         start 2017-04-14 16:44:03   Control        step_1   \n",
       "\n",
       "        previous_date_time  \n",
       "237496                 NaT  \n",
       "27304                  NaT  \n",
       "27303  2017-04-14 16:41:51  \n",
       "27302  2017-04-14 16:43:16  \n",
       "27301  2017-04-14 16:43:55  "
      ]
     },
     "execution_count": 18,
     "metadata": {},
     "output_type": "execute_result"
    }
   ],
   "source": [
    "df_timestamps_clean_v_control.head(5)"
   ]
  },
  {
   "cell_type": "code",
   "execution_count": 19,
   "id": "73045b00-5b56-4b2a-871c-76bf48c90bfd",
   "metadata": {},
   "outputs": [],
   "source": [
    "def get_time_spent(row):\n",
    "    step_list = [\"start\", \"step_1\", \"step_2\", \"step_3\", \"confirm\"]\n",
    "    \n",
    "    # Get the current and previous steps\n",
    "    current_step = row[\"process_step\"]\n",
    "    previous_step = row[\"previous_step\"]\n",
    "\n",
    "    # Ensure the current step is valid and find the expected previous step\n",
    "    if current_step in step_list:\n",
    "        current_pos_index = step_list.index(current_step)\n",
    "        \n",
    "        # If it's not the first step, find the expected previous step\n",
    "        if current_pos_index > 0:\n",
    "            expected_previous_step = step_list[current_pos_index - 1]\n",
    "        else:\n",
    "            expected_previous_step = None\n",
    "    else:\n",
    "        expected_previous_step = None\n",
    "\n",
    "    # We consider it to not be an error until provided otherwise (in the next step)\n",
    "    row[\"error_flag\"] = False\n",
    "    \n",
    "    # Validate that the previous step matches the expected step\n",
    "    if previous_step == expected_previous_step:\n",
    "        # Calculate the time difference if the previous step is valid\n",
    "        row[\"time_spent_seconds\"] = (row[\"date_time\"] - row[\"previous_date_time\"]).total_seconds()\n",
    "\n",
    "    ### Edge Case: A start follows after a confirm; not an Error case\n",
    "    elif current_step == \"start\" and previous_step == \"confirm\":\n",
    "        row[\"error_flag\"] = False\n",
    "        row[\"time_spent_seconds\"] = None\n",
    "    else:\n",
    "        # If the previous step is not valid, set time_spent_seconds to NaN or some default value\n",
    "        row[\"time_spent_seconds\"] = None\n",
    "\n",
    "        #Turns the flag into True (signaling that it is an error, unless the step is a start)\n",
    "        #if current_step == \"start\":\n",
    "        if not previous_step and current_step == \"start\":\n",
    "            row[\"error_flag\"] = np.nan\n",
    "        else:\n",
    "            row[\"error_flag\"] = True\n",
    "        \n",
    "    \n",
    "    return row"
   ]
  },
  {
   "cell_type": "code",
   "execution_count": 20,
   "id": "f7a1e951-0bf4-4e9f-aaad-17e18a3d6b48",
   "metadata": {},
   "outputs": [],
   "source": [
    "### EXECUTE ORDER 66\n",
    "\n",
    "#df_timestamps_clean = df_timestamps_clean.apply(get_time_spent, axis=1)\n",
    "df_timestamps_clean_v_test = df_timestamps_clean_v_test.apply(get_time_spent, axis=1)\n",
    "df_timestamps_clean_v_control = df_timestamps_clean_v_control.apply(get_time_spent, axis=1)"
   ]
  },
  {
   "cell_type": "code",
   "execution_count": 21,
   "id": "c79b447a-7951-4f1f-8b2b-e73b2185c00d",
   "metadata": {},
   "outputs": [
    {
     "data": {
      "text/html": [
       "<div>\n",
       "<style scoped>\n",
       "    .dataframe tbody tr th:only-of-type {\n",
       "        vertical-align: middle;\n",
       "    }\n",
       "\n",
       "    .dataframe tbody tr th {\n",
       "        vertical-align: top;\n",
       "    }\n",
       "\n",
       "    .dataframe thead th {\n",
       "        text-align: right;\n",
       "    }\n",
       "</style>\n",
       "<table border=\"1\" class=\"dataframe\">\n",
       "  <thead>\n",
       "    <tr style=\"text-align: right;\">\n",
       "      <th></th>\n",
       "      <th>client_id</th>\n",
       "      <th>visitor_id</th>\n",
       "      <th>visit_id</th>\n",
       "      <th>process_step</th>\n",
       "      <th>date_time</th>\n",
       "      <th>Variation</th>\n",
       "      <th>previous_step</th>\n",
       "      <th>previous_date_time</th>\n",
       "      <th>error_flag</th>\n",
       "      <th>time_spent_seconds</th>\n",
       "    </tr>\n",
       "  </thead>\n",
       "  <tbody>\n",
       "    <tr>\n",
       "      <th>107773</th>\n",
       "      <td>3561384</td>\n",
       "      <td>451664975_1722933822</td>\n",
       "      <td>100012776_37918976071_457913</td>\n",
       "      <td>confirm</td>\n",
       "      <td>2017-04-26 13:22:17</td>\n",
       "      <td>Test</td>\n",
       "      <td>NaN</td>\n",
       "      <td>NaT</td>\n",
       "      <td>True</td>\n",
       "      <td>NaN</td>\n",
       "    </tr>\n",
       "    <tr>\n",
       "      <th>107772</th>\n",
       "      <td>3561384</td>\n",
       "      <td>451664975_1722933822</td>\n",
       "      <td>100012776_37918976071_457913</td>\n",
       "      <td>confirm</td>\n",
       "      <td>2017-04-26 13:23:09</td>\n",
       "      <td>Test</td>\n",
       "      <td>confirm</td>\n",
       "      <td>2017-04-26 13:22:17</td>\n",
       "      <td>True</td>\n",
       "      <td>NaN</td>\n",
       "    </tr>\n",
       "  </tbody>\n",
       "</table>\n",
       "</div>"
      ],
      "text/plain": [
       "        client_id            visitor_id                      visit_id  \\\n",
       "107773    3561384  451664975_1722933822  100012776_37918976071_457913   \n",
       "107772    3561384  451664975_1722933822  100012776_37918976071_457913   \n",
       "\n",
       "       process_step           date_time Variation previous_step  \\\n",
       "107773      confirm 2017-04-26 13:22:17      Test           NaN   \n",
       "107772      confirm 2017-04-26 13:23:09      Test       confirm   \n",
       "\n",
       "        previous_date_time  error_flag  time_spent_seconds  \n",
       "107773                 NaT        True                 NaN  \n",
       "107772 2017-04-26 13:22:17        True                 NaN  "
      ]
     },
     "execution_count": 21,
     "metadata": {},
     "output_type": "execute_result"
    }
   ],
   "source": [
    "df_timestamps_clean_v_test.head(2)"
   ]
  },
  {
   "cell_type": "code",
   "execution_count": 22,
   "id": "c099a416-f565-4b1d-bc03-07d899bf033c",
   "metadata": {},
   "outputs": [
    {
     "data": {
      "text/html": [
       "<div>\n",
       "<style scoped>\n",
       "    .dataframe tbody tr th:only-of-type {\n",
       "        vertical-align: middle;\n",
       "    }\n",
       "\n",
       "    .dataframe tbody tr th {\n",
       "        vertical-align: top;\n",
       "    }\n",
       "\n",
       "    .dataframe thead th {\n",
       "        text-align: right;\n",
       "    }\n",
       "</style>\n",
       "<table border=\"1\" class=\"dataframe\">\n",
       "  <thead>\n",
       "    <tr style=\"text-align: right;\">\n",
       "      <th></th>\n",
       "      <th>client_id</th>\n",
       "      <th>visitor_id</th>\n",
       "      <th>visit_id</th>\n",
       "      <th>process_step</th>\n",
       "      <th>date_time</th>\n",
       "      <th>Variation</th>\n",
       "      <th>previous_step</th>\n",
       "      <th>previous_date_time</th>\n",
       "      <th>error_flag</th>\n",
       "      <th>time_spent_seconds</th>\n",
       "    </tr>\n",
       "  </thead>\n",
       "  <tbody>\n",
       "    <tr>\n",
       "      <th>237496</th>\n",
       "      <td>105007</td>\n",
       "      <td>676020267_36602664238</td>\n",
       "      <td>100030127_47967100085_936361</td>\n",
       "      <td>start</td>\n",
       "      <td>2017-03-22 11:07:49</td>\n",
       "      <td>Control</td>\n",
       "      <td>NaN</td>\n",
       "      <td>NaT</td>\n",
       "      <td>True</td>\n",
       "      <td>NaN</td>\n",
       "    </tr>\n",
       "    <tr>\n",
       "      <th>27304</th>\n",
       "      <td>5623007</td>\n",
       "      <td>700426174_33289797318</td>\n",
       "      <td>100037962_47432393712_705583</td>\n",
       "      <td>start</td>\n",
       "      <td>2017-04-14 16:41:51</td>\n",
       "      <td>Control</td>\n",
       "      <td>NaN</td>\n",
       "      <td>NaT</td>\n",
       "      <td>True</td>\n",
       "      <td>NaN</td>\n",
       "    </tr>\n",
       "  </tbody>\n",
       "</table>\n",
       "</div>"
      ],
      "text/plain": [
       "        client_id             visitor_id                      visit_id  \\\n",
       "237496     105007  676020267_36602664238  100030127_47967100085_936361   \n",
       "27304     5623007  700426174_33289797318  100037962_47432393712_705583   \n",
       "\n",
       "       process_step           date_time Variation previous_step  \\\n",
       "237496        start 2017-03-22 11:07:49   Control           NaN   \n",
       "27304         start 2017-04-14 16:41:51   Control           NaN   \n",
       "\n",
       "       previous_date_time  error_flag  time_spent_seconds  \n",
       "237496                NaT        True                 NaN  \n",
       "27304                 NaT        True                 NaN  "
      ]
     },
     "execution_count": 22,
     "metadata": {},
     "output_type": "execute_result"
    }
   ],
   "source": [
    "df_timestamps_clean_v_control.head(2)"
   ]
  },
  {
   "cell_type": "code",
   "execution_count": 23,
   "id": "0af25698-08c1-4cff-9596-47c7e89057a8",
   "metadata": {},
   "outputs": [
    {
     "data": {
      "text/plain": [
       "error_flag\n",
       "False    102904\n",
       "True      73661\n",
       "Name: count, dtype: int64"
      ]
     },
     "execution_count": 23,
     "metadata": {},
     "output_type": "execute_result"
    }
   ],
   "source": [
    "df_timestamps_clean_v_test['error_flag'].value_counts()"
   ]
  },
  {
   "cell_type": "code",
   "execution_count": 24,
   "id": "68db5460-b0d6-459d-b365-0c461809c05f",
   "metadata": {},
   "outputs": [
    {
     "name": "stderr",
     "output_type": "stream",
     "text": [
      "C:\\Users\\rafae\\AppData\\Local\\Temp\\ipykernel_29284\\534756045.py:2: FutureWarning: Series.__getitem__ treating keys as positions is deprecated. In a future version, integer keys will always be treated as labels (consistent with DataFrame behavior). To access a value by position, use `ser.iloc[pos]`\n",
      "  df_timestamps_clean_v_test['error_flag'].value_counts()[1] / df_timestamps_clean_v_test['error_flag'].value_counts()[0] * 100\n"
     ]
    },
    {
     "data": {
      "text/plain": [
       "71.58225141879811"
      ]
     },
     "execution_count": 24,
     "metadata": {},
     "output_type": "execute_result"
    }
   ],
   "source": [
    "### % Percentage of Errors in Test\n",
    "df_timestamps_clean_v_test['error_flag'].value_counts()[1] / df_timestamps_clean_v_test['error_flag'].value_counts()[0] * 100"
   ]
  },
  {
   "cell_type": "code",
   "execution_count": 25,
   "id": "e0cde47a-e509-42bf-aadd-3b01f01963e6",
   "metadata": {},
   "outputs": [
    {
     "data": {
      "text/plain": [
       "error_flag\n",
       "False    84428\n",
       "True     57879\n",
       "Name: count, dtype: int64"
      ]
     },
     "execution_count": 25,
     "metadata": {},
     "output_type": "execute_result"
    }
   ],
   "source": [
    "df_timestamps_clean_v_control['error_flag'].value_counts()"
   ]
  },
  {
   "cell_type": "code",
   "execution_count": 26,
   "id": "1332def8-d12b-4796-b9f1-d0b936d12d07",
   "metadata": {},
   "outputs": [
    {
     "name": "stderr",
     "output_type": "stream",
     "text": [
      "C:\\Users\\rafae\\AppData\\Local\\Temp\\ipykernel_29284\\1973556789.py:2: FutureWarning: Series.__getitem__ treating keys as positions is deprecated. In a future version, integer keys will always be treated as labels (consistent with DataFrame behavior). To access a value by position, use `ser.iloc[pos]`\n",
      "  df_timestamps_clean_v_control['error_flag'].value_counts()[1] / df_timestamps_clean_v_control['error_flag'].value_counts()[0] * 100\n"
     ]
    },
    {
     "data": {
      "text/plain": [
       "68.55427109489742"
      ]
     },
     "execution_count": 26,
     "metadata": {},
     "output_type": "execute_result"
    }
   ],
   "source": [
    "### % Percentage of Errors in Control\n",
    "df_timestamps_clean_v_control['error_flag'].value_counts()[1] / df_timestamps_clean_v_control['error_flag'].value_counts()[0] * 100"
   ]
  },
  {
   "cell_type": "code",
   "execution_count": 27,
   "id": "e65082b3-7b2f-4aa1-b789-300ec1805d58",
   "metadata": {},
   "outputs": [
    {
     "data": {
      "text/plain": [
       "process_step\n",
       "confirm    105.093187\n",
       "start             NaN\n",
       "step_1      31.087069\n",
       "step_2      37.144365\n",
       "step_3      86.547344\n",
       "Name: time_spent_seconds, dtype: float64"
      ]
     },
     "execution_count": 27,
     "metadata": {},
     "output_type": "execute_result"
    }
   ],
   "source": [
    "mean_time_per_step_v_test = df_timestamps_clean_v_test.groupby('process_step')['time_spent_seconds'].mean()\n",
    "\n",
    "# Average Time spent per Step, in seconds\n",
    "mean_time_per_step_v_test"
   ]
  },
  {
   "cell_type": "code",
   "execution_count": 28,
   "id": "e0ba4a1a-ad2a-4050-ac49-430a47658b6d",
   "metadata": {},
   "outputs": [
    {
     "data": {
      "text/plain": [
       "process_step\n",
       "confirm    127.461757\n",
       "start             NaN\n",
       "step_1      37.701655\n",
       "step_2      33.864246\n",
       "step_3      87.178790\n",
       "Name: time_spent_seconds, dtype: float64"
      ]
     },
     "execution_count": 28,
     "metadata": {},
     "output_type": "execute_result"
    }
   ],
   "source": [
    "mean_time_per_step_v_control = df_timestamps_clean_v_control.groupby('process_step')['time_spent_seconds'].mean()\n",
    "\n",
    "# Average Time spent per Step, in seconds\n",
    "mean_time_per_step_v_control"
   ]
  },
  {
   "cell_type": "code",
   "execution_count": 29,
   "id": "f99fe9d7-9783-475e-8a28-279d44e1f51b",
   "metadata": {},
   "outputs": [],
   "source": [
    "mean_time_per_step_v_test.index = ['D. step 3 to confirm', 'Z. before to start', 'A. start to step_1', 'B. step_1 to step_2', 'C. step_2 to step_3']"
   ]
  },
  {
   "cell_type": "code",
   "execution_count": 30,
   "id": "45677719-371d-4bf5-b31f-924b0836765f",
   "metadata": {},
   "outputs": [],
   "source": [
    "mean_time_per_step_v_control.index = ['D. step 3 to confirm', 'Z. before to start', 'A. start to step_1', 'B. step_1 to step_2', 'C. step_2 to step_3']"
   ]
  },
  {
   "cell_type": "code",
   "execution_count": 31,
   "id": "c39d0825-4c52-44c9-a920-ab2f818bc58a",
   "metadata": {},
   "outputs": [
    {
     "data": {
      "text/plain": [
       "D. step 3 to confirm    105.093187\n",
       "Z. before to start             NaN\n",
       "A. start to step_1       31.087069\n",
       "B. step_1 to step_2      37.144365\n",
       "C. step_2 to step_3      86.547344\n",
       "Name: time_spent_seconds, dtype: float64"
      ]
     },
     "execution_count": 31,
     "metadata": {},
     "output_type": "execute_result"
    }
   ],
   "source": [
    "### Mean Time in the Test Group\n",
    "mean_time_per_step_v_test"
   ]
  },
  {
   "cell_type": "code",
   "execution_count": 52,
   "id": "2128fcc2-ffd9-4229-8f2a-fdb754e63efd",
   "metadata": {},
   "outputs": [
    {
     "data": {
      "text/plain": [
       "64.96799139003879"
      ]
     },
     "execution_count": 52,
     "metadata": {},
     "output_type": "execute_result"
    }
   ],
   "source": [
    "mean_time_per_step_v_test.mean()"
   ]
  },
  {
   "cell_type": "code",
   "execution_count": 32,
   "id": "faca4695-c228-4769-8629-1c8a953c2bca",
   "metadata": {},
   "outputs": [
    {
     "data": {
      "text/plain": [
       "D. step 3 to confirm    127.461757\n",
       "Z. before to start             NaN\n",
       "A. start to step_1       37.701655\n",
       "B. step_1 to step_2      33.864246\n",
       "C. step_2 to step_3      87.178790\n",
       "Name: time_spent_seconds, dtype: float64"
      ]
     },
     "execution_count": 32,
     "metadata": {},
     "output_type": "execute_result"
    }
   ],
   "source": [
    "### Mean Time in the Control Group\n",
    "mean_time_per_step_v_control"
   ]
  },
  {
   "cell_type": "code",
   "execution_count": 53,
   "id": "757fcbf8-bab4-4b35-b4b6-73805f5de373",
   "metadata": {},
   "outputs": [
    {
     "data": {
      "text/plain": [
       "71.55161201514193"
      ]
     },
     "execution_count": 53,
     "metadata": {},
     "output_type": "execute_result"
    }
   ],
   "source": [
    "mean_time_per_step_v_control.mean()"
   ]
  },
  {
   "cell_type": "code",
   "execution_count": 33,
   "id": "bd0541f0-b221-4a78-86a0-13704d25aaad",
   "metadata": {},
   "outputs": [
    {
     "data": {
      "text/html": [
       "<div>\n",
       "<style scoped>\n",
       "    .dataframe tbody tr th:only-of-type {\n",
       "        vertical-align: middle;\n",
       "    }\n",
       "\n",
       "    .dataframe tbody tr th {\n",
       "        vertical-align: top;\n",
       "    }\n",
       "\n",
       "    .dataframe thead th {\n",
       "        text-align: right;\n",
       "    }\n",
       "</style>\n",
       "<table border=\"1\" class=\"dataframe\">\n",
       "  <thead>\n",
       "    <tr style=\"text-align: right;\">\n",
       "      <th></th>\n",
       "      <th>client_id</th>\n",
       "      <th>visitor_id</th>\n",
       "      <th>visit_id</th>\n",
       "      <th>process_step</th>\n",
       "      <th>date_time</th>\n",
       "      <th>Variation</th>\n",
       "      <th>previous_step</th>\n",
       "      <th>previous_date_time</th>\n",
       "      <th>error_flag</th>\n",
       "      <th>time_spent_seconds</th>\n",
       "    </tr>\n",
       "  </thead>\n",
       "  <tbody>\n",
       "    <tr>\n",
       "      <th>237496</th>\n",
       "      <td>105007</td>\n",
       "      <td>676020267_36602664238</td>\n",
       "      <td>100030127_47967100085_936361</td>\n",
       "      <td>start</td>\n",
       "      <td>2017-03-22 11:07:49</td>\n",
       "      <td>Control</td>\n",
       "      <td>NaN</td>\n",
       "      <td>NaT</td>\n",
       "      <td>True</td>\n",
       "      <td>NaN</td>\n",
       "    </tr>\n",
       "    <tr>\n",
       "      <th>27304</th>\n",
       "      <td>5623007</td>\n",
       "      <td>700426174_33289797318</td>\n",
       "      <td>100037962_47432393712_705583</td>\n",
       "      <td>start</td>\n",
       "      <td>2017-04-14 16:41:51</td>\n",
       "      <td>Control</td>\n",
       "      <td>NaN</td>\n",
       "      <td>NaT</td>\n",
       "      <td>True</td>\n",
       "      <td>NaN</td>\n",
       "    </tr>\n",
       "  </tbody>\n",
       "</table>\n",
       "</div>"
      ],
      "text/plain": [
       "        client_id             visitor_id                      visit_id  \\\n",
       "237496     105007  676020267_36602664238  100030127_47967100085_936361   \n",
       "27304     5623007  700426174_33289797318  100037962_47432393712_705583   \n",
       "\n",
       "       process_step           date_time Variation previous_step  \\\n",
       "237496        start 2017-03-22 11:07:49   Control           NaN   \n",
       "27304         start 2017-04-14 16:41:51   Control           NaN   \n",
       "\n",
       "       previous_date_time  error_flag  time_spent_seconds  \n",
       "237496                NaT        True                 NaN  \n",
       "27304                 NaT        True                 NaN  "
      ]
     },
     "execution_count": 33,
     "metadata": {},
     "output_type": "execute_result"
    }
   ],
   "source": [
    "df_timestamps_clean_v_control.head(2)"
   ]
  },
  {
   "cell_type": "code",
   "execution_count": 48,
   "id": "705a8f94-3263-400c-b6de-775f62f8888c",
   "metadata": {},
   "outputs": [
    {
     "name": "stdout",
     "output_type": "stream",
     "text": [
      "Step step_1: t-statistic = -9.728, p-value = 0.000\n",
      "Step step_1: There is a significant difference between Test and Control.\n",
      "\n",
      "Step step_2: t-statistic = 6.504, p-value = 0.000\n",
      "Step step_2: There is a significant difference between Test and Control.\n",
      "\n",
      "Step step_3: t-statistic = -0.788, p-value = 0.431\n",
      "Step step_3: No significant difference between Test and Control.\n",
      "\n",
      "Step confirm: t-statistic = -12.889, p-value = 0.000\n",
      "Step confirm: There is a significant difference between Test and Control.\n",
      "\n"
     ]
    }
   ],
   "source": [
    "#import pandas as pd\n",
    "import scipy.stats as stats\n",
    "\n",
    "# Assuming df_timestamps_clean_v_test and df_timestamps_clean_v_control are defined dataframes\n",
    "# Load your data (assuming you already have df_timestamps_clean_v_test and df_timestamps_clean_v_control)\n",
    "\n",
    "# Steps to evaluate\n",
    "steps = [\"step_1\", \"step_2\", \"step_3\", \"confirm\"]\n",
    "\n",
    "for step in steps:\n",
    "    # Filter data for each group and step\n",
    "    test_group = df_timestamps_clean_v_test[(df_timestamps_clean_v_test['Variation'] == 'Test') & (df_timestamps_clean_v_test['process_step'] == step)]\n",
    "    control_group = df_timestamps_clean_v_control[(df_timestamps_clean_v_control['Variation'] == 'Control') & (df_timestamps_clean_v_control['process_step'] == step)]\n",
    "\n",
    "    # Drop null values\n",
    "    test_group = test_group.dropna(subset=[\"time_spent_seconds\"])\n",
    "    control_group = control_group.dropna(subset=[\"time_spent_seconds\"])   \n",
    "\n",
    "    # Conduct an independent two-sample t-test for each step\n",
    "    t_stat, p_value = stats.ttest_ind(test_group[\"time_spent_seconds\"], control_group[\"time_spent_seconds\"], equal_var=False)  # Set equal_var=True if variances are equal\n",
    "\n",
    "    # Print results\n",
    "    print(f\"Step {step}: t-statistic = {t_stat:.3f}, p-value = {p_value:.3f}\")\n",
    "    \n",
    "    # Interpretation\n",
    "    if p_value < 0.05:  # Assuming a significance level of 0.05\n",
    "        print(f\"Step {step}: There is a significant difference between Test and Control.\\n\")\n",
    "    else:\n",
    "        print(f\"Step {step}: No significant difference between Test and Control.\\n\")\n"
   ]
  },
  {
   "cell_type": "code",
   "execution_count": 51,
   "id": "3f63afeb-d1c8-4c7a-a461-40a054689f00",
   "metadata": {},
   "outputs": [
    {
     "name": "stdout",
     "output_type": "stream",
     "text": [
      "Overall ANOVA comparison across all steps: F-statistic = 189.395, p-value = 4.522805493525243e-43\n",
      "There is a significant difference between Test and Control across all steps.\n",
      "\n"
     ]
    }
   ],
   "source": [
    "# Assuming df_timestamps_clean_v_test and df_timestamps_clean_v_control are defined dataframes\n",
    "# Steps to evaluate\n",
    "steps = [\"step_1\", \"step_2\", \"step_3\", \"confirm\"]\n",
    "\n",
    "# Create empty lists to store time spent for test and control groups across all steps\n",
    "test_times = []\n",
    "control_times = []\n",
    "\n",
    "for step in steps:\n",
    "    # Filter data for each group and step\n",
    "    test_group = df_timestamps_clean_v_test[(df_timestamps_clean_v_test['Variation'] == 'Test') & (df_timestamps_clean_v_test['process_step'] == step)]\n",
    "    control_group = df_timestamps_clean_v_control[(df_timestamps_clean_v_control['Variation'] == 'Control') & (df_timestamps_clean_v_control['process_step'] == step)]\n",
    "\n",
    "    # Drop null values\n",
    "    test_group = test_group.dropna(subset=[\"time_spent_seconds\"])\n",
    "    control_group = control_group.dropna(subset=[\"time_spent_seconds\"])\n",
    "\n",
    "    # Append time spent for each step to the corresponding list\n",
    "    test_times.extend(test_group[\"time_spent_seconds\"].tolist())\n",
    "    control_times.extend(control_group[\"time_spent_seconds\"].tolist())\n",
    "\n",
    "# Conduct a one-way ANOVA for the combined data across all steps\n",
    "f_stat, p_value = stats.f_oneway(test_times, control_times)\n",
    "\n",
    "# Print the results for the overall ANOVA across all steps\n",
    "print(f\"Overall ANOVA comparison across all steps: F-statistic = {f_stat:.3f}, p-value = {p_value}\")\n",
    "\n",
    "# Interpretation\n",
    "if p_value < 0.05:  # Assuming a significance level of 0.05\n",
    "    print(\"There is a significant difference between Test and Control across all steps.\\n\")\n",
    "else:\n",
    "    print(\"No significant difference between Test and Control across all steps.\\n\")\n"
   ]
  },
  {
   "cell_type": "code",
   "execution_count": null,
   "id": "ded09e4c-74e3-44a2-90a7-d14b84063b9b",
   "metadata": {},
   "outputs": [],
   "source": []
  }
 ],
 "metadata": {
  "kernelspec": {
   "display_name": "Python 3 (ipykernel)",
   "language": "python",
   "name": "python3"
  },
  "language_info": {
   "codemirror_mode": {
    "name": "ipython",
    "version": 3
   },
   "file_extension": ".py",
   "mimetype": "text/x-python",
   "name": "python",
   "nbconvert_exporter": "python",
   "pygments_lexer": "ipython3",
   "version": "3.12.4"
  }
 },
 "nbformat": 4,
 "nbformat_minor": 5
}
