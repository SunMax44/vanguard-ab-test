{
 "cells": [
  {
   "cell_type": "code",
   "execution_count": 187,
   "id": "15c38afc-9c24-4679-a17b-9f60d2a26535",
   "metadata": {},
   "outputs": [],
   "source": [
    "import pandas as pd\n",
    "import matplotlib.pyplot as plt\n",
    "import seaborn as sns\n",
    "import numpy as np"
   ]
  },
  {
   "cell_type": "code",
   "execution_count": 188,
   "id": "4e6bbe1a-b5d4-4be5-8ba3-5a963e53c67d",
   "metadata": {},
   "outputs": [
    {
     "data": {
      "text/html": [
       "<div>\n",
       "<style scoped>\n",
       "    .dataframe tbody tr th:only-of-type {\n",
       "        vertical-align: middle;\n",
       "    }\n",
       "\n",
       "    .dataframe tbody tr th {\n",
       "        vertical-align: top;\n",
       "    }\n",
       "\n",
       "    .dataframe thead th {\n",
       "        text-align: right;\n",
       "    }\n",
       "</style>\n",
       "<table border=\"1\" class=\"dataframe\">\n",
       "  <thead>\n",
       "    <tr style=\"text-align: right;\">\n",
       "      <th></th>\n",
       "      <th>client_id</th>\n",
       "      <th>visitor_id</th>\n",
       "      <th>visit_id</th>\n",
       "      <th>process_step</th>\n",
       "      <th>date_time</th>\n",
       "    </tr>\n",
       "  </thead>\n",
       "  <tbody>\n",
       "    <tr>\n",
       "      <th>0</th>\n",
       "      <td>9988021</td>\n",
       "      <td>580560515_7732621733</td>\n",
       "      <td>781255054_21935453173_531117</td>\n",
       "      <td>step_3</td>\n",
       "      <td>2017-04-17 15:27:07</td>\n",
       "    </tr>\n",
       "    <tr>\n",
       "      <th>1</th>\n",
       "      <td>9988021</td>\n",
       "      <td>580560515_7732621733</td>\n",
       "      <td>781255054_21935453173_531117</td>\n",
       "      <td>step_2</td>\n",
       "      <td>2017-04-17 15:26:51</td>\n",
       "    </tr>\n",
       "    <tr>\n",
       "      <th>2</th>\n",
       "      <td>9988021</td>\n",
       "      <td>580560515_7732621733</td>\n",
       "      <td>781255054_21935453173_531117</td>\n",
       "      <td>step_3</td>\n",
       "      <td>2017-04-17 15:19:22</td>\n",
       "    </tr>\n",
       "  </tbody>\n",
       "</table>\n",
       "</div>"
      ],
      "text/plain": [
       "   client_id            visitor_id                      visit_id process_step  \\\n",
       "0    9988021  580560515_7732621733  781255054_21935453173_531117       step_3   \n",
       "1    9988021  580560515_7732621733  781255054_21935453173_531117       step_2   \n",
       "2    9988021  580560515_7732621733  781255054_21935453173_531117       step_3   \n",
       "\n",
       "             date_time  \n",
       "0  2017-04-17 15:27:07  \n",
       "1  2017-04-17 15:26:51  \n",
       "2  2017-04-17 15:19:22  "
      ]
     },
     "execution_count": 188,
     "metadata": {},
     "output_type": "execute_result"
    }
   ],
   "source": [
    "import pandas as pd\n",
    "\n",
    "# Load the CSV file from the data folder in the repo\n",
    "df_timestamps = pd.read_csv('cleaned_data/df_final_web_data_cc_clean.csv')\n",
    "\n",
    "# Display the DataFrame\n",
    "df_timestamps.head(3)"
   ]
  },
  {
   "cell_type": "code",
   "execution_count": 189,
   "id": "1f37d482-9990-416a-bf08-7c93094b56b8",
   "metadata": {},
   "outputs": [
    {
     "data": {
      "text/plain": [
       "(624446, 6)"
      ]
     },
     "execution_count": 189,
     "metadata": {},
     "output_type": "execute_result"
    }
   ],
   "source": [
    "# Load the CSV file from the data folder in the repo\n",
    "df_timestamps_clean = pd.read_csv('cleaned_data/df_web_ex_cleaned_part2_visitor_ids.csv')\n",
    "\n",
    "# Display the DataFrame\n",
    "df_timestamps_clean.shape"
   ]
  },
  {
   "cell_type": "code",
   "execution_count": 190,
   "id": "7e54ef79-b5ce-43e6-8d88-8a8bcdbb5cf4",
   "metadata": {},
   "outputs": [],
   "source": [
    "df_timestamps_clean['date_time'] = pd.to_datetime(df_timestamps_clean['date_time'])"
   ]
  },
  {
   "cell_type": "code",
   "execution_count": 191,
   "id": "8f149389-4078-4f63-9394-e9ae22317319",
   "metadata": {},
   "outputs": [
    {
     "data": {
      "text/html": [
       "<div>\n",
       "<style scoped>\n",
       "    .dataframe tbody tr th:only-of-type {\n",
       "        vertical-align: middle;\n",
       "    }\n",
       "\n",
       "    .dataframe tbody tr th {\n",
       "        vertical-align: top;\n",
       "    }\n",
       "\n",
       "    .dataframe thead th {\n",
       "        text-align: right;\n",
       "    }\n",
       "</style>\n",
       "<table border=\"1\" class=\"dataframe\">\n",
       "  <thead>\n",
       "    <tr style=\"text-align: right;\">\n",
       "      <th></th>\n",
       "      <th>client_id</th>\n",
       "      <th>visitor_id</th>\n",
       "      <th>visit_id</th>\n",
       "      <th>process_step</th>\n",
       "      <th>date_time</th>\n",
       "      <th>Variation</th>\n",
       "    </tr>\n",
       "  </thead>\n",
       "  <tbody>\n",
       "    <tr>\n",
       "      <th>0</th>\n",
       "      <td>9988021</td>\n",
       "      <td>580560515_7732621733</td>\n",
       "      <td>781255054_21935453173_531117</td>\n",
       "      <td>step_3</td>\n",
       "      <td>2017-04-17 15:27:07</td>\n",
       "      <td>Test</td>\n",
       "    </tr>\n",
       "    <tr>\n",
       "      <th>1</th>\n",
       "      <td>9988021</td>\n",
       "      <td>580560515_7732621733</td>\n",
       "      <td>781255054_21935453173_531117</td>\n",
       "      <td>step_2</td>\n",
       "      <td>2017-04-17 15:26:51</td>\n",
       "      <td>Test</td>\n",
       "    </tr>\n",
       "    <tr>\n",
       "      <th>2</th>\n",
       "      <td>9988021</td>\n",
       "      <td>580560515_7732621733</td>\n",
       "      <td>781255054_21935453173_531117</td>\n",
       "      <td>step_3</td>\n",
       "      <td>2017-04-17 15:19:22</td>\n",
       "      <td>Test</td>\n",
       "    </tr>\n",
       "    <tr>\n",
       "      <th>3</th>\n",
       "      <td>9988021</td>\n",
       "      <td>580560515_7732621733</td>\n",
       "      <td>781255054_21935453173_531117</td>\n",
       "      <td>step_2</td>\n",
       "      <td>2017-04-17 15:19:13</td>\n",
       "      <td>Test</td>\n",
       "    </tr>\n",
       "    <tr>\n",
       "      <th>4</th>\n",
       "      <td>9988021</td>\n",
       "      <td>580560515_7732621733</td>\n",
       "      <td>781255054_21935453173_531117</td>\n",
       "      <td>step_3</td>\n",
       "      <td>2017-04-17 15:18:04</td>\n",
       "      <td>Test</td>\n",
       "    </tr>\n",
       "    <tr>\n",
       "      <th>...</th>\n",
       "      <td>...</td>\n",
       "      <td>...</td>\n",
       "      <td>...</td>\n",
       "      <td>...</td>\n",
       "      <td>...</td>\n",
       "      <td>...</td>\n",
       "    </tr>\n",
       "    <tr>\n",
       "      <th>624441</th>\n",
       "      <td>9668240</td>\n",
       "      <td>388766751_9038881013</td>\n",
       "      <td>922267647_3096648104_968866</td>\n",
       "      <td>start</td>\n",
       "      <td>2017-05-24 18:46:10</td>\n",
       "      <td>NaN</td>\n",
       "    </tr>\n",
       "    <tr>\n",
       "      <th>624442</th>\n",
       "      <td>9668240</td>\n",
       "      <td>388766751_9038881013</td>\n",
       "      <td>922267647_3096648104_968866</td>\n",
       "      <td>start</td>\n",
       "      <td>2017-05-24 18:45:29</td>\n",
       "      <td>NaN</td>\n",
       "    </tr>\n",
       "    <tr>\n",
       "      <th>624443</th>\n",
       "      <td>9668240</td>\n",
       "      <td>388766751_9038881013</td>\n",
       "      <td>922267647_3096648104_968866</td>\n",
       "      <td>step_1</td>\n",
       "      <td>2017-05-24 18:44:51</td>\n",
       "      <td>NaN</td>\n",
       "    </tr>\n",
       "    <tr>\n",
       "      <th>624444</th>\n",
       "      <td>9668240</td>\n",
       "      <td>388766751_9038881013</td>\n",
       "      <td>922267647_3096648104_968866</td>\n",
       "      <td>start</td>\n",
       "      <td>2017-05-24 18:44:34</td>\n",
       "      <td>NaN</td>\n",
       "    </tr>\n",
       "    <tr>\n",
       "      <th>624445</th>\n",
       "      <td>674799</td>\n",
       "      <td>947159805_81558194550</td>\n",
       "      <td>86152093_47511127657_716022</td>\n",
       "      <td>start</td>\n",
       "      <td>2017-06-03 12:17:09</td>\n",
       "      <td>NaN</td>\n",
       "    </tr>\n",
       "  </tbody>\n",
       "</table>\n",
       "<p>624446 rows × 6 columns</p>\n",
       "</div>"
      ],
      "text/plain": [
       "        client_id             visitor_id                      visit_id  \\\n",
       "0         9988021   580560515_7732621733  781255054_21935453173_531117   \n",
       "1         9988021   580560515_7732621733  781255054_21935453173_531117   \n",
       "2         9988021   580560515_7732621733  781255054_21935453173_531117   \n",
       "3         9988021   580560515_7732621733  781255054_21935453173_531117   \n",
       "4         9988021   580560515_7732621733  781255054_21935453173_531117   \n",
       "...           ...                    ...                           ...   \n",
       "624441    9668240   388766751_9038881013   922267647_3096648104_968866   \n",
       "624442    9668240   388766751_9038881013   922267647_3096648104_968866   \n",
       "624443    9668240   388766751_9038881013   922267647_3096648104_968866   \n",
       "624444    9668240   388766751_9038881013   922267647_3096648104_968866   \n",
       "624445     674799  947159805_81558194550   86152093_47511127657_716022   \n",
       "\n",
       "       process_step           date_time Variation  \n",
       "0            step_3 2017-04-17 15:27:07      Test  \n",
       "1            step_2 2017-04-17 15:26:51      Test  \n",
       "2            step_3 2017-04-17 15:19:22      Test  \n",
       "3            step_2 2017-04-17 15:19:13      Test  \n",
       "4            step_3 2017-04-17 15:18:04      Test  \n",
       "...             ...                 ...       ...  \n",
       "624441        start 2017-05-24 18:46:10       NaN  \n",
       "624442        start 2017-05-24 18:45:29       NaN  \n",
       "624443       step_1 2017-05-24 18:44:51       NaN  \n",
       "624444        start 2017-05-24 18:44:34       NaN  \n",
       "624445        start 2017-06-03 12:17:09       NaN  \n",
       "\n",
       "[624446 rows x 6 columns]"
      ]
     },
     "execution_count": 191,
     "metadata": {},
     "output_type": "execute_result"
    }
   ],
   "source": [
    "df_timestamps_clean"
   ]
  },
  {
   "cell_type": "code",
   "execution_count": 192,
   "id": "44cf33e3-8b15-4ade-b8e9-5b2c9d94aa05",
   "metadata": {},
   "outputs": [],
   "source": [
    "df_timestamps_clean = df_timestamps_clean.sort_values(by=['visit_id', 'date_time'])"
   ]
  },
  {
   "cell_type": "code",
   "execution_count": 193,
   "id": "ce59e7c1-48a8-4175-92d1-6f103164d60a",
   "metadata": {},
   "outputs": [
    {
     "data": {
      "text/html": [
       "<div>\n",
       "<style scoped>\n",
       "    .dataframe tbody tr th:only-of-type {\n",
       "        vertical-align: middle;\n",
       "    }\n",
       "\n",
       "    .dataframe tbody tr th {\n",
       "        vertical-align: top;\n",
       "    }\n",
       "\n",
       "    .dataframe thead th {\n",
       "        text-align: right;\n",
       "    }\n",
       "</style>\n",
       "<table border=\"1\" class=\"dataframe\">\n",
       "  <thead>\n",
       "    <tr style=\"text-align: right;\">\n",
       "      <th></th>\n",
       "      <th>client_id</th>\n",
       "      <th>visitor_id</th>\n",
       "      <th>visit_id</th>\n",
       "      <th>process_step</th>\n",
       "      <th>date_time</th>\n",
       "      <th>Variation</th>\n",
       "    </tr>\n",
       "  </thead>\n",
       "  <tbody>\n",
       "    <tr>\n",
       "      <th>107773</th>\n",
       "      <td>3561384</td>\n",
       "      <td>451664975_1722933822</td>\n",
       "      <td>100012776_37918976071_457913</td>\n",
       "      <td>confirm</td>\n",
       "      <td>2017-04-26 13:22:17</td>\n",
       "      <td>Test</td>\n",
       "    </tr>\n",
       "    <tr>\n",
       "      <th>107772</th>\n",
       "      <td>3561384</td>\n",
       "      <td>451664975_1722933822</td>\n",
       "      <td>100012776_37918976071_457913</td>\n",
       "      <td>confirm</td>\n",
       "      <td>2017-04-26 13:23:09</td>\n",
       "      <td>Test</td>\n",
       "    </tr>\n",
       "    <tr>\n",
       "      <th>349458</th>\n",
       "      <td>9056452</td>\n",
       "      <td>306992881_89423906595</td>\n",
       "      <td>1000165_4190026492_760066</td>\n",
       "      <td>start</td>\n",
       "      <td>2017-06-04 01:07:29</td>\n",
       "      <td>NaN</td>\n",
       "    </tr>\n",
       "    <tr>\n",
       "      <th>349457</th>\n",
       "      <td>9056452</td>\n",
       "      <td>306992881_89423906595</td>\n",
       "      <td>1000165_4190026492_760066</td>\n",
       "      <td>step_1</td>\n",
       "      <td>2017-06-04 01:07:32</td>\n",
       "      <td>NaN</td>\n",
       "    </tr>\n",
       "    <tr>\n",
       "      <th>349456</th>\n",
       "      <td>9056452</td>\n",
       "      <td>306992881_89423906595</td>\n",
       "      <td>1000165_4190026492_760066</td>\n",
       "      <td>step_2</td>\n",
       "      <td>2017-06-04 01:07:56</td>\n",
       "      <td>NaN</td>\n",
       "    </tr>\n",
       "    <tr>\n",
       "      <th>...</th>\n",
       "      <td>...</td>\n",
       "      <td>...</td>\n",
       "      <td>...</td>\n",
       "      <td>...</td>\n",
       "      <td>...</td>\n",
       "      <td>...</td>\n",
       "    </tr>\n",
       "    <tr>\n",
       "      <th>440393</th>\n",
       "      <td>7149380</td>\n",
       "      <td>483112224_46340533900</td>\n",
       "      <td>999992932_41666455053_671149</td>\n",
       "      <td>step_1</td>\n",
       "      <td>2017-06-06 15:46:24</td>\n",
       "      <td>NaN</td>\n",
       "    </tr>\n",
       "    <tr>\n",
       "      <th>440392</th>\n",
       "      <td>7149380</td>\n",
       "      <td>483112224_46340533900</td>\n",
       "      <td>999992932_41666455053_671149</td>\n",
       "      <td>step_2</td>\n",
       "      <td>2017-06-06 15:47:32</td>\n",
       "      <td>NaN</td>\n",
       "    </tr>\n",
       "    <tr>\n",
       "      <th>440410</th>\n",
       "      <td>7149380</td>\n",
       "      <td>483112224_46340533900</td>\n",
       "      <td>999992932_41666455053_671149</td>\n",
       "      <td>step_3</td>\n",
       "      <td>2017-06-06 16:01:46</td>\n",
       "      <td>NaN</td>\n",
       "    </tr>\n",
       "    <tr>\n",
       "      <th>440409</th>\n",
       "      <td>7149380</td>\n",
       "      <td>483112224_46340533900</td>\n",
       "      <td>999992932_41666455053_671149</td>\n",
       "      <td>confirm</td>\n",
       "      <td>2017-06-06 16:04:08</td>\n",
       "      <td>NaN</td>\n",
       "    </tr>\n",
       "    <tr>\n",
       "      <th>440408</th>\n",
       "      <td>7149380</td>\n",
       "      <td>483112224_46340533900</td>\n",
       "      <td>999992932_41666455053_671149</td>\n",
       "      <td>confirm</td>\n",
       "      <td>2017-06-06 16:05:34</td>\n",
       "      <td>NaN</td>\n",
       "    </tr>\n",
       "  </tbody>\n",
       "</table>\n",
       "<p>624446 rows × 6 columns</p>\n",
       "</div>"
      ],
      "text/plain": [
       "        client_id             visitor_id                      visit_id  \\\n",
       "107773    3561384   451664975_1722933822  100012776_37918976071_457913   \n",
       "107772    3561384   451664975_1722933822  100012776_37918976071_457913   \n",
       "349458    9056452  306992881_89423906595     1000165_4190026492_760066   \n",
       "349457    9056452  306992881_89423906595     1000165_4190026492_760066   \n",
       "349456    9056452  306992881_89423906595     1000165_4190026492_760066   \n",
       "...           ...                    ...                           ...   \n",
       "440393    7149380  483112224_46340533900  999992932_41666455053_671149   \n",
       "440392    7149380  483112224_46340533900  999992932_41666455053_671149   \n",
       "440410    7149380  483112224_46340533900  999992932_41666455053_671149   \n",
       "440409    7149380  483112224_46340533900  999992932_41666455053_671149   \n",
       "440408    7149380  483112224_46340533900  999992932_41666455053_671149   \n",
       "\n",
       "       process_step           date_time Variation  \n",
       "107773      confirm 2017-04-26 13:22:17      Test  \n",
       "107772      confirm 2017-04-26 13:23:09      Test  \n",
       "349458        start 2017-06-04 01:07:29       NaN  \n",
       "349457       step_1 2017-06-04 01:07:32       NaN  \n",
       "349456       step_2 2017-06-04 01:07:56       NaN  \n",
       "...             ...                 ...       ...  \n",
       "440393       step_1 2017-06-06 15:46:24       NaN  \n",
       "440392       step_2 2017-06-06 15:47:32       NaN  \n",
       "440410       step_3 2017-06-06 16:01:46       NaN  \n",
       "440409      confirm 2017-06-06 16:04:08       NaN  \n",
       "440408      confirm 2017-06-06 16:05:34       NaN  \n",
       "\n",
       "[624446 rows x 6 columns]"
      ]
     },
     "execution_count": 193,
     "metadata": {},
     "output_type": "execute_result"
    }
   ],
   "source": [
    "df_timestamps_clean"
   ]
  },
  {
   "cell_type": "code",
   "execution_count": 194,
   "id": "1ed22ffa-3cbf-4afd-9e07-eb56cf3351c1",
   "metadata": {},
   "outputs": [],
   "source": [
    "df_timestamps_clean = df_timestamps_clean.dropna(subset=['Variation'])"
   ]
  },
  {
   "cell_type": "code",
   "execution_count": 195,
   "id": "bc0227b6-3ad2-4abe-8852-0bc7bc9e7aee",
   "metadata": {},
   "outputs": [
    {
     "data": {
      "text/html": [
       "<div>\n",
       "<style scoped>\n",
       "    .dataframe tbody tr th:only-of-type {\n",
       "        vertical-align: middle;\n",
       "    }\n",
       "\n",
       "    .dataframe tbody tr th {\n",
       "        vertical-align: top;\n",
       "    }\n",
       "\n",
       "    .dataframe thead th {\n",
       "        text-align: right;\n",
       "    }\n",
       "</style>\n",
       "<table border=\"1\" class=\"dataframe\">\n",
       "  <thead>\n",
       "    <tr style=\"text-align: right;\">\n",
       "      <th></th>\n",
       "      <th>client_id</th>\n",
       "      <th>visitor_id</th>\n",
       "      <th>visit_id</th>\n",
       "      <th>process_step</th>\n",
       "      <th>date_time</th>\n",
       "      <th>Variation</th>\n",
       "    </tr>\n",
       "  </thead>\n",
       "  <tbody>\n",
       "    <tr>\n",
       "      <th>107773</th>\n",
       "      <td>3561384</td>\n",
       "      <td>451664975_1722933822</td>\n",
       "      <td>100012776_37918976071_457913</td>\n",
       "      <td>confirm</td>\n",
       "      <td>2017-04-26 13:22:17</td>\n",
       "      <td>Test</td>\n",
       "    </tr>\n",
       "    <tr>\n",
       "      <th>107772</th>\n",
       "      <td>3561384</td>\n",
       "      <td>451664975_1722933822</td>\n",
       "      <td>100012776_37918976071_457913</td>\n",
       "      <td>confirm</td>\n",
       "      <td>2017-04-26 13:23:09</td>\n",
       "      <td>Test</td>\n",
       "    </tr>\n",
       "    <tr>\n",
       "      <th>238647</th>\n",
       "      <td>7338123</td>\n",
       "      <td>612065484_94198474375</td>\n",
       "      <td>100019538_17884295066_43909</td>\n",
       "      <td>start</td>\n",
       "      <td>2017-04-09 16:20:56</td>\n",
       "      <td>Test</td>\n",
       "    </tr>\n",
       "  </tbody>\n",
       "</table>\n",
       "</div>"
      ],
      "text/plain": [
       "        client_id             visitor_id                      visit_id  \\\n",
       "107773    3561384   451664975_1722933822  100012776_37918976071_457913   \n",
       "107772    3561384   451664975_1722933822  100012776_37918976071_457913   \n",
       "238647    7338123  612065484_94198474375   100019538_17884295066_43909   \n",
       "\n",
       "       process_step           date_time Variation  \n",
       "107773      confirm 2017-04-26 13:22:17      Test  \n",
       "107772      confirm 2017-04-26 13:23:09      Test  \n",
       "238647        start 2017-04-09 16:20:56      Test  "
      ]
     },
     "execution_count": 195,
     "metadata": {},
     "output_type": "execute_result"
    }
   ],
   "source": [
    "df_timestamps_clean.head(3)"
   ]
  },
  {
   "cell_type": "code",
   "execution_count": 196,
   "id": "5918539a-8ad5-4777-9919-58a120fd843a",
   "metadata": {},
   "outputs": [],
   "source": [
    "#df_filtered = df[df['Age'] > 30]\n"
   ]
  },
  {
   "cell_type": "code",
   "execution_count": 197,
   "id": "a364b342-8aef-4423-a09c-c1cc5cde85f2",
   "metadata": {},
   "outputs": [],
   "source": [
    "#df = df[~(df['Age'] > 30)]"
   ]
  },
  {
   "cell_type": "code",
   "execution_count": 198,
   "id": "2f88d589-56f2-4add-b5b4-54acaf1164f3",
   "metadata": {},
   "outputs": [],
   "source": [
    "df_timestamps_clean_v_test = df_timestamps_clean[(df_timestamps_clean['Variation'] == \"Test\")]"
   ]
  },
  {
   "cell_type": "code",
   "execution_count": 199,
   "id": "19be2294-5e77-4ed8-9a56-6fcc431bf1d1",
   "metadata": {},
   "outputs": [],
   "source": [
    "df_timestamps_clean_v_control = df_timestamps_clean[(df_timestamps_clean['Variation'] == \"Control\")]"
   ]
  },
  {
   "cell_type": "code",
   "execution_count": 200,
   "id": "9de0580b-8c78-4236-b5d8-ca46394d6569",
   "metadata": {},
   "outputs": [],
   "source": [
    "# Filter attempt, discarted\n",
    "\n",
    "#df_timestamps_clean_v_test = df_timestamps_clean[df_timestamps_clean[\"Variation\"] == \"Test\"]\n",
    "#df_timestamps_clean_v_control = df_timestamps_clean[df_timestamps_clean[\"Variation\"] == \"Control\"]"
   ]
  },
  {
   "cell_type": "code",
   "execution_count": 201,
   "id": "b22e4ec8-c51f-4fdc-8825-bbe6199721f2",
   "metadata": {},
   "outputs": [
    {
     "data": {
      "text/html": [
       "<div>\n",
       "<style scoped>\n",
       "    .dataframe tbody tr th:only-of-type {\n",
       "        vertical-align: middle;\n",
       "    }\n",
       "\n",
       "    .dataframe tbody tr th {\n",
       "        vertical-align: top;\n",
       "    }\n",
       "\n",
       "    .dataframe thead th {\n",
       "        text-align: right;\n",
       "    }\n",
       "</style>\n",
       "<table border=\"1\" class=\"dataframe\">\n",
       "  <thead>\n",
       "    <tr style=\"text-align: right;\">\n",
       "      <th></th>\n",
       "      <th>client_id</th>\n",
       "      <th>visitor_id</th>\n",
       "      <th>visit_id</th>\n",
       "      <th>process_step</th>\n",
       "      <th>date_time</th>\n",
       "      <th>Variation</th>\n",
       "    </tr>\n",
       "  </thead>\n",
       "  <tbody>\n",
       "    <tr>\n",
       "      <th>107773</th>\n",
       "      <td>3561384</td>\n",
       "      <td>451664975_1722933822</td>\n",
       "      <td>100012776_37918976071_457913</td>\n",
       "      <td>confirm</td>\n",
       "      <td>2017-04-26 13:22:17</td>\n",
       "      <td>Test</td>\n",
       "    </tr>\n",
       "    <tr>\n",
       "      <th>107772</th>\n",
       "      <td>3561384</td>\n",
       "      <td>451664975_1722933822</td>\n",
       "      <td>100012776_37918976071_457913</td>\n",
       "      <td>confirm</td>\n",
       "      <td>2017-04-26 13:23:09</td>\n",
       "      <td>Test</td>\n",
       "    </tr>\n",
       "    <tr>\n",
       "      <th>238647</th>\n",
       "      <td>7338123</td>\n",
       "      <td>612065484_94198474375</td>\n",
       "      <td>100019538_17884295066_43909</td>\n",
       "      <td>start</td>\n",
       "      <td>2017-04-09 16:20:56</td>\n",
       "      <td>Test</td>\n",
       "    </tr>\n",
       "  </tbody>\n",
       "</table>\n",
       "</div>"
      ],
      "text/plain": [
       "        client_id             visitor_id                      visit_id  \\\n",
       "107773    3561384   451664975_1722933822  100012776_37918976071_457913   \n",
       "107772    3561384   451664975_1722933822  100012776_37918976071_457913   \n",
       "238647    7338123  612065484_94198474375   100019538_17884295066_43909   \n",
       "\n",
       "       process_step           date_time Variation  \n",
       "107773      confirm 2017-04-26 13:22:17      Test  \n",
       "107772      confirm 2017-04-26 13:23:09      Test  \n",
       "238647        start 2017-04-09 16:20:56      Test  "
      ]
     },
     "execution_count": 201,
     "metadata": {},
     "output_type": "execute_result"
    }
   ],
   "source": [
    "df_timestamps_clean_v_test.head(3)"
   ]
  },
  {
   "cell_type": "code",
   "execution_count": 202,
   "id": "215e45bb-657e-4d23-9af9-7e7eaf62d65b",
   "metadata": {},
   "outputs": [],
   "source": [
    "step_list = [\"start\", \"step_1\", \"step_2\", \"step_3\", \"confirm\"]"
   ]
  },
  {
   "cell_type": "code",
   "execution_count": 203,
   "id": "7772ca76-4992-4870-b160-64c5c0415993",
   "metadata": {},
   "outputs": [],
   "source": [
    "# Example list\n",
    "my_list = [10, 20, 30, 40, 50]\n",
    "\n",
    "# Variable to find in the list\n",
    "variable = 30\n",
    "\n",
    "# Find position (index) of variable in list\n",
    "position = my_list.index(variable)"
   ]
  },
  {
   "cell_type": "code",
   "execution_count": 204,
   "id": "cfb08f76-4e4a-494b-9d63-6385434494ab",
   "metadata": {},
   "outputs": [
    {
     "name": "stderr",
     "output_type": "stream",
     "text": [
      "C:\\Users\\rafae\\AppData\\Local\\Temp\\ipykernel_47380\\2819034559.py:1: SettingWithCopyWarning: \n",
      "A value is trying to be set on a copy of a slice from a DataFrame.\n",
      "Try using .loc[row_indexer,col_indexer] = value instead\n",
      "\n",
      "See the caveats in the documentation: https://pandas.pydata.org/pandas-docs/stable/user_guide/indexing.html#returning-a-view-versus-a-copy\n",
      "  df_timestamps_clean['previous_step'] = df_timestamps_clean.groupby('visit_id')['process_step'].shift(1)\n",
      "C:\\Users\\rafae\\AppData\\Local\\Temp\\ipykernel_47380\\2819034559.py:2: SettingWithCopyWarning: \n",
      "A value is trying to be set on a copy of a slice from a DataFrame.\n",
      "Try using .loc[row_indexer,col_indexer] = value instead\n",
      "\n",
      "See the caveats in the documentation: https://pandas.pydata.org/pandas-docs/stable/user_guide/indexing.html#returning-a-view-versus-a-copy\n",
      "  df_timestamps_clean['previous_date_time'] = df_timestamps_clean.groupby('visit_id')['date_time'].shift(1)\n"
     ]
    }
   ],
   "source": [
    "df_timestamps_clean['previous_step'] = df_timestamps_clean.groupby('visit_id')['process_step'].shift(1)\n",
    "df_timestamps_clean['previous_date_time'] = df_timestamps_clean.groupby('visit_id')['date_time'].shift(1)"
   ]
  },
  {
   "cell_type": "code",
   "execution_count": 205,
   "id": "46fc0afd-6174-4fa6-b50d-3fed610d11c6",
   "metadata": {},
   "outputs": [
    {
     "name": "stderr",
     "output_type": "stream",
     "text": [
      "C:\\Users\\rafae\\AppData\\Local\\Temp\\ipykernel_47380\\1026909670.py:1: SettingWithCopyWarning: \n",
      "A value is trying to be set on a copy of a slice from a DataFrame.\n",
      "Try using .loc[row_indexer,col_indexer] = value instead\n",
      "\n",
      "See the caveats in the documentation: https://pandas.pydata.org/pandas-docs/stable/user_guide/indexing.html#returning-a-view-versus-a-copy\n",
      "  df_timestamps_clean_v_test['previous_step'] = df_timestamps_clean_v_test.groupby('visit_id')['process_step'].shift(1)\n",
      "C:\\Users\\rafae\\AppData\\Local\\Temp\\ipykernel_47380\\1026909670.py:2: SettingWithCopyWarning: \n",
      "A value is trying to be set on a copy of a slice from a DataFrame.\n",
      "Try using .loc[row_indexer,col_indexer] = value instead\n",
      "\n",
      "See the caveats in the documentation: https://pandas.pydata.org/pandas-docs/stable/user_guide/indexing.html#returning-a-view-versus-a-copy\n",
      "  df_timestamps_clean_v_test['previous_date_time'] = df_timestamps_clean_v_test.groupby('visit_id')['date_time'].shift(1)\n"
     ]
    }
   ],
   "source": [
    "df_timestamps_clean_v_test['previous_step'] = df_timestamps_clean_v_test.groupby('visit_id')['process_step'].shift(1)\n",
    "df_timestamps_clean_v_test['previous_date_time'] = df_timestamps_clean_v_test.groupby('visit_id')['date_time'].shift(1)"
   ]
  },
  {
   "cell_type": "code",
   "execution_count": 206,
   "id": "2baba169-f26c-476d-9ae7-15f927c92851",
   "metadata": {},
   "outputs": [
    {
     "name": "stderr",
     "output_type": "stream",
     "text": [
      "C:\\Users\\rafae\\AppData\\Local\\Temp\\ipykernel_47380\\3805293047.py:1: SettingWithCopyWarning: \n",
      "A value is trying to be set on a copy of a slice from a DataFrame.\n",
      "Try using .loc[row_indexer,col_indexer] = value instead\n",
      "\n",
      "See the caveats in the documentation: https://pandas.pydata.org/pandas-docs/stable/user_guide/indexing.html#returning-a-view-versus-a-copy\n",
      "  df_timestamps_clean_v_control['previous_step'] = df_timestamps_clean_v_control.groupby('visit_id')['process_step'].shift(1)\n",
      "C:\\Users\\rafae\\AppData\\Local\\Temp\\ipykernel_47380\\3805293047.py:2: SettingWithCopyWarning: \n",
      "A value is trying to be set on a copy of a slice from a DataFrame.\n",
      "Try using .loc[row_indexer,col_indexer] = value instead\n",
      "\n",
      "See the caveats in the documentation: https://pandas.pydata.org/pandas-docs/stable/user_guide/indexing.html#returning-a-view-versus-a-copy\n",
      "  df_timestamps_clean_v_control['previous_date_time'] = df_timestamps_clean_v_control.groupby('visit_id')['date_time'].shift(1)\n"
     ]
    }
   ],
   "source": [
    "df_timestamps_clean_v_control['previous_step'] = df_timestamps_clean_v_control.groupby('visit_id')['process_step'].shift(1)\n",
    "df_timestamps_clean_v_control['previous_date_time'] = df_timestamps_clean_v_control.groupby('visit_id')['date_time'].shift(1)"
   ]
  },
  {
   "cell_type": "code",
   "execution_count": 207,
   "id": "73045b00-5b56-4b2a-871c-76bf48c90bfd",
   "metadata": {},
   "outputs": [],
   "source": [
    "def get_time_spent(row):\n",
    "    step_list = [\"start\", \"step_1\", \"step_2\", \"step_3\", \"confirm\"]\n",
    "    \n",
    "    # Get the current and previous steps\n",
    "    current_step = row[\"process_step\"]\n",
    "    previous_step = row[\"previous_step\"]\n",
    "\n",
    "    # Ensure the current step is valid and find the expected previous step\n",
    "    if current_step in step_list:\n",
    "        current_pos_index = step_list.index(current_step)\n",
    "        \n",
    "        # If it's not the first step, find the expected previous step\n",
    "        if current_pos_index > 0:\n",
    "            expected_previous_step = step_list[current_pos_index - 1]\n",
    "        else:\n",
    "            expected_previous_step = None\n",
    "    else:\n",
    "        expected_previous_step = None\n",
    "\n",
    "    # We consider it to not be an error until provided otherwise (in the next step)\n",
    "    row[\"error_flag\"] = False\n",
    "    \n",
    "    # Validate that the previous step matches the expected step\n",
    "    if previous_step == expected_previous_step:\n",
    "        # Calculate the time difference if the previous step is valid\n",
    "        row[\"time_spent_seconds\"] = (row[\"date_time\"] - row[\"previous_date_time\"]).total_seconds()\n",
    "    else:\n",
    "        # If the previous step is not valid, set time_spent_seconds to NaN or some default value\n",
    "        row[\"time_spent_seconds\"] = None\n",
    "\n",
    "        #Turns the flag into True (signaling that it is an error, unless the step is a start)\n",
    "        if current_step == \"start\" :\n",
    "            row[\"error_flag\"] = np.nan\n",
    "        else:\n",
    "            row[\"error_flag\"] = True\n",
    "        \n",
    "    \n",
    "    return row"
   ]
  },
  {
   "cell_type": "code",
   "execution_count": 208,
   "id": "f7a1e951-0bf4-4e9f-aaad-17e18a3d6b48",
   "metadata": {},
   "outputs": [],
   "source": [
    "### EXECUTE ORDER 66\n",
    "\n",
    "df_timestamps_clean = df_timestamps_clean.apply(get_time_spent, axis=1)\n",
    "df_timestamps_clean_v_test = df_timestamps_clean_v_test.apply(get_time_spent, axis=1)\n",
    "df_timestamps_clean_v_control = df_timestamps_clean_v_control.apply(get_time_spent, axis=1)"
   ]
  },
  {
   "cell_type": "code",
   "execution_count": 209,
   "id": "a4563aa6-c36c-4d7b-8871-4f352602ab61",
   "metadata": {},
   "outputs": [],
   "source": [
    "#df_timestamps = df_timestamps.groupby('visit_id').apply(get_time_spent)"
   ]
  },
  {
   "cell_type": "code",
   "execution_count": 210,
   "id": "c79b447a-7951-4f1f-8b2b-e73b2185c00d",
   "metadata": {},
   "outputs": [
    {
     "data": {
      "text/html": [
       "<div>\n",
       "<style scoped>\n",
       "    .dataframe tbody tr th:only-of-type {\n",
       "        vertical-align: middle;\n",
       "    }\n",
       "\n",
       "    .dataframe tbody tr th {\n",
       "        vertical-align: top;\n",
       "    }\n",
       "\n",
       "    .dataframe thead th {\n",
       "        text-align: right;\n",
       "    }\n",
       "</style>\n",
       "<table border=\"1\" class=\"dataframe\">\n",
       "  <thead>\n",
       "    <tr style=\"text-align: right;\">\n",
       "      <th></th>\n",
       "      <th>client_id</th>\n",
       "      <th>visitor_id</th>\n",
       "      <th>visit_id</th>\n",
       "      <th>process_step</th>\n",
       "      <th>date_time</th>\n",
       "      <th>Variation</th>\n",
       "      <th>previous_step</th>\n",
       "      <th>previous_date_time</th>\n",
       "      <th>error_flag</th>\n",
       "      <th>time_spent_seconds</th>\n",
       "    </tr>\n",
       "  </thead>\n",
       "  <tbody>\n",
       "    <tr>\n",
       "      <th>107773</th>\n",
       "      <td>3561384</td>\n",
       "      <td>451664975_1722933822</td>\n",
       "      <td>100012776_37918976071_457913</td>\n",
       "      <td>confirm</td>\n",
       "      <td>2017-04-26 13:22:17</td>\n",
       "      <td>Test</td>\n",
       "      <td>NaN</td>\n",
       "      <td>NaT</td>\n",
       "      <td>True</td>\n",
       "      <td>NaN</td>\n",
       "    </tr>\n",
       "    <tr>\n",
       "      <th>107772</th>\n",
       "      <td>3561384</td>\n",
       "      <td>451664975_1722933822</td>\n",
       "      <td>100012776_37918976071_457913</td>\n",
       "      <td>confirm</td>\n",
       "      <td>2017-04-26 13:23:09</td>\n",
       "      <td>Test</td>\n",
       "      <td>confirm</td>\n",
       "      <td>2017-04-26 13:22:17</td>\n",
       "      <td>True</td>\n",
       "      <td>NaN</td>\n",
       "    </tr>\n",
       "    <tr>\n",
       "      <th>238647</th>\n",
       "      <td>7338123</td>\n",
       "      <td>612065484_94198474375</td>\n",
       "      <td>100019538_17884295066_43909</td>\n",
       "      <td>start</td>\n",
       "      <td>2017-04-09 16:20:56</td>\n",
       "      <td>Test</td>\n",
       "      <td>NaN</td>\n",
       "      <td>NaT</td>\n",
       "      <td>NaN</td>\n",
       "      <td>NaN</td>\n",
       "    </tr>\n",
       "  </tbody>\n",
       "</table>\n",
       "</div>"
      ],
      "text/plain": [
       "        client_id             visitor_id                      visit_id  \\\n",
       "107773    3561384   451664975_1722933822  100012776_37918976071_457913   \n",
       "107772    3561384   451664975_1722933822  100012776_37918976071_457913   \n",
       "238647    7338123  612065484_94198474375   100019538_17884295066_43909   \n",
       "\n",
       "       process_step           date_time Variation previous_step  \\\n",
       "107773      confirm 2017-04-26 13:22:17      Test           NaN   \n",
       "107772      confirm 2017-04-26 13:23:09      Test       confirm   \n",
       "238647        start 2017-04-09 16:20:56      Test           NaN   \n",
       "\n",
       "        previous_date_time error_flag  time_spent_seconds  \n",
       "107773                 NaT       True                 NaN  \n",
       "107772 2017-04-26 13:22:17       True                 NaN  \n",
       "238647                 NaT        NaN                 NaN  "
      ]
     },
     "execution_count": 210,
     "metadata": {},
     "output_type": "execute_result"
    }
   ],
   "source": [
    "df_timestamps_clean_v_test.head(3)"
   ]
  },
  {
   "cell_type": "code",
   "execution_count": 211,
   "id": "c099a416-f565-4b1d-bc03-07d899bf033c",
   "metadata": {},
   "outputs": [
    {
     "data": {
      "text/html": [
       "<div>\n",
       "<style scoped>\n",
       "    .dataframe tbody tr th:only-of-type {\n",
       "        vertical-align: middle;\n",
       "    }\n",
       "\n",
       "    .dataframe tbody tr th {\n",
       "        vertical-align: top;\n",
       "    }\n",
       "\n",
       "    .dataframe thead th {\n",
       "        text-align: right;\n",
       "    }\n",
       "</style>\n",
       "<table border=\"1\" class=\"dataframe\">\n",
       "  <thead>\n",
       "    <tr style=\"text-align: right;\">\n",
       "      <th></th>\n",
       "      <th>client_id</th>\n",
       "      <th>visitor_id</th>\n",
       "      <th>visit_id</th>\n",
       "      <th>process_step</th>\n",
       "      <th>date_time</th>\n",
       "      <th>Variation</th>\n",
       "      <th>previous_step</th>\n",
       "      <th>previous_date_time</th>\n",
       "      <th>error_flag</th>\n",
       "      <th>time_spent_seconds</th>\n",
       "    </tr>\n",
       "  </thead>\n",
       "  <tbody>\n",
       "    <tr>\n",
       "      <th>237496</th>\n",
       "      <td>105007</td>\n",
       "      <td>676020267_36602664238</td>\n",
       "      <td>100030127_47967100085_936361</td>\n",
       "      <td>start</td>\n",
       "      <td>2017-03-22 11:07:49</td>\n",
       "      <td>Control</td>\n",
       "      <td>NaN</td>\n",
       "      <td>NaT</td>\n",
       "      <td>NaN</td>\n",
       "      <td>NaN</td>\n",
       "    </tr>\n",
       "    <tr>\n",
       "      <th>27304</th>\n",
       "      <td>5623007</td>\n",
       "      <td>700426174_33289797318</td>\n",
       "      <td>100037962_47432393712_705583</td>\n",
       "      <td>start</td>\n",
       "      <td>2017-04-14 16:41:51</td>\n",
       "      <td>Control</td>\n",
       "      <td>NaN</td>\n",
       "      <td>NaT</td>\n",
       "      <td>NaN</td>\n",
       "      <td>NaN</td>\n",
       "    </tr>\n",
       "    <tr>\n",
       "      <th>27303</th>\n",
       "      <td>5623007</td>\n",
       "      <td>700426174_33289797318</td>\n",
       "      <td>100037962_47432393712_705583</td>\n",
       "      <td>start</td>\n",
       "      <td>2017-04-14 16:43:16</td>\n",
       "      <td>Control</td>\n",
       "      <td>start</td>\n",
       "      <td>2017-04-14 16:41:51</td>\n",
       "      <td>NaN</td>\n",
       "      <td>NaN</td>\n",
       "    </tr>\n",
       "  </tbody>\n",
       "</table>\n",
       "</div>"
      ],
      "text/plain": [
       "        client_id             visitor_id                      visit_id  \\\n",
       "237496     105007  676020267_36602664238  100030127_47967100085_936361   \n",
       "27304     5623007  700426174_33289797318  100037962_47432393712_705583   \n",
       "27303     5623007  700426174_33289797318  100037962_47432393712_705583   \n",
       "\n",
       "       process_step           date_time Variation previous_step  \\\n",
       "237496        start 2017-03-22 11:07:49   Control           NaN   \n",
       "27304         start 2017-04-14 16:41:51   Control           NaN   \n",
       "27303         start 2017-04-14 16:43:16   Control         start   \n",
       "\n",
       "        previous_date_time error_flag  time_spent_seconds  \n",
       "237496                 NaT        NaN                 NaN  \n",
       "27304                  NaT        NaN                 NaN  \n",
       "27303  2017-04-14 16:41:51        NaN                 NaN  "
      ]
     },
     "execution_count": 211,
     "metadata": {},
     "output_type": "execute_result"
    }
   ],
   "source": [
    "df_timestamps_clean_v_control.head(3)"
   ]
  },
  {
   "cell_type": "code",
   "execution_count": 212,
   "id": "5a586355-229e-466d-9be4-6a25659c341c",
   "metadata": {},
   "outputs": [],
   "source": [
    "#df_timestamps['time_spent_seconds'] = df_timestamps['time_spent_seconds'].dt.total_seconds()"
   ]
  },
  {
   "cell_type": "code",
   "execution_count": 213,
   "id": "80081744-659f-46ac-9662-1ef50cee6b13",
   "metadata": {},
   "outputs": [],
   "source": [
    "x_true = 56999\n",
    "y_false = 367445\n",
    "z_actual = x_true / y_false * 100"
   ]
  },
  {
   "cell_type": "code",
   "execution_count": 214,
   "id": "608c1eb3-d120-480e-9feb-24b03977a202",
   "metadata": {},
   "outputs": [
    {
     "data": {
      "text/plain": [
       "15.512253534542584"
      ]
     },
     "execution_count": 214,
     "metadata": {},
     "output_type": "execute_result"
    }
   ],
   "source": [
    "z_actual"
   ]
  },
  {
   "cell_type": "code",
   "execution_count": 215,
   "id": "0af25698-08c1-4cff-9596-47c7e89057a8",
   "metadata": {},
   "outputs": [
    {
     "data": {
      "text/plain": [
       "error_flag\n",
       "False    102613\n",
       "True      17830\n",
       "Name: count, dtype: int64"
      ]
     },
     "execution_count": 215,
     "metadata": {},
     "output_type": "execute_result"
    }
   ],
   "source": [
    "df_timestamps_clean_v_test['error_flag'].value_counts()"
   ]
  },
  {
   "cell_type": "code",
   "execution_count": 228,
   "id": "68db5460-b0d6-459d-b365-0c461809c05f",
   "metadata": {},
   "outputs": [
    {
     "name": "stderr",
     "output_type": "stream",
     "text": [
      "C:\\Users\\rafae\\AppData\\Local\\Temp\\ipykernel_47380\\2521890664.py:1: FutureWarning: Series.__getitem__ treating keys as positions is deprecated. In a future version, integer keys will always be treated as labels (consistent with DataFrame behavior). To access a value by position, use `ser.iloc[pos]`\n",
      "  df_timestamps_clean_v_test['error_flag'].value_counts()[1] / df_timestamps_clean_v_test['error_flag'].value_counts()[0] * 100\n",
      "C:\\Users\\rafae\\AppData\\Local\\Temp\\ipykernel_47380\\2521890664.py:1: FutureWarning: Series.__getitem__ treating keys as positions is deprecated. In a future version, integer keys will always be treated as labels (consistent with DataFrame behavior). To access a value by position, use `ser.iloc[pos]`\n",
      "  df_timestamps_clean_v_test['error_flag'].value_counts()[1] / df_timestamps_clean_v_test['error_flag'].value_counts()[0] * 100\n"
     ]
    },
    {
     "data": {
      "text/plain": [
       "17.375966008205587"
      ]
     },
     "execution_count": 228,
     "metadata": {},
     "output_type": "execute_result"
    }
   ],
   "source": [
    "### % Percentage of Errors in Test\n",
    "df_timestamps_clean_v_test['error_flag'].value_counts()[1] / df_timestamps_clean_v_test['error_flag'].value_counts()[0] * 100"
   ]
  },
  {
   "cell_type": "code",
   "execution_count": 216,
   "id": "e0cde47a-e509-42bf-aadd-3b01f01963e6",
   "metadata": {},
   "outputs": [
    {
     "data": {
      "text/plain": [
       "error_flag\n",
       "False    83906\n",
       "True     11120\n",
       "Name: count, dtype: int64"
      ]
     },
     "execution_count": 216,
     "metadata": {},
     "output_type": "execute_result"
    }
   ],
   "source": [
    "df_timestamps_clean_v_control['error_flag'].value_counts()"
   ]
  },
  {
   "cell_type": "code",
   "execution_count": 229,
   "id": "1332def8-d12b-4796-b9f1-d0b936d12d07",
   "metadata": {},
   "outputs": [
    {
     "name": "stderr",
     "output_type": "stream",
     "text": [
      "C:\\Users\\rafae\\AppData\\Local\\Temp\\ipykernel_47380\\1973556789.py:2: FutureWarning: Series.__getitem__ treating keys as positions is deprecated. In a future version, integer keys will always be treated as labels (consistent with DataFrame behavior). To access a value by position, use `ser.iloc[pos]`\n",
      "  df_timestamps_clean_v_control['error_flag'].value_counts()[1] / df_timestamps_clean_v_control['error_flag'].value_counts()[0] * 100\n",
      "C:\\Users\\rafae\\AppData\\Local\\Temp\\ipykernel_47380\\1973556789.py:2: FutureWarning: Series.__getitem__ treating keys as positions is deprecated. In a future version, integer keys will always be treated as labels (consistent with DataFrame behavior). To access a value by position, use `ser.iloc[pos]`\n",
      "  df_timestamps_clean_v_control['error_flag'].value_counts()[1] / df_timestamps_clean_v_control['error_flag'].value_counts()[0] * 100\n"
     ]
    },
    {
     "data": {
      "text/plain": [
       "13.252925893261509"
      ]
     },
     "execution_count": 229,
     "metadata": {},
     "output_type": "execute_result"
    }
   ],
   "source": [
    "### % Percentage of Errors in Control\n",
    "df_timestamps_clean_v_control['error_flag'].value_counts()[1] / df_timestamps_clean_v_control['error_flag'].value_counts()[0] * 100"
   ]
  },
  {
   "cell_type": "code",
   "execution_count": 217,
   "id": "e65082b3-7b2f-4aa1-b789-300ec1805d58",
   "metadata": {},
   "outputs": [
    {
     "data": {
      "text/plain": [
       "process_step\n",
       "confirm    105.093187\n",
       "start             NaN\n",
       "step_1      31.087069\n",
       "step_2      37.144365\n",
       "step_3      86.547344\n",
       "Name: time_spent_seconds, dtype: float64"
      ]
     },
     "execution_count": 217,
     "metadata": {},
     "output_type": "execute_result"
    }
   ],
   "source": [
    "mean_time_per_step_v_test = df_timestamps_clean_v_test.groupby('process_step')['time_spent_seconds'].mean()\n",
    "\n",
    "# Average Time spent per Step, in seconds\n",
    "mean_time_per_step_v_test"
   ]
  },
  {
   "cell_type": "code",
   "execution_count": 218,
   "id": "e0ba4a1a-ad2a-4050-ac49-430a47658b6d",
   "metadata": {},
   "outputs": [
    {
     "data": {
      "text/plain": [
       "process_step\n",
       "confirm    127.461757\n",
       "start             NaN\n",
       "step_1      37.701655\n",
       "step_2      33.864246\n",
       "step_3      87.178790\n",
       "Name: time_spent_seconds, dtype: float64"
      ]
     },
     "execution_count": 218,
     "metadata": {},
     "output_type": "execute_result"
    }
   ],
   "source": [
    "mean_time_per_step_v_control = df_timestamps_clean_v_control.groupby('process_step')['time_spent_seconds'].mean()\n",
    "\n",
    "# Average Time spent per Step, in seconds\n",
    "mean_time_per_step_v_control"
   ]
  },
  {
   "cell_type": "code",
   "execution_count": 219,
   "id": "f99fe9d7-9783-475e-8a28-279d44e1f51b",
   "metadata": {},
   "outputs": [],
   "source": [
    "mean_time_per_step_v_test.index = ['D. step 3 to confirm', 'Z. before to start', 'A. start to step_1', 'B. step_1 to step_2', 'C. step_2 to step_3']"
   ]
  },
  {
   "cell_type": "code",
   "execution_count": 220,
   "id": "45677719-371d-4bf5-b31f-924b0836765f",
   "metadata": {},
   "outputs": [],
   "source": [
    "mean_time_per_step_v_control.index = ['D. step 3 to confirm', 'Z. before to start', 'A. start to step_1', 'B. step_1 to step_2', 'C. step_2 to step_3']"
   ]
  },
  {
   "cell_type": "code",
   "execution_count": 221,
   "id": "c39d0825-4c52-44c9-a920-ab2f818bc58a",
   "metadata": {},
   "outputs": [
    {
     "data": {
      "text/plain": [
       "D. step 3 to confirm    105.093187\n",
       "Z. before to start             NaN\n",
       "A. start to step_1       31.087069\n",
       "B. step_1 to step_2      37.144365\n",
       "C. step_2 to step_3      86.547344\n",
       "Name: time_spent_seconds, dtype: float64"
      ]
     },
     "execution_count": 221,
     "metadata": {},
     "output_type": "execute_result"
    }
   ],
   "source": [
    "### Mean Time in the Test Group\n",
    "mean_time_per_step_v_test"
   ]
  },
  {
   "cell_type": "code",
   "execution_count": 222,
   "id": "faca4695-c228-4769-8629-1c8a953c2bca",
   "metadata": {},
   "outputs": [
    {
     "data": {
      "text/plain": [
       "D. step 3 to confirm    127.461757\n",
       "Z. before to start             NaN\n",
       "A. start to step_1       37.701655\n",
       "B. step_1 to step_2      33.864246\n",
       "C. step_2 to step_3      87.178790\n",
       "Name: time_spent_seconds, dtype: float64"
      ]
     },
     "execution_count": 222,
     "metadata": {},
     "output_type": "execute_result"
    }
   ],
   "source": [
    "### Mean Time in the Control Group\n",
    "mean_time_per_step_v_control"
   ]
  }
 ],
 "metadata": {
  "kernelspec": {
   "display_name": "Python 3 (ipykernel)",
   "language": "python",
   "name": "python3"
  },
  "language_info": {
   "codemirror_mode": {
    "name": "ipython",
    "version": 3
   },
   "file_extension": ".py",
   "mimetype": "text/x-python",
   "name": "python",
   "nbconvert_exporter": "python",
   "pygments_lexer": "ipython3",
   "version": "3.12.4"
  }
 },
 "nbformat": 4,
 "nbformat_minor": 5
}
