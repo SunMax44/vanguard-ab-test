{
 "cells": [
  {
   "cell_type": "code",
   "execution_count": 37,
   "id": "15c38afc-9c24-4679-a17b-9f60d2a26535",
   "metadata": {},
   "outputs": [],
   "source": [
    "import pandas as pd\n",
    "import matplotlib.pyplot as plt\n",
    "import seaborn as sns\n",
    "import numpy as np\n",
    "import scipy.stats as stats"
   ]
  },
  {
   "cell_type": "code",
   "execution_count": 39,
   "id": "1f37d482-9990-416a-bf08-7c93094b56b8",
   "metadata": {},
   "outputs": [
    {
     "data": {
      "text/plain": [
       "(318872, 6)"
      ]
     },
     "execution_count": 39,
     "metadata": {},
     "output_type": "execute_result"
    }
   ],
   "source": [
    "### CURRENT VERSION\n",
    "\n",
    "# Load the CSV file from the data folder in the repo\n",
    "df_timestamps = pd.read_csv('cleaned_data/data_web_exp.csv')\n",
    "\n",
    "# Display the DataFrame\n",
    "df_timestamps.shape"
   ]
  },
  {
   "cell_type": "code",
   "execution_count": 40,
   "id": "7e54ef79-b5ce-43e6-8d88-8a8bcdbb5cf4",
   "metadata": {},
   "outputs": [],
   "source": [
    "# Converting into datetime for later calculation\n",
    "\n",
    "df_timestamps['date_time'] = pd.to_datetime(df_timestamps_clean['date_time'])"
   ]
  },
  {
   "cell_type": "code",
   "execution_count": 41,
   "id": "8f149389-4078-4f63-9394-e9ae22317319",
   "metadata": {},
   "outputs": [
    {
     "data": {
      "text/html": [
       "<div>\n",
       "<style scoped>\n",
       "    .dataframe tbody tr th:only-of-type {\n",
       "        vertical-align: middle;\n",
       "    }\n",
       "\n",
       "    .dataframe tbody tr th {\n",
       "        vertical-align: top;\n",
       "    }\n",
       "\n",
       "    .dataframe thead th {\n",
       "        text-align: right;\n",
       "    }\n",
       "</style>\n",
       "<table border=\"1\" class=\"dataframe\">\n",
       "  <thead>\n",
       "    <tr style=\"text-align: right;\">\n",
       "      <th></th>\n",
       "      <th>client_id</th>\n",
       "      <th>visitor_id</th>\n",
       "      <th>visit_id</th>\n",
       "      <th>process_step</th>\n",
       "      <th>date_time</th>\n",
       "      <th>Variation</th>\n",
       "    </tr>\n",
       "  </thead>\n",
       "  <tbody>\n",
       "    <tr>\n",
       "      <th>0</th>\n",
       "      <td>9988021</td>\n",
       "      <td>580560515_7732621733</td>\n",
       "      <td>781255054_21935453173_531117</td>\n",
       "      <td>step_3</td>\n",
       "      <td>2017-04-17 15:27:07</td>\n",
       "      <td>Test</td>\n",
       "    </tr>\n",
       "    <tr>\n",
       "      <th>1</th>\n",
       "      <td>9988021</td>\n",
       "      <td>580560515_7732621733</td>\n",
       "      <td>781255054_21935453173_531117</td>\n",
       "      <td>step_2</td>\n",
       "      <td>2017-04-17 15:26:51</td>\n",
       "      <td>Test</td>\n",
       "    </tr>\n",
       "  </tbody>\n",
       "</table>\n",
       "</div>"
      ],
      "text/plain": [
       "   client_id            visitor_id                      visit_id process_step  \\\n",
       "0    9988021  580560515_7732621733  781255054_21935453173_531117       step_3   \n",
       "1    9988021  580560515_7732621733  781255054_21935453173_531117       step_2   \n",
       "\n",
       "            date_time Variation  \n",
       "0 2017-04-17 15:27:07      Test  \n",
       "1 2017-04-17 15:26:51      Test  "
      ]
     },
     "execution_count": 41,
     "metadata": {},
     "output_type": "execute_result"
    }
   ],
   "source": [
    "df_timestamps.head(2)"
   ]
  },
  {
   "cell_type": "code",
   "execution_count": 42,
   "id": "44cf33e3-8b15-4ade-b8e9-5b2c9d94aa05",
   "metadata": {},
   "outputs": [],
   "source": [
    "# Sorting values first by visit and then by time, to have timestamps of the same visit id group\n",
    "# and the time in a single advancing direction\n",
    "\n",
    "df_timestamps = df_timestamps.sort_values(by=['visit_id', 'date_time'])"
   ]
  },
  {
   "cell_type": "code",
   "execution_count": 77,
   "id": "ce59e7c1-48a8-4175-92d1-6f103164d60a",
   "metadata": {},
   "outputs": [
    {
     "data": {
      "text/html": [
       "<div>\n",
       "<style scoped>\n",
       "    .dataframe tbody tr th:only-of-type {\n",
       "        vertical-align: middle;\n",
       "    }\n",
       "\n",
       "    .dataframe tbody tr th {\n",
       "        vertical-align: top;\n",
       "    }\n",
       "\n",
       "    .dataframe thead th {\n",
       "        text-align: right;\n",
       "    }\n",
       "</style>\n",
       "<table border=\"1\" class=\"dataframe\">\n",
       "  <thead>\n",
       "    <tr style=\"text-align: right;\">\n",
       "      <th></th>\n",
       "      <th>client_id</th>\n",
       "      <th>visitor_id</th>\n",
       "      <th>visit_id</th>\n",
       "      <th>process_step</th>\n",
       "      <th>date_time</th>\n",
       "      <th>Variation</th>\n",
       "      <th>previous_step</th>\n",
       "      <th>previous_date_time</th>\n",
       "    </tr>\n",
       "  </thead>\n",
       "  <tbody>\n",
       "    <tr>\n",
       "      <th>106022</th>\n",
       "      <td>3561384</td>\n",
       "      <td>451664975_1722933822</td>\n",
       "      <td>100012776_37918976071_457913</td>\n",
       "      <td>confirm</td>\n",
       "      <td>2017-04-26 13:22:17</td>\n",
       "      <td>Test</td>\n",
       "      <td>NaN</td>\n",
       "      <td>NaT</td>\n",
       "    </tr>\n",
       "    <tr>\n",
       "      <th>106021</th>\n",
       "      <td>3561384</td>\n",
       "      <td>451664975_1722933822</td>\n",
       "      <td>100012776_37918976071_457913</td>\n",
       "      <td>confirm</td>\n",
       "      <td>2017-04-26 13:23:09</td>\n",
       "      <td>Test</td>\n",
       "      <td>confirm</td>\n",
       "      <td>2017-04-26 13:22:17</td>\n",
       "    </tr>\n",
       "  </tbody>\n",
       "</table>\n",
       "</div>"
      ],
      "text/plain": [
       "        client_id            visitor_id                      visit_id  \\\n",
       "106022    3561384  451664975_1722933822  100012776_37918976071_457913   \n",
       "106021    3561384  451664975_1722933822  100012776_37918976071_457913   \n",
       "\n",
       "       process_step           date_time Variation previous_step  \\\n",
       "106022      confirm 2017-04-26 13:22:17      Test           NaN   \n",
       "106021      confirm 2017-04-26 13:23:09      Test       confirm   \n",
       "\n",
       "        previous_date_time  \n",
       "106022                 NaT  \n",
       "106021 2017-04-26 13:22:17  "
      ]
     },
     "execution_count": 77,
     "metadata": {},
     "output_type": "execute_result"
    }
   ],
   "source": [
    "df_timestamps.head(2)"
   ]
  },
  {
   "cell_type": "code",
   "execution_count": 46,
   "id": "2f88d589-56f2-4add-b5b4-54acaf1164f3",
   "metadata": {},
   "outputs": [],
   "source": [
    "### Filtering DF for only Test group customers\n",
    "\n",
    "df_timestamps_group_test = df_timestamps_clean[(df_timestamps_clean['Variation'] == \"Test\")]"
   ]
  },
  {
   "cell_type": "code",
   "execution_count": 47,
   "id": "19be2294-5e77-4ed8-9a56-6fcc431bf1d1",
   "metadata": {},
   "outputs": [],
   "source": [
    "## Filtering DF for only Test group customers\n",
    "\n",
    "df_timestamps_group_control = df_timestamps_clean[(df_timestamps_clean['Variation'] == \"Control\")]"
   ]
  },
  {
   "cell_type": "code",
   "execution_count": 50,
   "id": "cfb08f76-4e4a-494b-9d63-6385434494ab",
   "metadata": {},
   "outputs": [],
   "source": [
    "### Create a helper column, in order to access the previous step of the same visitor id\n",
    "\n",
    "df_timestamps['previous_step'] = df_timestamps.groupby('visit_id')['process_step'].shift(1)\n",
    "df_timestamps['previous_date_time'] = df_timestamps.groupby('visit_id')['date_time'].shift(1)"
   ]
  },
  {
   "cell_type": "code",
   "execution_count": 51,
   "id": "46fc0afd-6174-4fa6-b50d-3fed610d11c6",
   "metadata": {},
   "outputs": [
    {
     "name": "stderr",
     "output_type": "stream",
     "text": [
      "C:\\Users\\rafae\\AppData\\Local\\Temp\\ipykernel_58592\\2903605953.py:1: SettingWithCopyWarning: \n",
      "A value is trying to be set on a copy of a slice from a DataFrame.\n",
      "Try using .loc[row_indexer,col_indexer] = value instead\n",
      "\n",
      "See the caveats in the documentation: https://pandas.pydata.org/pandas-docs/stable/user_guide/indexing.html#returning-a-view-versus-a-copy\n",
      "  df_timestamps_group_test['previous_step'] = df_timestamps_clean_v_test.groupby('visit_id')['process_step'].shift(1)\n",
      "C:\\Users\\rafae\\AppData\\Local\\Temp\\ipykernel_58592\\2903605953.py:2: SettingWithCopyWarning: \n",
      "A value is trying to be set on a copy of a slice from a DataFrame.\n",
      "Try using .loc[row_indexer,col_indexer] = value instead\n",
      "\n",
      "See the caveats in the documentation: https://pandas.pydata.org/pandas-docs/stable/user_guide/indexing.html#returning-a-view-versus-a-copy\n",
      "  df_timestamps_group_test['previous_date_time'] = df_timestamps_clean_v_test.groupby('visit_id')['date_time'].shift(1)\n"
     ]
    }
   ],
   "source": [
    "df_timestamps_group_test['previous_step'] = df_timestamps_clean_v_test.groupby('visit_id')['process_step'].shift(1)\n",
    "df_timestamps_group_test['previous_date_time'] = df_timestamps_clean_v_test.groupby('visit_id')['date_time'].shift(1)"
   ]
  },
  {
   "cell_type": "code",
   "execution_count": 52,
   "id": "2baba169-f26c-476d-9ae7-15f927c92851",
   "metadata": {},
   "outputs": [
    {
     "name": "stderr",
     "output_type": "stream",
     "text": [
      "C:\\Users\\rafae\\AppData\\Local\\Temp\\ipykernel_58592\\4037053500.py:1: SettingWithCopyWarning: \n",
      "A value is trying to be set on a copy of a slice from a DataFrame.\n",
      "Try using .loc[row_indexer,col_indexer] = value instead\n",
      "\n",
      "See the caveats in the documentation: https://pandas.pydata.org/pandas-docs/stable/user_guide/indexing.html#returning-a-view-versus-a-copy\n",
      "  df_timestamps_group_control['previous_step'] = df_timestamps_clean_v_control.groupby('visit_id')['process_step'].shift(1)\n",
      "C:\\Users\\rafae\\AppData\\Local\\Temp\\ipykernel_58592\\4037053500.py:2: SettingWithCopyWarning: \n",
      "A value is trying to be set on a copy of a slice from a DataFrame.\n",
      "Try using .loc[row_indexer,col_indexer] = value instead\n",
      "\n",
      "See the caveats in the documentation: https://pandas.pydata.org/pandas-docs/stable/user_guide/indexing.html#returning-a-view-versus-a-copy\n",
      "  df_timestamps_group_control['previous_date_time'] = df_timestamps_clean_v_control.groupby('visit_id')['date_time'].shift(1)\n"
     ]
    }
   ],
   "source": [
    "df_timestamps_group_control['previous_step'] = df_timestamps_clean_v_control.groupby('visit_id')['process_step'].shift(1)\n",
    "df_timestamps_group_control['previous_date_time'] = df_timestamps_clean_v_control.groupby('visit_id')['date_time'].shift(1)"
   ]
  },
  {
   "cell_type": "code",
   "execution_count": 53,
   "id": "9a849317-447b-4063-97ac-50a2e44fc5c3",
   "metadata": {},
   "outputs": [
    {
     "data": {
      "text/html": [
       "<div>\n",
       "<style scoped>\n",
       "    .dataframe tbody tr th:only-of-type {\n",
       "        vertical-align: middle;\n",
       "    }\n",
       "\n",
       "    .dataframe tbody tr th {\n",
       "        vertical-align: top;\n",
       "    }\n",
       "\n",
       "    .dataframe thead th {\n",
       "        text-align: right;\n",
       "    }\n",
       "</style>\n",
       "<table border=\"1\" class=\"dataframe\">\n",
       "  <thead>\n",
       "    <tr style=\"text-align: right;\">\n",
       "      <th></th>\n",
       "      <th>client_id</th>\n",
       "      <th>visitor_id</th>\n",
       "      <th>visit_id</th>\n",
       "      <th>process_step</th>\n",
       "      <th>date_time</th>\n",
       "      <th>Variation</th>\n",
       "      <th>previous_step</th>\n",
       "      <th>previous_date_time</th>\n",
       "    </tr>\n",
       "  </thead>\n",
       "  <tbody>\n",
       "    <tr>\n",
       "      <th>233507</th>\n",
       "      <td>105007</td>\n",
       "      <td>676020267_36602664238</td>\n",
       "      <td>100030127_47967100085_936361</td>\n",
       "      <td>start</td>\n",
       "      <td>2017-03-22 11:07:49</td>\n",
       "      <td>Control</td>\n",
       "      <td>NaN</td>\n",
       "      <td>NaT</td>\n",
       "    </tr>\n",
       "    <tr>\n",
       "      <th>26884</th>\n",
       "      <td>5623007</td>\n",
       "      <td>700426174_33289797318</td>\n",
       "      <td>100037962_47432393712_705583</td>\n",
       "      <td>start</td>\n",
       "      <td>2017-04-14 16:41:51</td>\n",
       "      <td>Control</td>\n",
       "      <td>NaN</td>\n",
       "      <td>NaT</td>\n",
       "    </tr>\n",
       "    <tr>\n",
       "      <th>26883</th>\n",
       "      <td>5623007</td>\n",
       "      <td>700426174_33289797318</td>\n",
       "      <td>100037962_47432393712_705583</td>\n",
       "      <td>start</td>\n",
       "      <td>2017-04-14 16:43:16</td>\n",
       "      <td>Control</td>\n",
       "      <td>start</td>\n",
       "      <td>2017-04-14 16:41:51</td>\n",
       "    </tr>\n",
       "    <tr>\n",
       "      <th>26882</th>\n",
       "      <td>5623007</td>\n",
       "      <td>700426174_33289797318</td>\n",
       "      <td>100037962_47432393712_705583</td>\n",
       "      <td>step_1</td>\n",
       "      <td>2017-04-14 16:43:55</td>\n",
       "      <td>Control</td>\n",
       "      <td>start</td>\n",
       "      <td>2017-04-14 16:43:16</td>\n",
       "    </tr>\n",
       "    <tr>\n",
       "      <th>26881</th>\n",
       "      <td>5623007</td>\n",
       "      <td>700426174_33289797318</td>\n",
       "      <td>100037962_47432393712_705583</td>\n",
       "      <td>start</td>\n",
       "      <td>2017-04-14 16:44:03</td>\n",
       "      <td>Control</td>\n",
       "      <td>step_1</td>\n",
       "      <td>2017-04-14 16:43:55</td>\n",
       "    </tr>\n",
       "  </tbody>\n",
       "</table>\n",
       "</div>"
      ],
      "text/plain": [
       "        client_id             visitor_id                      visit_id  \\\n",
       "233507     105007  676020267_36602664238  100030127_47967100085_936361   \n",
       "26884     5623007  700426174_33289797318  100037962_47432393712_705583   \n",
       "26883     5623007  700426174_33289797318  100037962_47432393712_705583   \n",
       "26882     5623007  700426174_33289797318  100037962_47432393712_705583   \n",
       "26881     5623007  700426174_33289797318  100037962_47432393712_705583   \n",
       "\n",
       "       process_step           date_time Variation previous_step  \\\n",
       "233507        start 2017-03-22 11:07:49   Control           NaN   \n",
       "26884         start 2017-04-14 16:41:51   Control           NaN   \n",
       "26883         start 2017-04-14 16:43:16   Control         start   \n",
       "26882        step_1 2017-04-14 16:43:55   Control         start   \n",
       "26881         start 2017-04-14 16:44:03   Control        step_1   \n",
       "\n",
       "        previous_date_time  \n",
       "233507                 NaT  \n",
       "26884                  NaT  \n",
       "26883  2017-04-14 16:41:51  \n",
       "26882  2017-04-14 16:43:16  \n",
       "26881  2017-04-14 16:43:55  "
      ]
     },
     "execution_count": 53,
     "metadata": {},
     "output_type": "execute_result"
    }
   ],
   "source": [
    "df_timestamps_group_control.head(5)"
   ]
  },
  {
   "cell_type": "code",
   "execution_count": 54,
   "id": "73045b00-5b56-4b2a-871c-76bf48c90bfd",
   "metadata": {},
   "outputs": [],
   "source": [
    "# This function calculates the time spent between steps\n",
    "# and flags individual action as being an error (or not)\n",
    "\n",
    "def get_time_spent(row):\n",
    "    step_list = [\"start\", \"step_1\", \"step_2\", \"step_3\", \"confirm\"]\n",
    "    \n",
    "    # Get the current and previous steps\n",
    "    current_step = row[\"process_step\"]\n",
    "    previous_step = row[\"previous_step\"]\n",
    "\n",
    "    # Ensure the current step is valid and find the expected previous step\n",
    "    if current_step in step_list:\n",
    "        current_pos_index = step_list.index(current_step)\n",
    "        \n",
    "        # If it's not the first step, find the expected previous step\n",
    "        if current_pos_index > 0:\n",
    "            expected_previous_step = step_list[current_pos_index - 1]\n",
    "        else:\n",
    "            expected_previous_step = None\n",
    "    else:\n",
    "        expected_previous_step = None\n",
    "\n",
    "    # We consider it to not be an error until provided otherwise (in the next step)\n",
    "    row[\"error_flag\"] = False\n",
    "    \n",
    "    # Validate that the previous step matches the expected step\n",
    "    if previous_step == expected_previous_step:\n",
    "        # Calculate the time difference if the previous step is valid\n",
    "        row[\"time_spent_seconds\"] = (row[\"date_time\"] - row[\"previous_date_time\"]).total_seconds()\n",
    "\n",
    "    ### Edge Case: A start follows after a confirm; not an Error case\n",
    "    elif current_step == \"start\" and previous_step == \"confirm\":\n",
    "        row[\"error_flag\"] = False\n",
    "        row[\"time_spent_seconds\"] = None\n",
    "    else:\n",
    "        # If the previous step is not valid, set time_spent_seconds to NaN or some default value\n",
    "        row[\"time_spent_seconds\"] = None\n",
    "\n",
    "        #Turns the flag into True (signaling that it is an error, unless the step is a start)\n",
    "        #if current_step == \"start\":\n",
    "        if not previous_step and current_step == \"start\":\n",
    "            row[\"error_flag\"] = np.nan\n",
    "        else:\n",
    "            row[\"error_flag\"] = True\n",
    "        \n",
    "    return row"
   ]
  },
  {
   "cell_type": "code",
   "execution_count": 55,
   "id": "f7a1e951-0bf4-4e9f-aaad-17e18a3d6b48",
   "metadata": {},
   "outputs": [],
   "source": [
    "### Executing previous function through an apply, affecting the entirety of both DF (Test and Group)\n",
    "\n",
    "df_timestamps_group_test = df_timestamps_group_test.apply(get_time_spent, axis=1)\n",
    "\n",
    "df_timestamps_group_control = df_timestamps_group_control.apply(get_time_spent, axis=1)"
   ]
  },
  {
   "cell_type": "code",
   "execution_count": 56,
   "id": "c79b447a-7951-4f1f-8b2b-e73b2185c00d",
   "metadata": {},
   "outputs": [
    {
     "data": {
      "text/html": [
       "<div>\n",
       "<style scoped>\n",
       "    .dataframe tbody tr th:only-of-type {\n",
       "        vertical-align: middle;\n",
       "    }\n",
       "\n",
       "    .dataframe tbody tr th {\n",
       "        vertical-align: top;\n",
       "    }\n",
       "\n",
       "    .dataframe thead th {\n",
       "        text-align: right;\n",
       "    }\n",
       "</style>\n",
       "<table border=\"1\" class=\"dataframe\">\n",
       "  <thead>\n",
       "    <tr style=\"text-align: right;\">\n",
       "      <th></th>\n",
       "      <th>client_id</th>\n",
       "      <th>visitor_id</th>\n",
       "      <th>visit_id</th>\n",
       "      <th>process_step</th>\n",
       "      <th>date_time</th>\n",
       "      <th>Variation</th>\n",
       "      <th>previous_step</th>\n",
       "      <th>previous_date_time</th>\n",
       "      <th>error_flag</th>\n",
       "      <th>time_spent_seconds</th>\n",
       "    </tr>\n",
       "  </thead>\n",
       "  <tbody>\n",
       "    <tr>\n",
       "      <th>106022</th>\n",
       "      <td>3561384</td>\n",
       "      <td>451664975_1722933822</td>\n",
       "      <td>100012776_37918976071_457913</td>\n",
       "      <td>confirm</td>\n",
       "      <td>2017-04-26 13:22:17</td>\n",
       "      <td>Test</td>\n",
       "      <td>NaN</td>\n",
       "      <td>NaT</td>\n",
       "      <td>True</td>\n",
       "      <td>NaN</td>\n",
       "    </tr>\n",
       "    <tr>\n",
       "      <th>106021</th>\n",
       "      <td>3561384</td>\n",
       "      <td>451664975_1722933822</td>\n",
       "      <td>100012776_37918976071_457913</td>\n",
       "      <td>confirm</td>\n",
       "      <td>2017-04-26 13:23:09</td>\n",
       "      <td>Test</td>\n",
       "      <td>confirm</td>\n",
       "      <td>2017-04-26 13:22:17</td>\n",
       "      <td>True</td>\n",
       "      <td>NaN</td>\n",
       "    </tr>\n",
       "  </tbody>\n",
       "</table>\n",
       "</div>"
      ],
      "text/plain": [
       "        client_id            visitor_id                      visit_id  \\\n",
       "106022    3561384  451664975_1722933822  100012776_37918976071_457913   \n",
       "106021    3561384  451664975_1722933822  100012776_37918976071_457913   \n",
       "\n",
       "       process_step           date_time Variation previous_step  \\\n",
       "106022      confirm 2017-04-26 13:22:17      Test           NaN   \n",
       "106021      confirm 2017-04-26 13:23:09      Test       confirm   \n",
       "\n",
       "        previous_date_time  error_flag  time_spent_seconds  \n",
       "106022                 NaT        True                 NaN  \n",
       "106021 2017-04-26 13:22:17        True                 NaN  "
      ]
     },
     "execution_count": 56,
     "metadata": {},
     "output_type": "execute_result"
    }
   ],
   "source": [
    "df_timestamps_group_test.head(2)"
   ]
  },
  {
   "cell_type": "code",
   "execution_count": 57,
   "id": "c099a416-f565-4b1d-bc03-07d899bf033c",
   "metadata": {},
   "outputs": [
    {
     "data": {
      "text/html": [
       "<div>\n",
       "<style scoped>\n",
       "    .dataframe tbody tr th:only-of-type {\n",
       "        vertical-align: middle;\n",
       "    }\n",
       "\n",
       "    .dataframe tbody tr th {\n",
       "        vertical-align: top;\n",
       "    }\n",
       "\n",
       "    .dataframe thead th {\n",
       "        text-align: right;\n",
       "    }\n",
       "</style>\n",
       "<table border=\"1\" class=\"dataframe\">\n",
       "  <thead>\n",
       "    <tr style=\"text-align: right;\">\n",
       "      <th></th>\n",
       "      <th>client_id</th>\n",
       "      <th>visitor_id</th>\n",
       "      <th>visit_id</th>\n",
       "      <th>process_step</th>\n",
       "      <th>date_time</th>\n",
       "      <th>Variation</th>\n",
       "      <th>previous_step</th>\n",
       "      <th>previous_date_time</th>\n",
       "      <th>error_flag</th>\n",
       "      <th>time_spent_seconds</th>\n",
       "    </tr>\n",
       "  </thead>\n",
       "  <tbody>\n",
       "    <tr>\n",
       "      <th>233507</th>\n",
       "      <td>105007</td>\n",
       "      <td>676020267_36602664238</td>\n",
       "      <td>100030127_47967100085_936361</td>\n",
       "      <td>start</td>\n",
       "      <td>2017-03-22 11:07:49</td>\n",
       "      <td>Control</td>\n",
       "      <td>NaN</td>\n",
       "      <td>NaT</td>\n",
       "      <td>True</td>\n",
       "      <td>NaN</td>\n",
       "    </tr>\n",
       "    <tr>\n",
       "      <th>26884</th>\n",
       "      <td>5623007</td>\n",
       "      <td>700426174_33289797318</td>\n",
       "      <td>100037962_47432393712_705583</td>\n",
       "      <td>start</td>\n",
       "      <td>2017-04-14 16:41:51</td>\n",
       "      <td>Control</td>\n",
       "      <td>NaN</td>\n",
       "      <td>NaT</td>\n",
       "      <td>True</td>\n",
       "      <td>NaN</td>\n",
       "    </tr>\n",
       "  </tbody>\n",
       "</table>\n",
       "</div>"
      ],
      "text/plain": [
       "        client_id             visitor_id                      visit_id  \\\n",
       "233507     105007  676020267_36602664238  100030127_47967100085_936361   \n",
       "26884     5623007  700426174_33289797318  100037962_47432393712_705583   \n",
       "\n",
       "       process_step           date_time Variation previous_step  \\\n",
       "233507        start 2017-03-22 11:07:49   Control           NaN   \n",
       "26884         start 2017-04-14 16:41:51   Control           NaN   \n",
       "\n",
       "       previous_date_time  error_flag  time_spent_seconds  \n",
       "233507                NaT        True                 NaN  \n",
       "26884                 NaT        True                 NaN  "
      ]
     },
     "execution_count": 57,
     "metadata": {},
     "output_type": "execute_result"
    }
   ],
   "source": [
    "df_timestamps_group_control.head(2)"
   ]
  },
  {
   "cell_type": "code",
   "execution_count": 58,
   "id": "0af25698-08c1-4cff-9596-47c7e89057a8",
   "metadata": {},
   "outputs": [
    {
     "data": {
      "text/plain": [
       "error_flag\n",
       "False    102904\n",
       "True      73661\n",
       "Name: count, dtype: int64"
      ]
     },
     "execution_count": 58,
     "metadata": {},
     "output_type": "execute_result"
    }
   ],
   "source": [
    "# Absolute Amount of Errors in Test Group\n",
    "\n",
    "df_timestamps_group_test['error_flag'].value_counts()"
   ]
  },
  {
   "cell_type": "code",
   "execution_count": 59,
   "id": "68db5460-b0d6-459d-b365-0c461809c05f",
   "metadata": {},
   "outputs": [
    {
     "name": "stderr",
     "output_type": "stream",
     "text": [
      "C:\\Users\\rafae\\AppData\\Local\\Temp\\ipykernel_58592\\3839667693.py:2: FutureWarning: Series.__getitem__ treating keys as positions is deprecated. In a future version, integer keys will always be treated as labels (consistent with DataFrame behavior). To access a value by position, use `ser.iloc[pos]`\n",
      "  df_timestamps_group_test['error_flag'].value_counts()[1] / df_timestamps_group_test['error_flag'].value_counts()[0] * 100\n"
     ]
    },
    {
     "data": {
      "text/plain": [
       "71.58225141879811"
      ]
     },
     "execution_count": 59,
     "metadata": {},
     "output_type": "execute_result"
    }
   ],
   "source": [
    "### % Percentage of Errors in Test\n",
    "df_timestamps_group_test['error_flag'].value_counts()[1] / df_timestamps_group_test['error_flag'].value_counts()[0] * 100"
   ]
  },
  {
   "cell_type": "code",
   "execution_count": 60,
   "id": "e0cde47a-e509-42bf-aadd-3b01f01963e6",
   "metadata": {},
   "outputs": [
    {
     "data": {
      "text/plain": [
       "error_flag\n",
       "False    84428\n",
       "True     57879\n",
       "Name: count, dtype: int64"
      ]
     },
     "execution_count": 60,
     "metadata": {},
     "output_type": "execute_result"
    }
   ],
   "source": [
    "# Absolute Amount of Errors in Control Group\n",
    "\n",
    "df_timestamps_group_control['error_flag'].value_counts()"
   ]
  },
  {
   "cell_type": "code",
   "execution_count": 61,
   "id": "1332def8-d12b-4796-b9f1-d0b936d12d07",
   "metadata": {},
   "outputs": [
    {
     "name": "stderr",
     "output_type": "stream",
     "text": [
      "C:\\Users\\rafae\\AppData\\Local\\Temp\\ipykernel_58592\\2148566792.py:2: FutureWarning: Series.__getitem__ treating keys as positions is deprecated. In a future version, integer keys will always be treated as labels (consistent with DataFrame behavior). To access a value by position, use `ser.iloc[pos]`\n",
      "  df_timestamps_group_control['error_flag'].value_counts()[1] / df_timestamps_clean_v_control['error_flag'].value_counts()[0] * 100\n"
     ]
    },
    {
     "data": {
      "text/plain": [
       "68.55427109489742"
      ]
     },
     "execution_count": 61,
     "metadata": {},
     "output_type": "execute_result"
    }
   ],
   "source": [
    "### % Percentage of Errors in Control\n",
    "df_timestamps_group_control['error_flag'].value_counts()[1] / df_timestamps_clean_v_control['error_flag'].value_counts()[0] * 100"
   ]
  },
  {
   "cell_type": "code",
   "execution_count": 62,
   "id": "e65082b3-7b2f-4aa1-b789-300ec1805d58",
   "metadata": {},
   "outputs": [
    {
     "data": {
      "text/plain": [
       "process_step\n",
       "confirm    105.093187\n",
       "start             NaN\n",
       "step_1      31.087069\n",
       "step_2      37.144365\n",
       "step_3      86.547344\n",
       "Name: time_spent_seconds, dtype: float64"
      ]
     },
     "execution_count": 62,
     "metadata": {},
     "output_type": "execute_result"
    }
   ],
   "source": [
    "# Average Time spent per Step, in seconds\n",
    "\n",
    "mean_time_per_step_group_test = df_timestamps_group_test.groupby('process_step')['time_spent_seconds'].mean()\n",
    "\n",
    "mean_time_per_step_group_test"
   ]
  },
  {
   "cell_type": "code",
   "execution_count": 63,
   "id": "e0ba4a1a-ad2a-4050-ac49-430a47658b6d",
   "metadata": {},
   "outputs": [
    {
     "data": {
      "text/plain": [
       "process_step\n",
       "confirm    127.461757\n",
       "start             NaN\n",
       "step_1      37.701655\n",
       "step_2      33.864246\n",
       "step_3      87.178790\n",
       "Name: time_spent_seconds, dtype: float64"
      ]
     },
     "execution_count": 63,
     "metadata": {},
     "output_type": "execute_result"
    }
   ],
   "source": [
    "# Average Time spent per Step, in seconds\n",
    "\n",
    "mean_time_per_step_group_control = df_timestamps_clean_v_control.groupby('process_step')['time_spent_seconds'].mean()\n",
    "\n",
    "mean_time_per_step_group_control"
   ]
  },
  {
   "cell_type": "code",
   "execution_count": 64,
   "id": "f99fe9d7-9783-475e-8a28-279d44e1f51b",
   "metadata": {},
   "outputs": [],
   "source": [
    "## Renaming indexes for reability\n",
    "\n",
    "mean_time_per_step_group_test.index = ['D. step 3 to confirm', 'Z. before to start', 'A. start to step_1', 'B. step_1 to step_2', 'C. step_2 to step_3']\n",
    "\n",
    "mean_time_per_step_group_control.index = ['D. step 3 to confirm', 'Z. before to start', 'A. start to step_1', 'B. step_1 to step_2', 'C. step_2 to step_3']"
   ]
  },
  {
   "cell_type": "code",
   "execution_count": 66,
   "id": "c39d0825-4c52-44c9-a920-ab2f818bc58a",
   "metadata": {},
   "outputs": [
    {
     "data": {
      "text/plain": [
       "D. step 3 to confirm    105.093187\n",
       "Z. before to start             NaN\n",
       "A. start to step_1       31.087069\n",
       "B. step_1 to step_2      37.144365\n",
       "C. step_2 to step_3      86.547344\n",
       "Name: time_spent_seconds, dtype: float64"
      ]
     },
     "execution_count": 66,
     "metadata": {},
     "output_type": "execute_result"
    }
   ],
   "source": [
    "### Mean Time in the Test Group\n",
    "mean_time_per_step_group_test"
   ]
  },
  {
   "cell_type": "code",
   "execution_count": 67,
   "id": "2128fcc2-ffd9-4229-8f2a-fdb754e63efd",
   "metadata": {},
   "outputs": [
    {
     "data": {
      "text/plain": [
       "64.96799139003879"
      ]
     },
     "execution_count": 67,
     "metadata": {},
     "output_type": "execute_result"
    }
   ],
   "source": [
    "### Mean of Mean of all Steps, Test Group\n",
    "\n",
    "mean_time_per_step_group_test.mean()"
   ]
  },
  {
   "cell_type": "code",
   "execution_count": 68,
   "id": "faca4695-c228-4769-8629-1c8a953c2bca",
   "metadata": {},
   "outputs": [
    {
     "data": {
      "text/plain": [
       "D. step 3 to confirm    127.461757\n",
       "Z. before to start             NaN\n",
       "A. start to step_1       37.701655\n",
       "B. step_1 to step_2      33.864246\n",
       "C. step_2 to step_3      87.178790\n",
       "Name: time_spent_seconds, dtype: float64"
      ]
     },
     "execution_count": 68,
     "metadata": {},
     "output_type": "execute_result"
    }
   ],
   "source": [
    "### Mean Time in the Control Group\n",
    "\n",
    "mean_time_per_step_group_control"
   ]
  },
  {
   "cell_type": "code",
   "execution_count": 69,
   "id": "757fcbf8-bab4-4b35-b4b6-73805f5de373",
   "metadata": {},
   "outputs": [
    {
     "data": {
      "text/plain": [
       "71.55161201514193"
      ]
     },
     "execution_count": 69,
     "metadata": {},
     "output_type": "execute_result"
    }
   ],
   "source": [
    "### Mean of Mean of all Steps, Control Group\n",
    "\n",
    "mean_time_per_step_group_control.mean()"
   ]
  },
  {
   "cell_type": "code",
   "execution_count": 70,
   "id": "bd0541f0-b221-4a78-86a0-13704d25aaad",
   "metadata": {},
   "outputs": [
    {
     "data": {
      "text/html": [
       "<div>\n",
       "<style scoped>\n",
       "    .dataframe tbody tr th:only-of-type {\n",
       "        vertical-align: middle;\n",
       "    }\n",
       "\n",
       "    .dataframe tbody tr th {\n",
       "        vertical-align: top;\n",
       "    }\n",
       "\n",
       "    .dataframe thead th {\n",
       "        text-align: right;\n",
       "    }\n",
       "</style>\n",
       "<table border=\"1\" class=\"dataframe\">\n",
       "  <thead>\n",
       "    <tr style=\"text-align: right;\">\n",
       "      <th></th>\n",
       "      <th>client_id</th>\n",
       "      <th>visitor_id</th>\n",
       "      <th>visit_id</th>\n",
       "      <th>process_step</th>\n",
       "      <th>date_time</th>\n",
       "      <th>Variation</th>\n",
       "      <th>previous_step</th>\n",
       "      <th>previous_date_time</th>\n",
       "      <th>error_flag</th>\n",
       "      <th>time_spent_seconds</th>\n",
       "    </tr>\n",
       "  </thead>\n",
       "  <tbody>\n",
       "    <tr>\n",
       "      <th>233507</th>\n",
       "      <td>105007</td>\n",
       "      <td>676020267_36602664238</td>\n",
       "      <td>100030127_47967100085_936361</td>\n",
       "      <td>start</td>\n",
       "      <td>2017-03-22 11:07:49</td>\n",
       "      <td>Control</td>\n",
       "      <td>NaN</td>\n",
       "      <td>NaT</td>\n",
       "      <td>True</td>\n",
       "      <td>NaN</td>\n",
       "    </tr>\n",
       "    <tr>\n",
       "      <th>26884</th>\n",
       "      <td>5623007</td>\n",
       "      <td>700426174_33289797318</td>\n",
       "      <td>100037962_47432393712_705583</td>\n",
       "      <td>start</td>\n",
       "      <td>2017-04-14 16:41:51</td>\n",
       "      <td>Control</td>\n",
       "      <td>NaN</td>\n",
       "      <td>NaT</td>\n",
       "      <td>True</td>\n",
       "      <td>NaN</td>\n",
       "    </tr>\n",
       "  </tbody>\n",
       "</table>\n",
       "</div>"
      ],
      "text/plain": [
       "        client_id             visitor_id                      visit_id  \\\n",
       "233507     105007  676020267_36602664238  100030127_47967100085_936361   \n",
       "26884     5623007  700426174_33289797318  100037962_47432393712_705583   \n",
       "\n",
       "       process_step           date_time Variation previous_step  \\\n",
       "233507        start 2017-03-22 11:07:49   Control           NaN   \n",
       "26884         start 2017-04-14 16:41:51   Control           NaN   \n",
       "\n",
       "       previous_date_time  error_flag  time_spent_seconds  \n",
       "233507                NaT        True                 NaN  \n",
       "26884                 NaT        True                 NaN  "
      ]
     },
     "execution_count": 70,
     "metadata": {},
     "output_type": "execute_result"
    }
   ],
   "source": [
    "df_timestamps_clean_v_control.head(2)"
   ]
  },
  {
   "cell_type": "code",
   "execution_count": 71,
   "id": "705a8f94-3263-400c-b6de-775f62f8888c",
   "metadata": {},
   "outputs": [
    {
     "name": "stdout",
     "output_type": "stream",
     "text": [
      "Step step_1: t-statistic = -9.728, p-value = 0.000\n",
      "Step step_1: There is a significant difference between Test and Control.\n",
      "\n",
      "Step step_2: t-statistic = 6.504, p-value = 0.000\n",
      "Step step_2: There is a significant difference between Test and Control.\n",
      "\n",
      "Step step_3: t-statistic = -0.788, p-value = 0.431\n",
      "Step step_3: No significant difference between Test and Control.\n",
      "\n",
      "Step confirm: t-statistic = -12.889, p-value = 0.000\n",
      "Step confirm: There is a significant difference between Test and Control.\n",
      "\n"
     ]
    }
   ],
   "source": [
    "### Two Sample T-Test of independent Samples to test individual steps\n",
    "\n",
    "# Hx0: new design does not impact time spent per step x\n",
    "# Hx1: new design impacts time spent per step x\n",
    "\n",
    "# Steps to evaluate, excluding start due to no step before it\n",
    "steps = [\"step_1\", \"step_2\", \"step_3\", \"confirm\"]\n",
    "\n",
    "for step in steps:\n",
    "    # Filter data for each group and step\n",
    "    test_group = df_timestamps_group_test[(df_timestamps_group_test['Variation'] == 'Test') & (df_timestamps_group_test['process_step'] == step)]\n",
    "    control_group = df_timestamps_group_control[(df_timestamps_group_control['Variation'] == 'Control') & (df_timestamps_group_control['process_step'] == step)]\n",
    "\n",
    "    # Drop null values\n",
    "    test_group = test_group.dropna(subset=[\"time_spent_seconds\"])\n",
    "    control_group = control_group.dropna(subset=[\"time_spent_seconds\"])   \n",
    "\n",
    "    # Conduct an independent two-sample t-test for each step\n",
    "    t_stat, p_value = stats.ttest_ind(test_group[\"time_spent_seconds\"], control_group[\"time_spent_seconds\"], equal_var=False)  # Set equal_var=True if variances are equal\n",
    "\n",
    "    # Print results\n",
    "    print(f\"Step {step}: t-statistic = {t_stat:.3f}, p-value = {p_value:.3f}\")\n",
    "    \n",
    "    # Interpretation\n",
    "    if p_value < 0.05:  # Assuming a significance level of 0.05\n",
    "        print(f\"Step {step}: There is a significant difference between Test and Control.\\n\")\n",
    "    else:\n",
    "        print(f\"Step {step}: No significant difference between Test and Control.\\n\")\n"
   ]
  },
  {
   "cell_type": "code",
   "execution_count": 72,
   "id": "3f63afeb-d1c8-4c7a-a461-40a054689f00",
   "metadata": {},
   "outputs": [
    {
     "name": "stdout",
     "output_type": "stream",
     "text": [
      "Overall ANOVA comparison across all steps: F-statistic = 189.395, p-value = 4.522805493525243e-43\n",
      "There is a significant difference between Test and Control across all steps.\n",
      "\n"
     ]
    }
   ],
   "source": [
    "### One-Way ANOVA to test and control group over all steps\n",
    "\n",
    "# H0: new design does not impact time spent for the entiretiy of the process\n",
    "# H1: new design impacts time spent for the entiretiy of the process\n",
    "\n",
    "# Steps to evaluate\n",
    "steps = [\"step_1\", \"step_2\", \"step_3\", \"confirm\"]\n",
    "\n",
    "# Create empty lists to store time spent for test and control groups across all steps\n",
    "test_times = []\n",
    "control_times = []\n",
    "\n",
    "for step in steps:\n",
    "    # Filter data for each group and step\n",
    "    test_group = df_timestamps_group_test[(df_timestamps_group_test['Variation'] == 'Test') & (df_timestamps_group_test['process_step'] == step)]\n",
    "    control_group = df_timestamps_group_control[(df_timestamps_group_control['Variation'] == 'Control') & (df_timestamps_group_control['process_step'] == step)]\n",
    "\n",
    "    # Drop null values\n",
    "    test_group = test_group.dropna(subset=[\"time_spent_seconds\"])\n",
    "    control_group = control_group.dropna(subset=[\"time_spent_seconds\"])\n",
    "\n",
    "    # Append time spent for each step to the corresponding list\n",
    "    test_times.extend(test_group[\"time_spent_seconds\"].tolist())\n",
    "    control_times.extend(control_group[\"time_spent_seconds\"].tolist())\n",
    "\n",
    "# Conduct a one-way ANOVA for the combined data across all steps\n",
    "f_stat, p_value = stats.f_oneway(test_times, control_times)\n",
    "\n",
    "# Print the results for the overall ANOVA across all steps\n",
    "print(f\"Overall ANOVA comparison across all steps: F-statistic = {f_stat:.3f}, p-value = {p_value}\")\n",
    "\n",
    "# Interpretation\n",
    "if p_value < 0.05:  # Assuming a significance level of 0.05\n",
    "    print(\"There is a significant difference between Test and Control across all steps.\\n\")\n",
    "else:\n",
    "    print(\"No significant difference between Test and Control across all steps.\\n\")\n"
   ]
  },
  {
   "cell_type": "markdown",
   "id": "0b093dd6-4847-4be2-b6ef-43d33f06e6dc",
   "metadata": {},
   "source": [
    "#### Conclusion\n",
    "\n",
    "Why is the F-Statistic So High Despite Step 3’s Non-significance?\n",
    "ANOVA focuses on the overall differences between the groups, rather than just individual steps. Even though Step 3 does not show a significant difference, the significant results at Steps 1, 2, and Confirm are substantial enough that they outweigh the lack of difference at Step 3, resulting in the large F-statistic.\n",
    "\n",
    "To Re-Explain the F-Statistic of 189 in This New Context:\n",
    "\"The F-statistic of 189.395 reflects the fact that, overall, the Test and Control groups have significantly different time spent across most steps of the process. Specifically, large differences in time spent at Step 1, Step 2, and the Confirm step drive this strong statistical signal. Even though there is no significant difference at Step 3, the substantial differences at the other steps result in a large F-statistic. This indicates that, across the process as a whole, the Test and Control groups behave very differently, with the Test group often spending less time than the Control group.\"\n",
    "\n",
    "In summary, the F-statistic gives us a broad, overall view of the differences between the two groups. It indicates that when we look at all the steps combined, the Test and Control groups are very different, largely driven by significant differences in the majority of the steps."
   ]
  },
  {
   "cell_type": "code",
   "execution_count": null,
   "id": "fd1641fb-b4be-40d6-a29c-f9394028fcdf",
   "metadata": {},
   "outputs": [],
   "source": []
  }
 ],
 "metadata": {
  "kernelspec": {
   "display_name": "Python 3 (ipykernel)",
   "language": "python",
   "name": "python3"
  },
  "language_info": {
   "codemirror_mode": {
    "name": "ipython",
    "version": 3
   },
   "file_extension": ".py",
   "mimetype": "text/x-python",
   "name": "python",
   "nbconvert_exporter": "python",
   "pygments_lexer": "ipython3",
   "version": "3.12.4"
  }
 },
 "nbformat": 4,
 "nbformat_minor": 5
}
