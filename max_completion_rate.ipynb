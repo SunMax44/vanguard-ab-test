{
 "cells": [
  {
   "cell_type": "code",
   "execution_count": 15,
   "id": "9c5c41c8-d42a-419b-b76b-9446d700adf0",
   "metadata": {},
   "outputs": [],
   "source": [
    "import pandas as pd\n",
    "import matplotlib.pyplot as plt\n",
    "import seaborn as sns\n",
    "import numpy as np\n",
    "%matplotlib inline"
   ]
  },
  {
   "cell_type": "code",
   "execution_count": 17,
   "id": "22be8e97-fe87-40e5-9e08-0dfbfc0c1d8a",
   "metadata": {},
   "outputs": [
    {
     "data": {
      "text/plain": [
       "process_step\n",
       "start      201760\n",
       "step_1     135229\n",
       "step_2     109916\n",
       "step_3      92309\n",
       "confirm     85232\n",
       "Name: count, dtype: int64"
      ]
     },
     "execution_count": 17,
     "metadata": {},
     "output_type": "execute_result"
    }
   ],
   "source": [
    "df_web_ex = pd.read_csv('cleaned_data/df_web_ex_cleaned_part2_visitor_ids.csv')\n",
    "df_web_ex['process_step'].value_counts()"
   ]
  },
  {
   "cell_type": "code",
   "execution_count": 28,
   "id": "c99050b3-f8d5-4599-a987-936b4a6bfced",
   "metadata": {},
   "outputs": [
    {
     "data": {
      "text/plain": [
       "15123"
      ]
     },
     "execution_count": 28,
     "metadata": {},
     "output_type": "execute_result"
    }
   ],
   "source": [
    "# Group by 'visitor_id' and count visits for both groups\n",
    "visitors_grouped = df_web_ex.groupby('visitor_id')\n",
    "\n",
    "# Define the required process steps\n",
    "required_steps = ['start', 'step_1', 'step_2', 'step_3', 'confirm']\n",
    "\n",
    "# Filter groups (visits) where all required steps are present\n",
    "df_success_visits = visitors_grouped.filter(lambda x: all(step in x['process_step'].values for step in required_steps))\n",
    "\n",
    "#Filter groups in Test and Control\n",
    "df_success_test = df_success_visits[df_success_visits['Variation'] == 'Test']\n",
    "df_success_control = df_success_visits[df_success_visits['Variation'] == 'Control']\n",
    "\n",
    "# Count the number of successful visits for Test and Control\n",
    "n_success_visits_test = df_success_test['visitor_id'].nunique() #18272\n",
    "\n",
    "n_success_visits_control = df_success_control['visitor_id'].nunique() #15123"
   ]
  },
  {
   "cell_type": "code",
   "execution_count": 24,
   "id": "c929a54d-4077-4310-a793-ab15dd086fee",
   "metadata": {},
   "outputs": [
    {
     "data": {
      "text/plain": [
       "26277"
      ]
     },
     "execution_count": 24,
     "metadata": {},
     "output_type": "execute_result"
    }
   ],
   "source": [
    "#get total visitor_ids of each variation:\n",
    "total_visitors_control = df_web_ex[df_web_ex['Variation'] == 'Control']['visitor_id'].nunique() #26277\n",
    "total_visitors_test = df_web_ex[df_web_ex['Variation'] == 'Test']['visitor_id'].nunique() #29919"
   ]
  },
  {
   "cell_type": "code",
   "execution_count": 30,
   "id": "4a093adb-e0fa-4483-94bc-97c5b090a9d4",
   "metadata": {},
   "outputs": [
    {
     "data": {
      "text/plain": [
       "(0.6107155987833818, 0.575522319899532)"
      ]
     },
     "execution_count": 30,
     "metadata": {},
     "output_type": "execute_result"
    }
   ],
   "source": [
    "# Calculate the completion rate\n",
    "completion_rate_test = n_success_visits_test / total_visitors_test\n",
    "completion_rate_control = n_success_visits_control / total_visitors_control\n",
    "# Output the completion rate\n",
    "completion_rate_test,completion_rate_control\n",
    "#61.07%, 57.55%"
   ]
  },
  {
   "cell_type": "code",
   "execution_count": 11,
   "id": "d8565a8d-7f6c-4077-baf9-8a534ddea189",
   "metadata": {},
   "outputs": [
    {
     "data": {
      "text/plain": [
       "(37136, 32189)"
      ]
     },
     "execution_count": 11,
     "metadata": {},
     "output_type": "execute_result"
    }
   ],
   "source": [
    "#same procedure for visit_ids now:\n",
    "#Group by 'visit_id' and count visits for both groups\n",
    "visits_grouped = df_web_ex.groupby('visit_id')\n",
    "\n",
    "# Define the required process steps in order\n",
    "required_steps = ['start', 'step_1', 'step_2', 'step_3', 'confirm']\n",
    "\n",
    "# Filter groups (visits) where all required steps are present\n",
    "df_success_visits = visits_grouped.filter(lambda x: all(step in x['process_step'].values for step in required_steps))\n",
    "\n",
    "#Filter groups in Test and Control\n",
    "df_success_test = df_success_visits[df_success_visits['Variation'] == 'Test']\n",
    "df_success_control = df_success_visits[df_success_visits['Variation'] == 'Control']\n",
    "\n",
    "# Count the number of successful visits for Test and Control\n",
    "n_success_visits_test = df_success_test['visit_id'].nunique() #17857\n",
    "\n",
    "n_success_visits_control = df_success_control['visit_id'].nunique() #14816\n",
    "\n",
    "#get total visit_ids of each variation:\n",
    "total_visits_test = df_web_ex[df_web_ex['Variation'] == 'Test']['visit_id'].nunique() #37136\n",
    "total_visits_control = df_web_ex[df_web_ex['Variation'] == 'Control']['visit_id'].nunique() #32189"
   ]
  },
  {
   "cell_type": "code",
   "execution_count": 13,
   "id": "c696f980-f541-4f47-b356-c4b7be47b1d0",
   "metadata": {},
   "outputs": [
    {
     "data": {
      "text/plain": [
       "(0.4808541576906506, 0.46028146261145114)"
      ]
     },
     "execution_count": 13,
     "metadata": {},
     "output_type": "execute_result"
    }
   ],
   "source": [
    "# Calculate the completion rate\n",
    "completion_rate_test = n_success_visits_test / total_visits_test\n",
    "completion_rate_control = n_success_visits_control / total_visits_control\n",
    "# Output the completion rate\n",
    "completion_rate_test,completion_rate_control\n",
    "#48.09%, 46.02%"
   ]
  },
  {
   "cell_type": "code",
   "execution_count": 41,
   "id": "42dc38e3-67e6-464c-8c92-ba0e888f5e2e",
   "metadata": {},
   "outputs": [
    {
     "data": {
      "text/plain": [
       "(8.477273387709015, 2.3053279978218766e-17)"
      ]
     },
     "execution_count": 41,
     "metadata": {},
     "output_type": "execute_result"
    }
   ],
   "source": [
    "#H0: New design does not make a difference\n",
    "#H1: There is a difference\n",
    "from statsmodels.stats.proportion import proportions_ztest\n",
    "#perform z-test with total visitor_ids in each testing group and the two corresponding completion rates:\n",
    "stat, p_value = proportions_ztest(np.array([0.6107155987833818*29919,0.575522319899532*26277]), np.array([29919,26277]))\n",
    "stat, p_value"
   ]
  },
  {
   "cell_type": "code",
   "execution_count": null,
   "id": "d589ca17-babe-4eb6-8d17-193d736857b9",
   "metadata": {},
   "outputs": [],
   "source": [
    "#why z-test and yes it is possible without the sigma of the population\n",
    "'''Short Answer:\n",
    "For the Z-test for proportions (which you used to compare the confirmation rates between group A and group B),\n",
    "you do NOT need the population standard deviation. Instead, the Z-test for proportions uses the sample proportions to\n",
    "estimate the standard error.\n",
    "\n",
    "Detailed Explanation:\n",
    "When you're comparing two proportions (such as confirmation rates for A/B groups), the Z-test formula doesn’t require\n",
    "the population standard deviation. Instead, it calculates the standard error of the difference in proportions based on the\n",
    "data you have from your samples.'''\n",
    "\n",
    "'''Z-Test for Proportions:\n",
    "The Z-test is specifically used when you want to compare two proportions (such as confirmation rates) from different groups.\n",
    "In your case, where you are comparing the confirmation rates of group A (new design) and group B (old design), the Z-test is\n",
    "commonly used.\n",
    "\n",
    "When to Use the Z-Test:\n",
    "Comparing two groups: The Z-test is appropriate when you have two independent groups and you are comparing their proportions\n",
    "(such as group A and group B). Large sample size: The Z-test relies on the assumption that the sample size is large enough\n",
    "for the normal approximation to be valid. Generally, each group should have at least 10 successes and 10 failures to ensure\n",
    "accuracy. Hypothesis testing: It is specifically useful when you want to determine whether the difference between the\n",
    "two proportions is statistically significant.'''"
   ]
  },
  {
   "cell_type": "code",
   "execution_count": null,
   "id": "ca5d3c7c-274d-4201-8a17-6bb3bafb4a73",
   "metadata": {},
   "outputs": [],
   "source": [
    "#whole long format:\n",
    "'''import numpy as np\n",
    "from statsmodels.stats.proportion import proportions_ztest\n",
    "\n",
    "# Data for group A (new design)\n",
    "confirm_A = 610  # Number of confirmations in group A\n",
    "total_A = 1000   # Total participants in group A\n",
    "\n",
    "# Data for group B (old design)\n",
    "confirm_B = 570  # Number of confirmations in group B\n",
    "total_B = 1000   # Total participants in group B\n",
    "\n",
    "# Combine the data\n",
    "counts = np.array([confirm_A, confirm_B])  # Number of successes (confirmations) in each group\n",
    "nobs = np.array([total_A, total_B])        # Number of total participants (sample size) in each group\n",
    "\n",
    "# Perform the Z-test for proportions\n",
    "stat, p_value = proportions_ztest(counts, nobs)\n",
    "\n",
    "# Output the Z-test statistic and the p-value\n",
    "print(f\"Z-statistic: {stat:.4f}\")\n",
    "print(f\"P-value: {p_value:.4f}\")\n",
    "\n",
    "# Interpret the result based on a significance level of 0.05\n",
    "if p_value < 0.05:\n",
    "    print(\"Reject the null hypothesis. The difference is statistically significant.\")\n",
    "else:\n",
    "    print(\"Fail to reject the null hypothesis. The difference is not statistically significant.\")'''\n"
   ]
  }
 ],
 "metadata": {
  "kernelspec": {
   "display_name": "Python 3 (ipykernel)",
   "language": "python",
   "name": "python3"
  },
  "language_info": {
   "codemirror_mode": {
    "name": "ipython",
    "version": 3
   },
   "file_extension": ".py",
   "mimetype": "text/x-python",
   "name": "python",
   "nbconvert_exporter": "python",
   "pygments_lexer": "ipython3",
   "version": "3.12.4"
  }
 },
 "nbformat": 4,
 "nbformat_minor": 5
}
