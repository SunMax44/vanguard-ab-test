{
 "cells": [
  {
   "cell_type": "code",
   "execution_count": 8,
   "id": "9c5c41c8-d42a-419b-b76b-9446d700adf0",
   "metadata": {},
   "outputs": [],
   "source": [
    "import pandas as pd\n",
    "import matplotlib.pyplot as plt\n",
    "import seaborn as sns\n",
    "import numpy as np\n",
    "%matplotlib inline"
   ]
  },
  {
   "cell_type": "code",
   "execution_count": 9,
   "id": "22be8e97-fe87-40e5-9e08-0dfbfc0c1d8a",
   "metadata": {},
   "outputs": [
    {
     "data": {
      "text/plain": [
       "process_step\n",
       "start      202439\n",
       "step_1     135733\n",
       "step_2     110366\n",
       "step_3      92714\n",
       "confirm     85631\n",
       "Name: count, dtype: int64"
      ]
     },
     "execution_count": 9,
     "metadata": {},
     "output_type": "execute_result"
    }
   ],
   "source": [
    "df_web_ex = pd.read_csv('cleaned_data/df_web_ex_cleaned_part2_visitor_ids.csv')\n",
    "df_web_ex['process_step'].value_counts()"
   ]
  },
  {
   "cell_type": "code",
   "execution_count": 28,
   "id": "c99050b3-f8d5-4599-a987-936b4a6bfced",
   "metadata": {},
   "outputs": [
    {
     "data": {
      "text/plain": [
       "15123"
      ]
     },
     "execution_count": 28,
     "metadata": {},
     "output_type": "execute_result"
    }
   ],
   "source": [
    "# Group by 'visitor_id' and count visits for both groups\n",
    "visits_grouped = df_web_ex.groupby('visitor_id')\n",
    "\n",
    "# Define the required process steps in order\n",
    "required_steps = ['start', 'step_1', 'step_2', 'step_3', 'confirm']\n",
    "\n",
    "# Filter groups (visits) where all required steps are present\n",
    "df_success_visits = visits_grouped.filter(lambda x: all(step in x['process_step'].values for step in required_steps))\n",
    "\n",
    "#Filter groups in Test and Control\n",
    "df_success_test = df_success_visits[df_success_visits['Variation'] == 'Test']\n",
    "df_success_control = df_success_visits[df_success_visits['Variation'] == 'Control']\n",
    "\n",
    "# Count the number of successful visits for Test and Control\n",
    "n_success_visits_test = df_success_test['visitor_id'].nunique() #18272\n",
    "\n",
    "n_success_visits_control = df_success_control['visitor_id'].nunique() #15123"
   ]
  },
  {
   "cell_type": "code",
   "execution_count": 24,
   "id": "c929a54d-4077-4310-a793-ab15dd086fee",
   "metadata": {},
   "outputs": [
    {
     "data": {
      "text/plain": [
       "26277"
      ]
     },
     "execution_count": 24,
     "metadata": {},
     "output_type": "execute_result"
    }
   ],
   "source": [
    "#get total visitor_ids of each variation:\n",
    "total_visits_control = df_web_ex[df_web_ex['Variation'] == 'Control']['visitor_id'].nunique() #26277\n",
    "total_visits_test = df_web_ex[df_web_ex['Variation'] == 'Test']['visitor_id'].nunique() #29919\n",
    "\n"
   ]
  },
  {
   "cell_type": "code",
   "execution_count": 30,
   "id": "4a093adb-e0fa-4483-94bc-97c5b090a9d4",
   "metadata": {},
   "outputs": [
    {
     "data": {
      "text/plain": [
       "(0.6107155987833818, 0.575522319899532)"
      ]
     },
     "execution_count": 30,
     "metadata": {},
     "output_type": "execute_result"
    }
   ],
   "source": [
    "# Calculate the completion rate\n",
    "completion_rate_test = n_success_visits_test / total_visits_test\n",
    "completion_rate_control = n_success_visits_control / total_visits_control\n",
    "# Output the completion rate\n",
    "completion_rate_test,completion_rate_control\n",
    "#61.07%, 57.55%"
   ]
  },
  {
   "cell_type": "code",
   "execution_count": 30,
   "id": "d8565a8d-7f6c-4077-baf9-8a534ddea189",
   "metadata": {},
   "outputs": [
    {
     "data": {
      "text/plain": [
       "Variation\n",
       "Test       177847\n",
       "Control    143462\n",
       "Name: count, dtype: int64"
      ]
     },
     "execution_count": 30,
     "metadata": {},
     "output_type": "execute_result"
    }
   ],
   "source": [
    "#same procedure for visit_ids now:"
   ]
  },
  {
   "cell_type": "code",
   "execution_count": null,
   "id": "c696f980-f541-4f47-b356-c4b7be47b1d0",
   "metadata": {},
   "outputs": [],
   "source": []
  },
  {
   "cell_type": "code",
   "execution_count": null,
   "id": "ecc5f363-503c-47e2-8b65-a4d9e784202f",
   "metadata": {},
   "outputs": [],
   "source": []
  }
 ],
 "metadata": {
  "kernelspec": {
   "display_name": "Python 3 (ipykernel)",
   "language": "python",
   "name": "python3"
  },
  "language_info": {
   "codemirror_mode": {
    "name": "ipython",
    "version": 3
   },
   "file_extension": ".py",
   "mimetype": "text/x-python",
   "name": "python",
   "nbconvert_exporter": "python",
   "pygments_lexer": "ipython3",
   "version": "3.12.4"
  }
 },
 "nbformat": 4,
 "nbformat_minor": 5
}
